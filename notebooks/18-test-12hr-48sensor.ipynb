{
 "cells": [
  {
   "cell_type": "code",
   "execution_count": null,
   "id": "f7d17c63-62bf-477e-8474-f934bd75f7f7",
   "metadata": {
    "collapsed": true,
    "jupyter": {
     "outputs_hidden": true
    },
    "tags": []
   },
   "outputs": [],
   "source": [
    "!pip install torch==1.11.0  # version recommended by source\n",
    "!pip install git+https://github.com/gretelai/gretel-synthetics.git"
   ]
  },
  {
   "cell_type": "code",
   "execution_count": null,
   "id": "77f7386f-6857-4778-ae77-bf8c748c96f3",
   "metadata": {},
   "outputs": [],
   "source": [
    "import pandas as pd\n",
    "import numpy as np\n",
    "\n",
    "import matplotlib.pyplot as plt\n",
    "import matplotlib.dates as md\n",
    "from sklearn.preprocessing import MinMaxScaler\n",
    "from pickle import dump, load\n",
    "from skimage.util.shape import view_as_windows\n",
    "import time\n",
    "\n",
    "import torch\n",
    "\n",
    "from gretel_synthetics.timeseries_dgan.dgan import DGAN\n",
    "from gretel_synthetics.timeseries_dgan.config import DGANConfig, OutputType"
   ]
  },
  {
   "cell_type": "code",
   "execution_count": null,
   "id": "224bed50-c2e0-498d-ba86-18ff6e26489a",
   "metadata": {},
   "outputs": [],
   "source": [
    "slice0 = pd.read_csv(\"../data/kagglePump/full_slice0.csv\")\n",
    "slice1 = pd.read_csv(\"../data/kagglePump/full_slice1.csv\")\n",
    "slice2 = pd.read_csv(\"../data/kagglePump/full_slice2.csv\")\n",
    "slice3 = pd.read_csv(\"../data/kagglePump/full_slice3.csv\")\n",
    "slice4 = pd.read_csv(\"../data/kagglePump/full_slice4.csv\")\n",
    "slice5 = pd.read_csv(\"../data/kagglePump/full_slice5.csv\")\n",
    "slice6 = pd.read_csv(\"../data/kagglePump/full_slice6.csv\")\n",
    "\n",
    "\n",
    "print(\n",
    "    slice0.shape,\n",
    "    slice1.shape,\n",
    "    slice2.shape,\n",
    "    slice3.shape,\n",
    "    slice4.shape,\n",
    "    slice5.shape,\n",
    "    slice6.shape,\n",
    ")"
   ]
  },
  {
   "cell_type": "code",
   "execution_count": null,
   "id": "e91d4420-b151-44aa-bca5-1fb1c36051b8",
   "metadata": {},
   "outputs": [],
   "source": [
    "slices_list = [slice0, slice1, slice2, slice3, slice4, slice5, slice6]\n",
    "\n",
    "# removing the slice4 as its too different from the others.\n",
    "# as found in plots in notebook 10.\n",
    "\n",
    "slices_list.pop(4)\n",
    "\n",
    "print(len(slices_list))"
   ]
  },
  {
   "cell_type": "code",
   "execution_count": null,
   "id": "3fb7e922-dee1-4eab-826e-f34bb7d09b0b",
   "metadata": {},
   "outputs": [],
   "source": [
    "COLS_TO_DROP = [\"Unnamed: 0\", \"sensor_00\", \"sensor_15\", \"sensor_50\", \"sensor_51\"]\n",
    "cleanup_nums = {\"machine_status\": {\"NORMAL\": 0, \"BROKEN\": 1, \"RECOVERING\": 2}}\n",
    "\n",
    "for sl in slices_list:\n",
    "    sl[\"timestamp\"] = pd.to_datetime(sl[\"timestamp\"])  # cast to datatype\n",
    "    sl = sl.drop(COLS_TO_DROP, axis=1, inplace=True)  # drop cols\n",
    "\n",
    "for sl in slices_list:\n",
    "    sl = sl.replace(cleanup_nums)\n",
    "\n",
    "for sl in slices_list:\n",
    "    sl = sl.dropna(axis=0, inplace=True)  # drop nans"
   ]
  },
  {
   "cell_type": "code",
   "execution_count": null,
   "id": "6229ce53-8db2-4de8-b03b-f05509272007",
   "metadata": {},
   "outputs": [],
   "source": [
    "# these plots are absurd in size but lets do it anyways\n",
    "def plot_slice(one_slice):\n",
    "    # subplot matrix\n",
    "    fig, axes = plt.subplots(10, 5, figsize=(20, 20))\n",
    "    fig.tight_layout()\n",
    "\n",
    "    for col, ax in zip(one_slice.columns[1:-1], axes.flat):\n",
    "        one_slice[col].plot.line(ax=ax)\n",
    "        ax.set_title(col)\n",
    "    # disable leftover axes\n",
    "    for ax in axes.flat[one_slice.columns[1:-1].size :]:\n",
    "        ax.set_axis_off()"
   ]
  },
  {
   "cell_type": "code",
   "execution_count": null,
   "id": "ae88ecbf-1f49-43b6-97c4-9549c3d8fcf4",
   "metadata": {},
   "outputs": [],
   "source": [
    "plot_slice(slice0)"
   ]
  },
  {
   "cell_type": "code",
   "execution_count": null,
   "id": "7babd0b9-1f99-4de3-88e5-7c1296fc5ada",
   "metadata": {},
   "outputs": [],
   "source": [
    "for i in range(len(slices_list)):\n",
    "    slices_list[i] = slices_list[i].drop(columns=[\"timestamp\"]).to_numpy()\n",
    "    slices_list[i] = np.array(slices_list[i][1:])\n",
    "    print(slices_list[i].shape)"
   ]
  },
  {
   "cell_type": "code",
   "execution_count": null,
   "id": "1f840eb0-fa55-4d2f-97b0-185904f51288",
   "metadata": {},
   "outputs": [],
   "source": [
    "# from list of nps to np of nps\n",
    "slices_list = np.asarray(slices_list)\n",
    "slices_list.shape"
   ]
  },
  {
   "cell_type": "code",
   "execution_count": null,
   "id": "a72c26d6-0d12-41e7-a357-a1de85842aaf",
   "metadata": {},
   "outputs": [],
   "source": [
    "# set up DGAN config.\n",
    "\n",
    "config = DGANConfig(\n",
    "    max_sequence_len=720,  # hard coded from prev shape\n",
    "    sample_len=20,  # trying a larger sample_len\n",
    "    batch_size=min(1000, 300),\n",
    "    apply_feature_scaling=True,\n",
    "    apply_example_scaling=False,\n",
    "    use_attribute_discriminator=False,\n",
    "    generator_learning_rate=1e-4,\n",
    "    discriminator_learning_rate=1e-4,\n",
    "    epochs=10000,\n",
    ")\n",
    "\n",
    "model = DGAN(config)\n",
    "\n",
    "model = model.load(\n",
    "    \"../models/dgan_model_4_48_sensors.pt\", map_location=torch.device(\"cpu\")\n",
    ")"
   ]
  }
 ],
 "metadata": {
  "kernelspec": {
   "display_name": "Python 3 (ipykernel)",
   "language": "python",
   "name": "python3"
  },
  "language_info": {
   "codemirror_mode": {
    "name": "ipython",
    "version": 3
   },
   "file_extension": ".py",
   "mimetype": "text/x-python",
   "name": "python",
   "nbconvert_exporter": "python",
   "pygments_lexer": "ipython3",
   "version": "3.8.8"
  }
 },
 "nbformat": 4,
 "nbformat_minor": 5
}
