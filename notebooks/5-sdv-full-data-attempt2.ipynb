{
 "cells": [
  {
   "cell_type": "code",
   "execution_count": null,
   "id": "0ef4d62f-2a2a-4417-b220-f00b3a4c1085",
   "metadata": {
    "tags": []
   },
   "outputs": [],
   "source": [
    "!pip install sdv"
   ]
  },
  {
   "cell_type": "code",
   "execution_count": null,
   "id": "46690744-3e7e-44cf-a1b1-8b04df14a5d9",
   "metadata": {},
   "outputs": [],
   "source": [
    "from sdv.timeseries import PAR\n",
    "import pandas as pd\n",
    "from sklearn.preprocessing import MinMaxScaler\n",
    "from sklearn.preprocessing import LabelEncoder\n",
    "from pickle import dump, load"
   ]
  },
  {
   "cell_type": "code",
   "execution_count": null,
   "id": "b6917eef-1537-419e-8a52-b023eb98e3e9",
   "metadata": {},
   "outputs": [],
   "source": [
    "# https://www.kaggle.com/code/xiaxiaxu/predictmachinefailureinadvance/data\n",
    "sensor = pd.read_csv(\"sensor.csv\")\n",
    "\n",
    "# only keeping cols w high var in pca analysis + machine status\n",
    "data = sensor[\n",
    "    [\"timestamp\", \"sensor_25\", \"sensor_11\", \"sensor_36\", \"sensor_34\", \"machine_status\"]\n",
    "]"
   ]
  },
  {
   "cell_type": "code",
   "execution_count": null,
   "id": "77ae7feb-a257-4295-bcbe-1db795aa9af5",
   "metadata": {},
   "outputs": [],
   "source": [
    "# okay, what can our machine status be?\n",
    "\n",
    "# data = data.convert_dtypes()\n",
    "print(data.dtypes, \"\\n\")\n",
    "data[\"timestamp\"] = pd.to_datetime(data[\"timestamp\"])\n",
    "\n",
    "data.machine_status.unique()"
   ]
  },
  {
   "cell_type": "code",
   "execution_count": null,
   "id": "e7555565-a3a4-46dc-9f0b-3ccc87d5d3f7",
   "metadata": {},
   "outputs": [],
   "source": [
    "data.loc[data[\"machine_status\"] == \"BROKEN\"]"
   ]
  },
  {
   "cell_type": "code",
   "execution_count": null,
   "id": "0330377b-278d-48be-86ca-9d179a96e967",
   "metadata": {},
   "outputs": [],
   "source": [
    "data_around_failures = data.iloc[16000:26000]\n",
    "len(data_around_failures)"
   ]
  },
  {
   "cell_type": "code",
   "execution_count": null,
   "id": "cbe2a4ea-d87c-4fb0-8804-e6214dc85076",
   "metadata": {},
   "outputs": [],
   "source": [
    "print(data_around_failures[data_around_failures.isna().any(axis=1)])\n",
    "\n",
    "# we only have one row with NA, let's simply drop that.\n",
    "\n",
    "data_around_failures.dropna(axis=0, inplace=True)\n",
    "\n",
    "print(data_around_failures[data_around_failures.isna().any(axis=1)])"
   ]
  },
  {
   "cell_type": "code",
   "execution_count": null,
   "id": "801a4086-6dd9-4426-9539-f40e66dabaa2",
   "metadata": {},
   "outputs": [],
   "source": [
    "scaler = MinMaxScaler((-1, 1))\n",
    "sensor_cols = [\"sensor_25\", \"sensor_11\", \"sensor_36\", \"sensor_34\"]\n",
    "\n",
    "# scaling our data, then saving our scaler object for future use.\n",
    "data_around_failures[sensor_cols] = scaler.fit_transform(\n",
    "    data_around_failures[sensor_cols]\n",
    ")\n",
    "\n",
    "dump(scaler, open(\"scaler_2.pkl\", \"wb\"))"
   ]
  },
  {
   "cell_type": "code",
   "execution_count": null,
   "id": "23d79108-04d1-4632-a5c2-cbfeda459fbb",
   "metadata": {},
   "outputs": [],
   "source": [
    "data_around_failures.head()"
   ]
  },
  {
   "cell_type": "code",
   "execution_count": null,
   "id": "643acc02-1f44-4f85-b22c-1d456723ee59",
   "metadata": {},
   "outputs": [],
   "source": [
    "# finding number of times machine status is diff vars\n",
    "\n",
    "n = data_around_failures.machine_status.value_counts()\n",
    "print(n)"
   ]
  },
  {
   "cell_type": "code",
   "execution_count": null,
   "id": "e8f01a9d-9f29-492f-b32f-3347e9b2f933",
   "metadata": {},
   "outputs": [],
   "source": [
    "# going to try to keep every 2 mins rather than every min\n",
    "\n",
    "thin_data = data_around_failures[data_around_failures.index % 2 == 0]\n",
    "thin_data"
   ]
  },
  {
   "cell_type": "code",
   "execution_count": null,
   "id": "4aa25b9e-a3b8-42db-974e-78fd0390a87c",
   "metadata": {},
   "outputs": [],
   "source": [
    "# thin_data = thin_data.convert_dtypes()\n",
    "\n",
    "print(thin_data.dtypes, \"\\n\")"
   ]
  },
  {
   "cell_type": "code",
   "execution_count": null,
   "id": "45bcf15c-6fd7-4b65-8715-4bd6d96bcce4",
   "metadata": {},
   "outputs": [],
   "source": [
    "sequence_index = \"timestamp\"\n",
    "# context_columns = ['machine_status']\n",
    "context_columns = None"
   ]
  },
  {
   "cell_type": "code",
   "execution_count": null,
   "id": "a746225c-787c-4da4-95d4-b9f31e0d424f",
   "metadata": {},
   "outputs": [],
   "source": [
    "model = PAR(\n",
    "    sequence_index=sequence_index,\n",
    "    context_columns=context_columns,\n",
    "    verbose=True,\n",
    "    epochs=256,\n",
    ")\n",
    "model.fit(thin_data)"
   ]
  },
  {
   "cell_type": "code",
   "execution_count": null,
   "id": "bbc485a9-3137-49d0-9d92-2c4f5234ac8c",
   "metadata": {},
   "outputs": [],
   "source": [
    "model.save(\"model_att_2.pkl\")"
   ]
  },
  {
   "cell_type": "code",
   "execution_count": null,
   "id": "0597b683-17fb-4b1e-9661-ea61c6632ae3",
   "metadata": {},
   "outputs": [],
   "source": [
    "sample = model.sample(1)"
   ]
  },
  {
   "cell_type": "code",
   "execution_count": null,
   "id": "22e6cefe-c2d9-4e32-a5a5-26cfc752e177",
   "metadata": {},
   "outputs": [],
   "source": [
    "import matplotlib.pyplot as plt\n",
    "\n",
    "\n",
    "thin_data.set_index(\"timestamp\").plot()"
   ]
  },
  {
   "cell_type": "code",
   "execution_count": null,
   "id": "137a1334-5312-48e7-ae56-f8e4e16468dc",
   "metadata": {},
   "outputs": [],
   "source": [
    "sample.set_index(\"timestamp\").plot()"
   ]
  },
  {
   "cell_type": "markdown",
   "id": "830d7552-10ab-4a3f-a463-55b9127acf80",
   "metadata": {},
   "source": [
    "gave up on the PAR model from SDV after this + consulting with the SDV [slack](https://app.slack.com/client/T017A503B3M/C01GSDFSQ93) - they recommended trying out their CTGAN model which I do in notebook 6."
   ]
  }
 ],
 "metadata": {
  "kernelspec": {
   "display_name": "Python 3 (ipykernel)",
   "language": "python",
   "name": "python3"
  },
  "language_info": {
   "codemirror_mode": {
    "name": "ipython",
    "version": 3
   },
   "file_extension": ".py",
   "mimetype": "text/x-python",
   "name": "python",
   "nbconvert_exporter": "python",
   "pygments_lexer": "ipython3",
   "version": "3.8.8"
  }
 },
 "nbformat": 4,
 "nbformat_minor": 5
}
