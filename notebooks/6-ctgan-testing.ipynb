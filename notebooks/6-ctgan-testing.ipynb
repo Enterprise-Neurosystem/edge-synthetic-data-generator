{
 "cells": [
  {
   "cell_type": "code",
   "execution_count": null,
   "id": "420e3565-b7b2-4c16-b510-5e26f1e2009f",
   "metadata": {
    "tags": []
   },
   "outputs": [],
   "source": [
    "!pip install sdv~=1.0.1"
   ]
  },
  {
   "cell_type": "code",
   "execution_count": null,
   "id": "eb68c99b-b849-4b99-bd13-667cf8a6b511",
   "metadata": {},
   "outputs": [],
   "source": [
    "from sdv.tabular import CTGAN\n",
    "import pandas as pd\n",
    "from sklearn import preprocessing\n",
    "from sklearn.preprocessing import MinMaxScaler\n",
    "from sklearn.preprocessing import LabelEncoder\n",
    "from pickle import dump, load"
   ]
  },
  {
   "cell_type": "code",
   "execution_count": null,
   "id": "d33d217f-3bf5-47d6-9387-d92a4c190bcb",
   "metadata": {},
   "outputs": [],
   "source": [
    "# https://www.kaggle.com/code/xiaxiaxu/predictmachinefailureinadvance/data\n",
    "sensor = pd.read_csv(\"sensor.csv\")\n",
    "\n",
    "# only keeping cols w high var in pca analysis + machine status\n",
    "data = sensor[\n",
    "    [\"timestamp\", \"sensor_25\", \"sensor_11\", \"sensor_36\", \"sensor_34\", \"machine_status\"]\n",
    "]"
   ]
  },
  {
   "cell_type": "code",
   "execution_count": null,
   "id": "e897ba6d-06dd-4a0d-a069-76b24d0a5c68",
   "metadata": {},
   "outputs": [],
   "source": [
    "# okay, what can our machine status be?\n",
    "\n",
    "# data = data.convert_dtypes()\n",
    "print(data.dtypes, \"\\n\")\n",
    "# i have no idea why i have to run this line twice for it to work.\n",
    "data[\"timestamp\"] = pd.to_datetime(data[\"timestamp\"])\n",
    "\n",
    "data.machine_status.unique()"
   ]
  },
  {
   "cell_type": "code",
   "execution_count": null,
   "id": "28ef86a9-5bfa-424a-aa73-fff1e4bf67a6",
   "metadata": {},
   "outputs": [],
   "source": [
    "# okay, what can our machine status be?\n",
    "\n",
    "# data = data.convert_dtypes()\n",
    "print(data.dtypes, \"\\n\")\n",
    "# i have no idea why i have to run this line twice for it to work.\n",
    "data[\"timestamp\"] = pd.to_datetime(data[\"timestamp\"])\n",
    "\n",
    "data.machine_status.unique()"
   ]
  },
  {
   "cell_type": "code",
   "execution_count": null,
   "id": "9402f334-0e2b-4d47-98c3-877393d7b033",
   "metadata": {},
   "outputs": [],
   "source": [
    "data_around_failures = data.iloc[16000:26000]\n",
    "len(data_around_failures)"
   ]
  },
  {
   "cell_type": "code",
   "execution_count": null,
   "id": "bfb099db-fc14-4571-af84-8d4bae837c8f",
   "metadata": {},
   "outputs": [],
   "source": [
    "print(data_around_failures[data_around_failures.isna().any(axis=1)])\n",
    "\n",
    "# we only have one row with NA, let's simply drop that.\n",
    "\n",
    "data_around_failures.dropna(axis=0, inplace=True)\n",
    "\n",
    "print(data_around_failures[data_around_failures.isna().any(axis=1)])"
   ]
  },
  {
   "cell_type": "code",
   "execution_count": null,
   "id": "7763514a-5059-4bbc-8787-6ee05baf1b3a",
   "metadata": {},
   "outputs": [],
   "source": [
    "scaler = MinMaxScaler((0, 1))\n",
    "sensor_cols = [\"sensor_25\", \"sensor_11\", \"sensor_36\", \"sensor_34\"]\n",
    "\n",
    "# scaling our data, then saving our scaler object for future use.\n",
    "data_around_failures[sensor_cols] = scaler.fit_transform(\n",
    "    data_around_failures[sensor_cols]\n",
    ")\n",
    "\n",
    "dump(scaler, open(\"ctgan_0_scaler.pkl\", \"wb\"))"
   ]
  },
  {
   "cell_type": "code",
   "execution_count": null,
   "id": "7427a646-db04-4269-ae8b-2f5555bfccc3",
   "metadata": {},
   "outputs": [],
   "source": [
    "data_around_failures.head()"
   ]
  },
  {
   "cell_type": "code",
   "execution_count": null,
   "id": "83a103b5-b886-4c31-9e91-a467414d3258",
   "metadata": {},
   "outputs": [],
   "source": [
    "# finding number of times machine status is diff vars\n",
    "\n",
    "n = data_around_failures.machine_status.value_counts()\n",
    "print(n)"
   ]
  },
  {
   "cell_type": "code",
   "execution_count": null,
   "id": "4a742df6-a739-465b-87e9-10cbfc69f606",
   "metadata": {},
   "outputs": [],
   "source": [
    "# going to try to keep every 2 minutes rather than every minute\n",
    "\n",
    "thin_data = data_around_failures[data_around_failures.index % 2 == 0]\n",
    "thin_data"
   ]
  },
  {
   "cell_type": "code",
   "execution_count": null,
   "id": "92b6e93c-0199-4930-9f94-d8ee82615a7e",
   "metadata": {},
   "outputs": [],
   "source": [
    "# thin_data = thin_data.convert_dtypes()\n",
    "\n",
    "print(thin_data.dtypes, \"\\n\")"
   ]
  },
  {
   "cell_type": "code",
   "execution_count": null,
   "id": "32f7c0db-fef5-4b4f-ba96-cb6d25722b0b",
   "metadata": {},
   "outputs": [],
   "source": [
    "model = CTGAN(\n",
    "    verbose=True,\n",
    "    epochs=500,\n",
    "    batch_size=300,\n",
    "    log_frequency=False,\n",
    "    embedding_dim=256,\n",
    "    discriminator_steps=3,\n",
    ")\n",
    "import time"
   ]
  },
  {
   "cell_type": "code",
   "execution_count": null,
   "id": "bba68007-2ea3-40ba-a190-36c6e594a00f",
   "metadata": {
    "collapsed": true,
    "jupyter": {
     "outputs_hidden": true
    },
    "tags": []
   },
   "outputs": [],
   "source": [
    "tic = time.perf_counter()\n",
    "model.fit(thin_data)\n",
    "toc = time.perf_counter()"
   ]
  },
  {
   "cell_type": "code",
   "execution_count": null,
   "id": "e07d7f8c-5b89-4ac1-93b9-ce9d0de6772a",
   "metadata": {},
   "outputs": [],
   "source": [
    "print(f\"Trained in {toc - tic:0.4f} seconds\")\n",
    "model.save(\"ctgan_model_new_params.pkl\")"
   ]
  },
  {
   "cell_type": "code",
   "execution_count": null,
   "id": "ffdfeca2-7595-4482-a384-5264bd4c6e44",
   "metadata": {},
   "outputs": [],
   "source": [
    "new_data = model.sample(num_rows=3000)"
   ]
  },
  {
   "cell_type": "code",
   "execution_count": null,
   "id": "11727720-050e-4272-8909-6a9c5b936a67",
   "metadata": {},
   "outputs": [],
   "source": [
    "new_data = new_data.sort_values(by=[\"timestamp\"])\n",
    "new_data"
   ]
  },
  {
   "cell_type": "code",
   "execution_count": null,
   "id": "70845ea5-56b3-402c-b08b-e0c219ce4a90",
   "metadata": {},
   "outputs": [],
   "source": [
    "import matplotlib.pyplot as plt\n",
    "\n",
    "# y='sensor_11'\n",
    "# thin_data.plot(y='sensor_11')\n",
    "thin_data.set_index(\"timestamp\").plot(y=\"sensor_34\")\n",
    "thin_data.set_index(\"timestamp\").plot()"
   ]
  },
  {
   "cell_type": "code",
   "execution_count": null,
   "id": "b6044b55-de5d-4e21-b30e-f997bef1f1ac",
   "metadata": {},
   "outputs": [],
   "source": [
    "new_data.set_index(\"timestamp\").plot(y=\"sensor_34\")\n",
    "new_data.set_index(\"timestamp\").plot()\n",
    "# new_data.plot(y='sensor_11')"
   ]
  },
  {
   "cell_type": "code",
   "execution_count": null,
   "id": "32c33a77-30db-4591-b5c6-2545ed81cb80",
   "metadata": {},
   "outputs": [],
   "source": [
    "dups_time = new_data.pivot_table(columns=[\"timestamp\"], aggfunc=\"size\")\n",
    "print(dups_time.sort_values())"
   ]
  },
  {
   "cell_type": "code",
   "execution_count": null,
   "id": "bee17368-e9c4-4793-b5f1-7fa20cd649e8",
   "metadata": {},
   "outputs": [],
   "source": [
    "no_dups = new_data.groupby(\"timestamp\").mean().reset_index()\n",
    "no_dups"
   ]
  },
  {
   "cell_type": "code",
   "execution_count": null,
   "id": "1985e0b3-0563-4e9d-993d-29b37a8efb1d",
   "metadata": {},
   "outputs": [],
   "source": [
    "new_data.set_index(\"timestamp\").plot(y=\"sensor_34\")\n",
    "new_data.set_index(\"timestamp\").plot()"
   ]
  },
  {
   "cell_type": "markdown",
   "id": "7622bfca-7285-40c4-8494-7ee7cba5f457",
   "metadata": {},
   "source": [
    "I tested this model with a wide variety of hyperparameters on Monday 7/11, with no luck. I think that it's safe to give up on SDV for our purposes. "
   ]
  },
  {
   "cell_type": "code",
   "execution_count": null,
   "id": "02b9a2a0-1da0-4638-b7a2-c687eada25c1",
   "metadata": {},
   "outputs": [],
   "source": []
  }
 ],
 "metadata": {
  "kernelspec": {
   "display_name": "Python 3 (ipykernel)",
   "language": "python",
   "name": "python3"
  },
  "language_info": {
   "codemirror_mode": {
    "name": "ipython",
    "version": 3
   },
   "file_extension": ".py",
   "mimetype": "text/x-python",
   "name": "python",
   "nbconvert_exporter": "python",
   "pygments_lexer": "ipython3",
   "version": "3.8.8"
  }
 },
 "nbformat": 4,
 "nbformat_minor": 5
}
