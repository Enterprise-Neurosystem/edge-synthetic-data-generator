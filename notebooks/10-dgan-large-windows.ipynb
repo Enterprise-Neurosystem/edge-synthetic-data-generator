{
 "cells": [
  {
   "cell_type": "code",
   "execution_count": null,
   "id": "33cb0898-f8d1-4a9d-a2f4-eaf4dafd4604",
   "metadata": {
    "tags": []
   },
   "outputs": [],
   "source": [
    "!pip install torch==1.11.0  # version recommended by source\n",
    "!pip install git+https://github.com/gretelai/gretel-synthetics.git"
   ]
  },
  {
   "cell_type": "code",
   "execution_count": null,
   "id": "84b41385-2e35-41e1-9232-ef1f56d4359f",
   "metadata": {},
   "outputs": [],
   "source": [
    "import pandas as pd\n",
    "import numpy as np\n",
    "\n",
    "import matplotlib.pyplot as plt\n",
    "import matplotlib.dates as md\n",
    "from sklearn.preprocessing import MinMaxScaler\n",
    "from pickle import dump, load\n",
    "from skimage.util.shape import view_as_windows\n",
    "import time\n",
    "\n",
    "import torch\n",
    "\n",
    "from gretel_synthetics.timeseries_dgan.dgan import DGAN\n",
    "from gretel_synthetics.timeseries_dgan.config import DGANConfig, OutputType"
   ]
  },
  {
   "cell_type": "code",
   "execution_count": null,
   "id": "bca06827-f322-47f9-8e88-0d066cda8557",
   "metadata": {},
   "outputs": [],
   "source": [
    "slice0 = pd.read_csv(\"../data/kagglePump/slice0.csv\")\n",
    "slice1 = pd.read_csv(\"../data/kagglePump/slice1.csv\")\n",
    "slice2 = pd.read_csv(\"../data/kagglePump/slice2.csv\")\n",
    "slice3 = pd.read_csv(\"../data/kagglePump/slice3.csv\")\n",
    "slice4 = pd.read_csv(\"../data/kagglePump/slice4.csv\")\n",
    "slice5 = pd.read_csv(\"../data/kagglePump/slice5.csv\")\n",
    "slice6 = pd.read_csv(\"../data/kagglePump/slice6.csv\")\n",
    "\n",
    "\n",
    "print(\n",
    "    slice0.shape,\n",
    "    slice1.shape,\n",
    "    slice2.shape,\n",
    "    slice3.shape,\n",
    "    slice4.shape,\n",
    "    slice5.shape,\n",
    "    slice6.shape,\n",
    ")"
   ]
  },
  {
   "cell_type": "code",
   "execution_count": null,
   "id": "cc692490-dee6-41a6-b6c0-d02905186de8",
   "metadata": {},
   "outputs": [],
   "source": [
    "slice0.tail()"
   ]
  },
  {
   "cell_type": "code",
   "execution_count": null,
   "id": "ba5d64bc-67ab-43c5-925e-938c4ce48513",
   "metadata": {},
   "outputs": [],
   "source": [
    "# prep for plotting\n",
    "slices_list = [slice0, slice1, slice2, slice3, slice4, slice5, slice6]\n",
    "sensor_cols = [\"sensor_25\", \"sensor_11\", \"sensor_36\", \"sensor_34\"]\n",
    "\n",
    "# cast timestamps to be type datetime\n",
    "for sl in slices_list:\n",
    "    sl[\"timestamp\"] = pd.to_datetime(sl[\"timestamp\"])"
   ]
  },
  {
   "cell_type": "code",
   "execution_count": null,
   "id": "3ec9f27a-93ff-47ae-8c5f-d0065f36be68",
   "metadata": {},
   "outputs": [],
   "source": [
    "def plot_slice(slice, ind):\n",
    "    for i, c in enumerate(sensor_cols):\n",
    "        plt.plot(slice[\"timestamp\"], slice[c], label=c)\n",
    "    ax = plt.gca()\n",
    "    ax.title.set_text(\"Slice\" + str(ind))\n",
    "    ax.xaxis.set_minor_locator(md.DayLocator(interval=1))\n",
    "    ax.xaxis.set_major_locator(md.DayLocator(interval=1))\n",
    "    ax.xaxis.set_major_formatter(md.DateFormatter(\"%D\"))\n",
    "    plt.legend(prop={\"size\": 7})\n",
    "\n",
    "\n",
    "# test plotting func\n",
    "plot_slice(slices_list[0], 0)\n",
    "plt.show()"
   ]
  },
  {
   "cell_type": "code",
   "execution_count": null,
   "id": "7babcd89-e5d0-4214-b609-439e656c134b",
   "metadata": {},
   "outputs": [],
   "source": [
    "# lets plot them all\n",
    "\n",
    "figure = plt.figure(figsize=(10, 10))\n",
    "figure.suptitle(\"Slices Plots from kagglePump\", fontsize=25, fontweight=\"roman\")\n",
    "\n",
    "for i, sl in enumerate(slices_list):\n",
    "    figure.add_subplot(3, 3, i + 1)\n",
    "    plot_slice(sl, i)\n",
    "\n",
    "plt.show()"
   ]
  },
  {
   "cell_type": "code",
   "execution_count": null,
   "id": "108b3f5c-b5c9-4450-9a44-461d67beb4b0",
   "metadata": {},
   "outputs": [],
   "source": [
    "# dropping timestamp, machine status from slices, converting to np from df\n",
    "# also dropped the first element from each to make them an even 3600\n",
    "\n",
    "for i in range(len(slices_list)):\n",
    "    slices_list[i] = (\n",
    "        slices_list[i].drop(columns=[\"timestamp\", \"machine_status\"]).to_numpy()\n",
    "    )\n",
    "    slices_list[i] = np.array(slices_list[i][1:])\n",
    "    print(slices_list[i].shape)"
   ]
  },
  {
   "cell_type": "code",
   "execution_count": null,
   "id": "107a45be-ef33-4b60-8b51-e3c97767a281",
   "metadata": {},
   "outputs": [],
   "source": [
    "# removing the slice4 as its too different from the others.\n",
    "\n",
    "slices_list.pop(4)\n",
    "\n",
    "print(len(slices_list))"
   ]
  },
  {
   "cell_type": "code",
   "execution_count": null,
   "id": "36c1df79-0bb5-498d-8669-337cb6c083a4",
   "metadata": {},
   "outputs": [],
   "source": [
    "slices_list = np.asarray(slices_list)\n",
    "slices_list.shape"
   ]
  },
  {
   "cell_type": "code",
   "execution_count": null,
   "id": "c63e28d7-bca6-4954-904b-bc9b44810983",
   "metadata": {},
   "outputs": [],
   "source": [
    "# we have shape 6,3601, 4.\n",
    "# we want something closer to 300,720,4.\n",
    "# 300 being num training samples, 720 being datapoints per sample (12 hrs), 4 sensor cols.\n",
    "window_shape = (720, 4)\n",
    "windowed_data = view_as_windows(slices_list[0], window_shape, step=58)\n",
    "windowed_data = np.squeeze(windowed_data)\n",
    "windowed_data.shape"
   ]
  },
  {
   "cell_type": "code",
   "execution_count": null,
   "id": "3c5c7545-edce-43bb-9a70-1491fb3ce6a9",
   "metadata": {},
   "outputs": [],
   "source": [
    "# alright, there we have 50 windows of 12hr data from our first slice.\n",
    "# lets get 50 windows from our other 5 slices\n",
    "\n",
    "for i in range(1, 6):\n",
    "    temp_window = view_as_windows(slices_list[i], window_shape, step=58)\n",
    "    temp_window = np.squeeze(temp_window)\n",
    "    windowed_data = np.append(windowed_data, temp_window, axis=0)"
   ]
  },
  {
   "cell_type": "code",
   "execution_count": null,
   "id": "b6546707-39d6-4a67-b51f-fc8cb1412b39",
   "metadata": {},
   "outputs": [],
   "source": [
    "windowed_data.shape"
   ]
  },
  {
   "cell_type": "code",
   "execution_count": null,
   "id": "da392182-25f3-4063-80bc-b6e98df54d09",
   "metadata": {},
   "outputs": [],
   "source": [
    "def plot_12hr_slice(slice, ind):\n",
    "    for i, c in enumerate(sensor_cols):\n",
    "        plt.plot(slice[:, i], label=c)\n",
    "    ax = plt.gca()\n",
    "    ax.title.set_text(\"Slice\" + str(ind))\n",
    "    plt.legend(prop={\"size\": 7})"
   ]
  },
  {
   "cell_type": "code",
   "execution_count": null,
   "id": "0246c757-9d7c-4335-9e67-1928f28256ac",
   "metadata": {},
   "outputs": [],
   "source": [
    "# plot random windows\n",
    "\n",
    "figure = plt.figure(figsize=(10, 10))\n",
    "figure.suptitle(\"Slices 12hr Window plots\", fontsize=25, fontweight=\"roman\")\n",
    "\n",
    "for i in range(9):\n",
    "    figure.add_subplot(3, 3, i + 1)\n",
    "    index = np.random.choice(300)\n",
    "    sl = windowed_data[index]\n",
    "    plot_12hr_slice(sl, index)\n",
    "\n",
    "plt.show()"
   ]
  },
  {
   "cell_type": "code",
   "execution_count": null,
   "id": "899db3df-0e50-4e5b-a281-5e4f2eae318a",
   "metadata": {},
   "outputs": [],
   "source": [
    "# Recommended to train with a GPU\n",
    "torch.cuda.is_available()"
   ]
  },
  {
   "cell_type": "code",
   "execution_count": null,
   "id": "ffad1c44-b737-4c2d-a519-ba09c05b61c2",
   "metadata": {},
   "outputs": [],
   "source": [
    "# set up DGAN config.\n",
    "\n",
    "config = DGANConfig(\n",
    "    max_sequence_len=windowed_data.shape[1],\n",
    "    sample_len=20,  # trying a larger sample_len\n",
    "    batch_size=min(1000, windowed_data.shape[0]),\n",
    "    apply_feature_scaling=True,\n",
    "    apply_example_scaling=False,\n",
    "    use_attribute_discriminator=False,\n",
    "    generator_learning_rate=1e-4,\n",
    "    discriminator_learning_rate=1e-4,\n",
    "    epochs=10000,\n",
    ")\n",
    "\n",
    "model = DGAN(config)"
   ]
  },
  {
   "cell_type": "code",
   "execution_count": null,
   "id": "3dfdba34-46ae-4323-804d-a938a2914975",
   "metadata": {
    "collapsed": true,
    "jupyter": {
     "outputs_hidden": true
    },
    "tags": []
   },
   "outputs": [],
   "source": [
    "start = time.time()\n",
    "model.train_numpy(\n",
    "    windowed_data,\n",
    "    feature_types=[OutputType.CONTINUOUS] * windowed_data.shape[2],\n",
    ")\n",
    "stop = time.time()\n",
    "print(f\"Training time: {stop - start}s\")"
   ]
  },
  {
   "cell_type": "code",
   "execution_count": null,
   "id": "b258e8f0-dc86-401c-9dc1-7b3f3f3f73de",
   "metadata": {},
   "outputs": [],
   "source": [
    "print(f\"Training time: {stop - start}s\")"
   ]
  },
  {
   "cell_type": "code",
   "execution_count": null,
   "id": "ef65e3ac-2229-4474-bd83-9d5ca5152d1e",
   "metadata": {},
   "outputs": [],
   "source": [
    "# saving model for future use\n",
    "model.save(\"../models/dgan_model_2.pt\")"
   ]
  },
  {
   "cell_type": "code",
   "execution_count": null,
   "id": "9b65293b-c9f4-45c5-885b-0d9154e3f10d",
   "metadata": {},
   "outputs": [],
   "source": [
    "# Generate synthetic data - this ran near instantly\n",
    "_, synthetic_features = model.generate_numpy(1000)"
   ]
  },
  {
   "cell_type": "code",
   "execution_count": null,
   "id": "4634e1ee-8fa7-4787-b0f8-5d53092d704e",
   "metadata": {},
   "outputs": [],
   "source": [
    "# plot random synthetic windows\n",
    "\n",
    "figure = plt.figure(figsize=(10, 10))\n",
    "figure.suptitle(\"Synthetic 12hr Window plots\", fontsize=25, fontweight=\"roman\")\n",
    "\n",
    "for i in range(9):\n",
    "    figure.add_subplot(3, 3, i + 1)\n",
    "    index = np.random.choice(1000)\n",
    "    sl = synthetic_features[index]\n",
    "    plot_12hr_slice(sl, index)\n",
    "\n",
    "plt.show()"
   ]
  },
  {
   "cell_type": "code",
   "execution_count": null,
   "id": "42f58158-3ede-4308-bbef-e7551a8b6ca4",
   "metadata": {},
   "outputs": [],
   "source": []
  }
 ],
 "metadata": {
  "kernelspec": {
   "display_name": "Python 3.10.5 64-bit",
   "language": "python",
   "name": "python3"
  },
  "language_info": {
   "codemirror_mode": {
    "name": "ipython",
    "version": 3
   },
   "file_extension": ".py",
   "mimetype": "text/x-python",
   "name": "python",
   "nbconvert_exporter": "python",
   "pygments_lexer": "ipython3",
   "version": "3.10.5"
  },
  "vscode": {
   "interpreter": {
    "hash": "e7370f93d1d0cde622a1f8e1c04877d8463912d04d973331ad4851f04de6915a"
   }
  }
 },
 "nbformat": 4,
 "nbformat_minor": 5
}
