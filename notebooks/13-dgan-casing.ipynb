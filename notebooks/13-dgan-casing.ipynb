{
 "cells": [
  {
   "cell_type": "code",
   "execution_count": null,
   "id": "2917277e-36cc-440d-9067-8d708e61bfc1",
   "metadata": {
    "tags": []
   },
   "outputs": [],
   "source": [
    "!pip install torch==1.11.0  # version recommended by source\n",
    "!pip install git+https://github.com/gretelai/gretel-synthetics.git"
   ]
  },
  {
   "cell_type": "code",
   "execution_count": null,
   "id": "a5a3f615-3993-4e4e-8db6-08e39e5a2827",
   "metadata": {},
   "outputs": [],
   "source": [
    "import pandas as pd\n",
    "import numpy as np\n",
    "\n",
    "import matplotlib.pyplot as plt\n",
    "import matplotlib.dates as md\n",
    "from sklearn.preprocessing import MinMaxScaler\n",
    "from pickle import dump, load\n",
    "from skimage.util.shape import view_as_windows\n",
    "import time\n",
    "\n",
    "import torch\n",
    "\n",
    "from gretel_synthetics.timeseries_dgan.dgan import DGAN\n",
    "from gretel_synthetics.timeseries_dgan.config import DGANConfig, OutputType"
   ]
  },
  {
   "cell_type": "code",
   "execution_count": null,
   "id": "e721f6df-a28b-4845-a0b0-60f8a0035cf6",
   "metadata": {},
   "outputs": [],
   "source": [
    "casing = pd.read_csv(\"../data/gasPump/casing.csv\", names=[\"timestamp\", \"pressure\"])\n",
    "print(len(casing))\n",
    "\n",
    "\n",
    "casing.head()"
   ]
  },
  {
   "cell_type": "code",
   "execution_count": null,
   "id": "614e2714-89d6-455f-bc29-8633a2a5dae7",
   "metadata": {},
   "outputs": [],
   "source": [
    "casing.tail()"
   ]
  },
  {
   "cell_type": "code",
   "execution_count": null,
   "id": "eed2a9b6-1b2e-4208-a363-6b3f8b73b020",
   "metadata": {},
   "outputs": [],
   "source": [
    "casing.set_index(\"timestamp\").plot()"
   ]
  },
  {
   "cell_type": "code",
   "execution_count": null,
   "id": "f6e0fecf-56a7-4489-b751-3e776c14a8e7",
   "metadata": {},
   "outputs": [],
   "source": [
    "# alright we have 353 rows of data over the course of months.\n",
    "# seems like the timestamps arent uniform distance from each other\n",
    "# which is interesting. shouldnt matter for us I believe.\n",
    "\n",
    "# first dropping timestamp col\n",
    "casing = casing.drop(columns=[\"timestamp\"]).to_numpy()\n",
    "\n",
    "casing.shape"
   ]
  },
  {
   "cell_type": "code",
   "execution_count": null,
   "id": "3f89278c-e346-40ec-9487-494358ccd4ba",
   "metadata": {},
   "outputs": [],
   "source": [
    "# lets make some windows\n",
    "# we really don't have a lot of training data\n",
    "# so these overlaps will be pretty small.\n",
    "# thinking of length 100 - checking with audrey now.\n",
    "\n",
    "window_shape = (100, 1)\n",
    "windowed_data = view_as_windows(casing, window_shape, step=5)\n",
    "windowed_data = np.squeeze(windowed_data)\n",
    "windowed_data.shape"
   ]
  },
  {
   "cell_type": "code",
   "execution_count": null,
   "id": "f858367a-f556-4a84-847a-c45a7d9cf4a1",
   "metadata": {},
   "outputs": [],
   "source": [
    "windowed_data = windowed_data[:, :, np.newaxis]\n",
    "windowed_data.shape"
   ]
  },
  {
   "cell_type": "code",
   "execution_count": null,
   "id": "5a8a0310-fc6c-495e-bb40-640519893478",
   "metadata": {},
   "outputs": [],
   "source": [
    "def plot_100_slice(slice, ind):\n",
    "    plt.plot(slice, label=\"pressure\")\n",
    "    ax = plt.gca()\n",
    "    ax.title.set_text(\"Slice\" + str(ind))\n",
    "    plt.legend(prop={\"size\": 9})"
   ]
  },
  {
   "cell_type": "code",
   "execution_count": null,
   "id": "9a59bc70-8341-4249-b196-b44ef34b0f82",
   "metadata": {},
   "outputs": [],
   "source": [
    "figure = plt.figure(figsize=(10, 10))\n",
    "figure.suptitle(\"Slices 100row Window plots\", fontsize=25, fontweight=\"roman\")\n",
    "\n",
    "for i in range(9):\n",
    "    figure.add_subplot(3, 3, i + 1)\n",
    "    index = np.random.choice(51)\n",
    "    sl = windowed_data[index]\n",
    "    plot_100_slice(sl, index)\n",
    "\n",
    "plt.show()"
   ]
  },
  {
   "cell_type": "code",
   "execution_count": null,
   "id": "65b1909d-fc10-4bf5-ada0-598660ef620c",
   "metadata": {},
   "outputs": [],
   "source": [
    "# Recommended to train with a GPU\n",
    "torch.cuda.is_available()"
   ]
  },
  {
   "cell_type": "code",
   "execution_count": null,
   "id": "f95e3d91-c091-4794-90f8-f18da8f10028",
   "metadata": {},
   "outputs": [],
   "source": [
    "# set up DGAN config.\n",
    "\n",
    "config = DGANConfig(\n",
    "    max_sequence_len=windowed_data.shape[1],\n",
    "    sample_len=20,  # trying a larger sample_len\n",
    "    batch_size=min(1000, windowed_data.shape[0]),\n",
    "    apply_feature_scaling=True,\n",
    "    apply_example_scaling=False,\n",
    "    use_attribute_discriminator=False,\n",
    "    generator_learning_rate=1e-4,\n",
    "    discriminator_learning_rate=1e-4,\n",
    "    epochs=10000,\n",
    ")\n",
    "\n",
    "model = DGAN(config)"
   ]
  },
  {
   "cell_type": "code",
   "execution_count": null,
   "id": "b2e80c5d-69db-4321-a12c-7b95af3531dc",
   "metadata": {
    "tags": []
   },
   "outputs": [],
   "source": [
    "start = time.time()\n",
    "model.train_numpy(\n",
    "    windowed_data,\n",
    "    feature_types=[OutputType.CONTINUOUS] * windowed_data.shape[2],\n",
    ")\n",
    "stop = time.time()\n",
    "print(f\"Training time: {stop - start}s\")"
   ]
  },
  {
   "cell_type": "markdown",
   "id": "f9244b5c-cee5-4ba1-81ae-25c4437ab381",
   "metadata": {},
   "source": [
    "### cleared output of that cell - prints per epoch so 10,000 times"
   ]
  },
  {
   "cell_type": "code",
   "execution_count": null,
   "id": "3967cb6b-9fec-4814-aacd-885878192199",
   "metadata": {},
   "outputs": [],
   "source": [
    "print(f\"Training time: {stop - start}s\")"
   ]
  },
  {
   "cell_type": "code",
   "execution_count": null,
   "id": "3ef74e6a-eb58-41e5-8f23-5573da8580ab",
   "metadata": {},
   "outputs": [],
   "source": [
    "# saving model for future use\n",
    "model.save(\"../models/dgan_casing.pt\")"
   ]
  },
  {
   "cell_type": "code",
   "execution_count": null,
   "id": "f00e7082-bb1a-4511-a4cd-04101834a7f4",
   "metadata": {},
   "outputs": [],
   "source": [
    "# Generate synthetic data - this ran near instantly\n",
    "_, synthetic_features = model.generate_numpy(1000)"
   ]
  },
  {
   "cell_type": "code",
   "execution_count": null,
   "id": "a177759c-167f-47c5-a06d-e2c8a5bc6749",
   "metadata": {},
   "outputs": [],
   "source": [
    "# plot random synthetic windows\n",
    "\n",
    "figure = plt.figure(figsize=(10, 10))\n",
    "figure.suptitle(\"Synthetic 100 row Window plots\", fontsize=25, fontweight=\"roman\")\n",
    "\n",
    "for i in range(9):\n",
    "    figure.add_subplot(3, 3, i + 1)\n",
    "    index = np.random.choice(1000)\n",
    "    sl = synthetic_features[index]\n",
    "    plot_100_slice(sl, index)\n",
    "\n",
    "plt.show()"
   ]
  },
  {
   "cell_type": "code",
   "execution_count": null,
   "id": "2a2119c8-c824-4241-a892-d82dab849ad0",
   "metadata": {},
   "outputs": [],
   "source": [
    "# Compare distribution of pressure values\n",
    "plt.hist(\n",
    "    [casing.flatten(), synthetic_features[:, :, 0].flatten()],\n",
    "    label=[\"real\", \"synthetic\"],\n",
    "    bins=25,\n",
    "    density=True,\n",
    ")\n",
    "plt.legend()\n",
    "plt.xlabel(\"Pressure Values\")\n",
    "plt.ylabel(\"Density\")\n",
    "plt.show()"
   ]
  }
 ],
 "metadata": {
  "kernelspec": {
   "display_name": "Python 3.10.5 64-bit",
   "language": "python",
   "name": "python3"
  },
  "language_info": {
   "codemirror_mode": {
    "name": "ipython",
    "version": 3
   },
   "file_extension": ".py",
   "mimetype": "text/x-python",
   "name": "python",
   "nbconvert_exporter": "python",
   "pygments_lexer": "ipython3",
   "version": "3.10.5"
  },
  "vscode": {
   "interpreter": {
    "hash": "e7370f93d1d0cde622a1f8e1c04877d8463912d04d973331ad4851f04de6915a"
   }
  }
 },
 "nbformat": 4,
 "nbformat_minor": 5
}
