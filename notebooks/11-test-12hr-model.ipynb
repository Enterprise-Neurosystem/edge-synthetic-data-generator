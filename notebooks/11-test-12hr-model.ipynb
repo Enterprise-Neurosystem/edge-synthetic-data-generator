{
 "cells": [
  {
   "cell_type": "code",
   "execution_count": null,
   "id": "4aeec179-b1c8-48d3-b344-1ff4ab39ed61",
   "metadata": {
    "tags": []
   },
   "outputs": [],
   "source": [
    "!pip install torch==1.11.0  # version recommended by source\n",
    "!pip install git+https://github.com/gretelai/gretel-synthetics.git"
   ]
  },
  {
   "cell_type": "code",
   "execution_count": null,
   "id": "388a22e7-7642-4deb-8775-ba28d33495f9",
   "metadata": {},
   "outputs": [],
   "source": [
    "import pandas as pd\n",
    "import numpy as np\n",
    "\n",
    "import matplotlib.pyplot as plt\n",
    "import matplotlib.dates as md\n",
    "from sklearn.preprocessing import MinMaxScaler\n",
    "from pickle import dump, load\n",
    "from skimage.util.shape import view_as_windows\n",
    "import time\n",
    "\n",
    "import torch\n",
    "\n",
    "from gretel_synthetics.timeseries_dgan.dgan import DGAN\n",
    "from gretel_synthetics.timeseries_dgan.config import DGANConfig, OutputType"
   ]
  },
  {
   "cell_type": "code",
   "execution_count": null,
   "id": "6ba7562d-f4c0-4da9-a469-59518d10c305",
   "metadata": {},
   "outputs": [],
   "source": [
    "slice0 = pd.read_csv(\"../data/kagglePump/slice0.csv\")\n",
    "slice1 = pd.read_csv(\"../data/kagglePump/slice1.csv\")\n",
    "slice2 = pd.read_csv(\"../data/kagglePump/slice2.csv\")\n",
    "slice3 = pd.read_csv(\"../data/kagglePump/slice3.csv\")\n",
    "slice4 = pd.read_csv(\"../data/kagglePump/slice4.csv\")\n",
    "slice5 = pd.read_csv(\"../data/kagglePump/slice5.csv\")\n",
    "slice6 = pd.read_csv(\"../data/kagglePump/slice6.csv\")\n",
    "\n",
    "\n",
    "print(\n",
    "    slice0.shape,\n",
    "    slice1.shape,\n",
    "    slice2.shape,\n",
    "    slice3.shape,\n",
    "    slice4.shape,\n",
    "    slice5.shape,\n",
    "    slice6.shape,\n",
    ")"
   ]
  },
  {
   "cell_type": "code",
   "execution_count": null,
   "id": "6cc67d99-13f4-40a1-9d4d-5470b3a12fd4",
   "metadata": {},
   "outputs": [],
   "source": [
    "# prep for plotting\n",
    "slices_list = [slice0, slice1, slice2, slice3, slice4, slice5, slice6]\n",
    "sensor_cols = [\"sensor_25\", \"sensor_11\", \"sensor_36\", \"sensor_34\"]\n",
    "\n",
    "# cast timestamps to be type datetime\n",
    "for sl in slices_list:\n",
    "    sl[\"timestamp\"] = pd.to_datetime(sl[\"timestamp\"])\n",
    "\n",
    "# remove 1st row to be same as data used in prev. nb\n",
    "for i in range(len(slices_list)):\n",
    "    slices_list[i] = slices_list[i].iloc[1:, :]\n",
    "    print(len(slices_list[i]))\n",
    "\n",
    "# create df of our dfs\n",
    "all_slices = pd.concat(slices_list)\n",
    "\n",
    "# create np array of that df.\n",
    "all_slices_np = all_slices.to_numpy()"
   ]
  },
  {
   "cell_type": "code",
   "execution_count": null,
   "id": "ff3aecad-1cb7-4ec3-950f-8699b31b3795",
   "metadata": {},
   "outputs": [],
   "source": [
    "all_slices"
   ]
  },
  {
   "cell_type": "code",
   "execution_count": null,
   "id": "21e3c059-a1f6-4e33-b138-2480379cc272",
   "metadata": {},
   "outputs": [],
   "source": [
    "# set up DGAN config.\n",
    "\n",
    "config = DGANConfig(\n",
    "    max_sequence_len=720,  # hard coded from prev shape\n",
    "    sample_len=20,  # trying a larger sample_len\n",
    "    batch_size=min(1000, 300),\n",
    "    apply_feature_scaling=True,\n",
    "    apply_example_scaling=False,\n",
    "    use_attribute_discriminator=False,\n",
    "    generator_learning_rate=1e-4,\n",
    "    discriminator_learning_rate=1e-4,\n",
    "    epochs=10000,\n",
    ")\n",
    "\n",
    "model = DGAN(config)\n",
    "\n",
    "model = model.load(\"../models/dgan_model_2.pt\", map_location=torch.device(\"cpu\"))"
   ]
  },
  {
   "cell_type": "code",
   "execution_count": null,
   "id": "8b3f30c9-87bb-48ac-a3a9-269bf7c1b474",
   "metadata": {},
   "outputs": [],
   "source": [
    "# Generate synthetic data - this ran near instantly\n",
    "_, synthetic_features = model.generate_numpy(1000)"
   ]
  },
  {
   "cell_type": "code",
   "execution_count": null,
   "id": "e5589f17-77a6-4739-8c7c-8b815d9ee10c",
   "metadata": {},
   "outputs": [],
   "source": [
    "def plot_12hr_slice(slice, ind):\n",
    "    for i, c in enumerate(sensor_cols):\n",
    "        plt.plot(slice[:, i], label=c)\n",
    "    ax = plt.gca()\n",
    "    ax.title.set_text(\"Slice\" + str(ind))\n",
    "    plt.legend(prop={\"size\": 7})"
   ]
  },
  {
   "cell_type": "code",
   "execution_count": null,
   "id": "11021112-4074-47d8-a5dd-2a33e77c08cb",
   "metadata": {},
   "outputs": [],
   "source": [
    "# plot random synthetic windows\n",
    "\n",
    "figure = plt.figure(figsize=(10, 10))\n",
    "figure.suptitle(\"Synthetic 12hr Window plots\", fontsize=25, fontweight=\"roman\")\n",
    "\n",
    "for i in range(9):\n",
    "    figure.add_subplot(3, 3, i + 1)\n",
    "    index = np.random.choice(1000)\n",
    "    sl = synthetic_features[index]\n",
    "    plot_12hr_slice(sl, index)\n",
    "\n",
    "plt.show()"
   ]
  },
  {
   "cell_type": "code",
   "execution_count": null,
   "id": "de9d72bc-acdc-45d8-a2d6-6e0e567c5dd5",
   "metadata": {},
   "outputs": [],
   "source": [
    "# Compare (non-temporal) correlations between the 4 sensors\n",
    "synthetic_df = pd.DataFrame(\n",
    "    synthetic_features.reshape(-1, synthetic_features.shape[2]), columns=sensor_cols\n",
    ")\n",
    "\n",
    "print(\"Correlation in real data:\")\n",
    "print(all_slices.drop(columns=[\"timestamp\", \"machine_status\"]).corr())\n",
    "print()\n",
    "print(\"Correlation in synthetic data:\")\n",
    "print(synthetic_df.corr())\n",
    "\n",
    "# Correlations between sensor variables are worse now\n",
    "# Makes sense as we are using 6 different slices rather than 1.\n",
    "# will have to discuss if this is acceptable."
   ]
  },
  {
   "cell_type": "code",
   "execution_count": null,
   "id": "9a013f08-5829-40f9-9846-47ce9066eb6e",
   "metadata": {},
   "outputs": [],
   "source": [
    "# Compare distribution of sensor_34 values\n",
    "plt.hist(\n",
    "    [all_slices_np[:, 4].flatten(), synthetic_features[:, :, 3].flatten()],\n",
    "    label=[\"real\", \"synthetic\"],\n",
    "    bins=25,\n",
    "    density=True,\n",
    ")\n",
    "plt.legend()\n",
    "plt.xlabel(\"Sensor 34 Values\")\n",
    "plt.ylabel(\"Density\")\n",
    "plt.show()"
   ]
  },
  {
   "cell_type": "code",
   "execution_count": null,
   "id": "8c517690-6c6d-4dc7-96a5-b81e9881d1cc",
   "metadata": {},
   "outputs": [],
   "source": [
    "# Compare distribution of sensor_36 values\n",
    "plt.hist(\n",
    "    [all_slices_np[:, 3].flatten(), synthetic_features[:, :, 2].flatten()],\n",
    "    label=[\"real\", \"synthetic\"],\n",
    "    bins=25,\n",
    "    density=True,\n",
    ")\n",
    "plt.legend()\n",
    "plt.xlabel(\"Sensor 36 Values\")\n",
    "plt.ylabel(\"Density\")\n",
    "plt.show()"
   ]
  },
  {
   "cell_type": "code",
   "execution_count": null,
   "id": "a83633e3-ac4a-41ca-a4e3-df9f26194285",
   "metadata": {},
   "outputs": [],
   "source": [
    "# Compare distribution of sensor_11 values\n",
    "plt.hist(\n",
    "    [all_slices_np[:, 2].flatten(), synthetic_features[:, :, 1].flatten()],\n",
    "    label=[\"real\", \"synthetic\"],\n",
    "    bins=25,\n",
    "    density=True,\n",
    ")\n",
    "plt.legend()\n",
    "plt.xlabel(\"Sensor 11 Values\")\n",
    "plt.ylabel(\"Density\")\n",
    "plt.show()"
   ]
  },
  {
   "cell_type": "code",
   "execution_count": null,
   "id": "14ead1ee-2a26-4f24-9f8f-115ffb8d04c9",
   "metadata": {},
   "outputs": [],
   "source": [
    "# Compare distribution of sensor_25 values\n",
    "plt.hist(\n",
    "    [all_slices_np[:, 1].flatten(), synthetic_features[:, :, 0].flatten()],\n",
    "    label=[\"real\", \"synthetic\"],\n",
    "    bins=25,\n",
    "    density=True,\n",
    ")\n",
    "plt.legend()\n",
    "plt.xlabel(\"Sensor 11 Values\")\n",
    "plt.ylabel(\"Density\")\n",
    "plt.show()"
   ]
  },
  {
   "cell_type": "code",
   "execution_count": null,
   "id": "5a21de42-4772-4544-83b2-a57a25b4ee9b",
   "metadata": {},
   "outputs": [],
   "source": []
  }
 ],
 "metadata": {
  "kernelspec": {
   "display_name": "Python 3 (ipykernel)",
   "language": "python",
   "name": "python3"
  },
  "language_info": {
   "codemirror_mode": {
    "name": "ipython",
    "version": 3
   },
   "file_extension": ".py",
   "mimetype": "text/x-python",
   "name": "python",
   "nbconvert_exporter": "python",
   "pygments_lexer": "ipython3",
   "version": "3.8.8"
  }
 },
 "nbformat": 4,
 "nbformat_minor": 5
}
