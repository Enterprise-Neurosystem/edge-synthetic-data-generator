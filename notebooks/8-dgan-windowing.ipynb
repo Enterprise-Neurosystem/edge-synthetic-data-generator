{
 "cells": [
  {
   "cell_type": "code",
   "execution_count": null,
   "id": "f60e5ae2-96d0-470d-8357-a60dff69bfb5",
   "metadata": {
    "tags": []
   },
   "outputs": [],
   "source": [
    "!pip install torch==1.11.0  # version recommended by source"
   ]
  },
  {
   "cell_type": "code",
   "execution_count": null,
   "id": "fa5213f4-6d7c-4ad1-af39-4a065450830c",
   "metadata": {
    "tags": []
   },
   "outputs": [],
   "source": [
    "!pip install git+https://github.com/gretelai/gretel-synthetics.git"
   ]
  },
  {
   "cell_type": "code",
   "execution_count": null,
   "id": "09fabd52-ea3b-4184-bdc3-1357fe596e80",
   "metadata": {},
   "outputs": [],
   "source": [
    "import pandas as pd\n",
    "import numpy as np\n",
    "\n",
    "import matplotlib.pyplot as plt\n",
    "import matplotlib.dates as md\n",
    "from sklearn.preprocessing import MinMaxScaler\n",
    "from pickle import dump, load\n",
    "from skimage.util.shape import view_as_windows\n",
    "\n",
    "import torch\n",
    "\n",
    "from gretel_synthetics.timeseries_dgan.dgan import DGAN\n",
    "from gretel_synthetics.timeseries_dgan.config import DGANConfig, OutputType"
   ]
  },
  {
   "cell_type": "code",
   "execution_count": null,
   "id": "0d5eb275-0a69-4430-bd64-366cb51049c8",
   "metadata": {
    "tags": []
   },
   "outputs": [],
   "source": [
    "# https://www.kaggle.com/code/xiaxiaxu/predictmachinefailureinadvance/data\n",
    "sensor = pd.read_csv(\"sensor.csv\")\n",
    "\n",
    "# data columns\n",
    "COLS = [\"sensor_25\", \"sensor_11\", \"sensor_36\", \"sensor_34\", \"machine_status\"]\n",
    "\n",
    "# only keeping cols w high var in pca analysis + machine status\n",
    "data = sensor[[\"timestamp\"] + COLS]\n",
    "data"
   ]
  },
  {
   "cell_type": "code",
   "execution_count": null,
   "id": "42634c97-4e83-4425-8c1f-fcce8341d128",
   "metadata": {},
   "outputs": [],
   "source": [
    "# lets convert our datatypes to the correct ones\n",
    "\n",
    "print(data.dtypes, \"\\n\")\n",
    "# i have no idea why i have to run this line twice for it to work.\n",
    "data[\"timestamp\"] = pd.to_datetime(data[\"timestamp\"])"
   ]
  },
  {
   "cell_type": "code",
   "execution_count": null,
   "id": "af5e99b4-5bb1-44b0-b8bc-59dea4fb28aa",
   "metadata": {},
   "outputs": [],
   "source": [
    "# okay, what can our machine status be?\n",
    "\n",
    "# data = data.convert_dtypes()\n",
    "print(data.dtypes, \"\\n\")\n",
    "# i have no idea why i have to run this line twice for it to work.\n",
    "data[\"timestamp\"] = pd.to_datetime(data[\"timestamp\"])\n",
    "\n",
    "data.machine_status.unique()"
   ]
  },
  {
   "cell_type": "code",
   "execution_count": null,
   "id": "4470b6d2-8c5d-41e9-986b-1824cf31c7f8",
   "metadata": {},
   "outputs": [],
   "source": [
    "# lets drop the NaNs\n",
    "\n",
    "data.dropna(axis=0, inplace=True)\n",
    "\n",
    "print(len(data[data.isna().any(axis=1)]))"
   ]
  },
  {
   "cell_type": "code",
   "execution_count": null,
   "id": "6554f78e-fadf-4847-9c29-c05d58ef667c",
   "metadata": {},
   "outputs": [],
   "source": [
    "# lets try only using data centered around 2 failures.\n",
    "\n",
    "data_around_failures = data.iloc[16000:26080]\n",
    "print(len(data_around_failures))\n",
    "data_around_failures"
   ]
  },
  {
   "cell_type": "code",
   "execution_count": null,
   "id": "2c9da947-c562-4677-b9b7-1e042914b509",
   "metadata": {},
   "outputs": [],
   "source": [
    "# # let's now scale our data between 0-1\n",
    "\n",
    "# scaler = MinMaxScaler((0,1))\n",
    "sensor_cols = [\"sensor_25\", \"sensor_11\", \"sensor_36\", \"sensor_34\"]\n",
    "\n",
    "# # scaling our data, then saving our scaler object for future use.\n",
    "# data_around_failures[sensor_cols] = scaler.fit_transform(data_around_failures[sensor_cols])\n",
    "\n",
    "# dump(scaler, open('dGAN_scaler_windowing.pkl', 'wb'))"
   ]
  },
  {
   "cell_type": "code",
   "execution_count": null,
   "id": "8a8859cc-7950-458c-819b-f28771733805",
   "metadata": {},
   "outputs": [],
   "source": [
    "# Plot the 4 scaled sensors\n",
    "\n",
    "for c in COLS:\n",
    "    if c == \"machine_status\":\n",
    "        continue\n",
    "    plt.plot(data_around_failures[\"timestamp\"], data_around_failures[c], label=c)\n",
    "\n",
    "plt.xticks(rotation=90)\n",
    "plt.legend()\n",
    "plt.ylabel(\"Sensor Value\")\n",
    "plt.xlabel(\"Date\")\n",
    "plt.show()"
   ]
  },
  {
   "cell_type": "code",
   "execution_count": null,
   "id": "8bf38f03-7822-490b-bc73-12a776a2c8e8",
   "metadata": {},
   "outputs": [],
   "source": [
    "# dropping timestamp col\n",
    "features = data_around_failures.drop(columns=[\"timestamp\", \"machine_status\"]).to_numpy()\n",
    "print(features.shape)"
   ]
  },
  {
   "cell_type": "code",
   "execution_count": null,
   "id": "96b599d7-3ee4-4957-bff6-846ff7778cf5",
   "metadata": {},
   "outputs": [],
   "source": [
    "window_shape = (240, 4)\n",
    "windowed_data = view_as_windows(features, window_shape, step=10)\n",
    "windowed_data = np.squeeze(windowed_data)\n",
    "print(windowed_data.shape)\n",
    "print(windowed_data[0].shape)\n",
    "windowed_data.shape"
   ]
  },
  {
   "cell_type": "code",
   "execution_count": null,
   "id": "4c15ca5e-99a8-4174-92c9-a0958156a7fa",
   "metadata": {},
   "outputs": [],
   "source": [
    "# Show a few of the 4-hour training samples\n",
    "# note x-axis isnt accurate in these plots.\n",
    "# xaxis_4hr = data_around_failures[\"timestamp\"][0:240]\n",
    "\n",
    "\n",
    "def plot_hours(f, ind):\n",
    "    # get the 4hr time period of these points - might be wrong\n",
    "    # but i think the logic is right.\n",
    "    xaxis_4hr = data_around_failures[\"timestamp\"][ind * 10 : ind * 10 + 240]\n",
    "\n",
    "    for i, c in enumerate(sensor_cols):\n",
    "        plt.plot(xaxis_4hr, f[:, i], label=c)\n",
    "    ax = plt.gca()\n",
    "    ax.xaxis.set_major_locator(md.HourLocator(byhour=range(2, 24, 3)))\n",
    "    ax.xaxis.set_major_formatter(md.DateFormatter(\"%H:%M\"))\n",
    "    plt.legend(prop={\"size\": 7})\n",
    "\n",
    "\n",
    "figure = plt.figure(figsize=(10, 10))\n",
    "for i in range(1, 10):\n",
    "    sample_idx = torch.randint(len(windowed_data), size=(1,)).item()\n",
    "    point = windowed_data[sample_idx]\n",
    "    figure.add_subplot(3, 3, i)\n",
    "\n",
    "    plot_hours(point, sample_idx)\n",
    "plt.show()"
   ]
  },
  {
   "cell_type": "code",
   "execution_count": null,
   "id": "dfcc8778-99fa-453e-a072-9498e129ef0d",
   "metadata": {},
   "outputs": [],
   "source": [
    "# Recommended to train with a GPU\n",
    "torch.cuda.is_available()"
   ]
  },
  {
   "cell_type": "code",
   "execution_count": null,
   "id": "3bcad47d-02f7-4070-a4a3-3b5671baabb1",
   "metadata": {},
   "outputs": [],
   "source": [
    "# set up DGAN config.\n",
    "\n",
    "config = DGANConfig(\n",
    "    max_sequence_len=windowed_data.shape[1],\n",
    "    sample_len=20,  # trying a larger sample_len\n",
    "    batch_size=min(1000, windowed_data.shape[0]),\n",
    "    apply_feature_scaling=True,\n",
    "    apply_example_scaling=False,\n",
    "    use_attribute_discriminator=False,\n",
    "    generator_learning_rate=1e-4,\n",
    "    discriminator_learning_rate=1e-4,\n",
    "    epochs=10000,\n",
    ")\n",
    "\n",
    "model = DGAN(config)"
   ]
  },
  {
   "cell_type": "code",
   "execution_count": null,
   "id": "61df99f7-d30b-4d3c-bc9d-1357eb6e1cb1",
   "metadata": {
    "collapsed": true,
    "jupyter": {
     "outputs_hidden": true
    },
    "tags": []
   },
   "outputs": [],
   "source": [
    "model.train_numpy(\n",
    "    windowed_data,\n",
    "    feature_types=[OutputType.CONTINUOUS] * windowed_data.shape[2],\n",
    ")\n",
    "# this took 7 minutes on Small + GPU"
   ]
  },
  {
   "cell_type": "code",
   "execution_count": null,
   "id": "c114e617-6b61-4846-a87d-e98232169804",
   "metadata": {},
   "outputs": [],
   "source": [
    "# Generate synthetic data - this ran near instantly\n",
    "_, synthetic_features = model.generate_numpy(1000)"
   ]
  },
  {
   "cell_type": "code",
   "execution_count": null,
   "id": "8af5d1f4-e66b-4a97-b845-f51fcfd19f1d",
   "metadata": {},
   "outputs": [],
   "source": [
    "# plot windowed data - the x-axis in these plots is meaningless here\n",
    "\n",
    "figure = plt.figure(figsize=(10, 10))\n",
    "for i in range(1, 10):\n",
    "    sample_idx = torch.randint(len(synthetic_features), size=(1,)).item()\n",
    "    point = synthetic_features[sample_idx]\n",
    "    figure.add_subplot(3, 3, i)\n",
    "\n",
    "    plot_hours(point, sample_idx)\n",
    "plt.show()"
   ]
  },
  {
   "cell_type": "code",
   "execution_count": null,
   "id": "262b0a10-941f-4862-9a8e-c578e344bc89",
   "metadata": {},
   "outputs": [],
   "source": [
    "# Compare (non-temporal) correlations between the 4 sensors\n",
    "synthetic_df = pd.DataFrame(\n",
    "    synthetic_features.reshape(-1, synthetic_features.shape[2]), columns=sensor_cols\n",
    ")\n",
    "\n",
    "print(\"Correlation in real data:\")\n",
    "print(data_around_failures.drop(columns=[\"timestamp\", \"machine_status\"]).corr())\n",
    "print()\n",
    "print(\"Correlation in synthetic data:\")\n",
    "print(synthetic_df.corr())\n",
    "\n",
    "# Correlations between sensor variables are even more similar"
   ]
  },
  {
   "cell_type": "code",
   "execution_count": null,
   "id": "301b96cf-41e8-44ec-9ad7-647d6d11cd8a",
   "metadata": {},
   "outputs": [],
   "source": [
    "# Compare distribution of sensor_34 values\n",
    "plt.hist(\n",
    "    [windowed_data[:, :, 3].flatten(), synthetic_features[:, :, 3].flatten()],\n",
    "    label=[\"real\", \"synthetic\"],\n",
    "    bins=25,\n",
    "    density=True,\n",
    ")\n",
    "plt.legend()\n",
    "plt.xlabel(\"Sensor 34 Values\")\n",
    "plt.ylabel(\"Density\")\n",
    "plt.show()"
   ]
  },
  {
   "cell_type": "code",
   "execution_count": null,
   "id": "de3de9b1-23d5-4a6e-97c5-90d3bac685c7",
   "metadata": {},
   "outputs": [],
   "source": [
    "# Compare distribution of sensor_25 values\n",
    "plt.hist(\n",
    "    [windowed_data[:, :, 0].flatten(), synthetic_features[:, :, 0].flatten()],\n",
    "    label=[\"real\", \"synthetic\"],\n",
    "    bins=25,\n",
    "    density=True,\n",
    ")\n",
    "plt.legend()\n",
    "plt.xlabel(\"Sensor 25 Values\")\n",
    "plt.ylabel(\"Density\")\n",
    "plt.show()"
   ]
  },
  {
   "cell_type": "code",
   "execution_count": null,
   "id": "3e58faa7-de03-45dc-ad62-df67ea0c1878",
   "metadata": {},
   "outputs": [],
   "source": [
    "# Compare distribution of sensor_11 values\n",
    "plt.hist(\n",
    "    [windowed_data[:, :, 1].flatten(), synthetic_features[:, :, 1].flatten()],\n",
    "    label=[\"real\", \"synthetic\"],\n",
    "    bins=25,\n",
    "    density=True,\n",
    ")\n",
    "plt.legend()\n",
    "plt.xlabel(\"Sensor 11 Values\")\n",
    "plt.ylabel(\"Density\")\n",
    "plt.show()"
   ]
  },
  {
   "cell_type": "code",
   "execution_count": null,
   "id": "778d01ab-d1c9-4269-b564-603b16e7c636",
   "metadata": {},
   "outputs": [],
   "source": [
    "# Compare distribution of sensor_36 values\n",
    "plt.hist(\n",
    "    [windowed_data[:, :, 2].flatten(), synthetic_features[:, :, 2].flatten()],\n",
    "    label=[\"real\", \"synthetic\"],\n",
    "    bins=25,\n",
    "    density=True,\n",
    ")\n",
    "plt.legend()\n",
    "plt.xlabel(\"Sensor 36 Values\")\n",
    "plt.ylabel(\"Density\")\n",
    "plt.show()"
   ]
  },
  {
   "cell_type": "code",
   "execution_count": null,
   "id": "dc6cf571-fde1-4f00-9ce1-7c43e47b8799",
   "metadata": {},
   "outputs": [],
   "source": [
    "# saving model for future use\n",
    "model.save(\"../models/dgan_model_1.pt\")\n",
    "\n",
    "# X = model.load(\"dgan_model_0.pt\")\n",
    "\n",
    "# X"
   ]
  }
 ],
 "metadata": {
  "kernelspec": {
   "display_name": "Python 3.10.5 64-bit",
   "language": "python",
   "name": "python3"
  },
  "language_info": {
   "codemirror_mode": {
    "name": "ipython",
    "version": 3
   },
   "file_extension": ".py",
   "mimetype": "text/x-python",
   "name": "python",
   "nbconvert_exporter": "python",
   "pygments_lexer": "ipython3",
   "version": "3.10.5"
  },
  "vscode": {
   "interpreter": {
    "hash": "e7370f93d1d0cde622a1f8e1c04877d8463912d04d973331ad4851f04de6915a"
   }
  }
 },
 "nbformat": 4,
 "nbformat_minor": 5
}
