{
 "cells": [
  {
   "cell_type": "code",
   "execution_count": null,
   "id": "44bc83f9-de33-44c4-8536-2383eebca85f",
   "metadata": {
    "tags": []
   },
   "outputs": [],
   "source": [
    "!pip install sdv==0.18.0"
   ]
  },
  {
   "cell_type": "code",
   "execution_count": null,
   "id": "59bdc408-b8d1-4ea4-8842-19a70fdbf354",
   "metadata": {},
   "outputs": [],
   "source": [
    "from sdv.timeseries import PAR\n",
    "import pandas as pd\n",
    "from sklearn.preprocessing import MinMaxScaler\n",
    "from pickle import dump, load"
   ]
  },
  {
   "cell_type": "code",
   "execution_count": null,
   "id": "c3bfc5bb-9062-4ef9-a621-d1138d2c613c",
   "metadata": {},
   "outputs": [],
   "source": [
    "# https://www.kaggle.com/code/xiaxiaxu/predictmachinefailureinadvance/data\n",
    "sensor = pd.read_csv(\"sensor.csv\")\n",
    "\n",
    "# only keeping cols w high var in pca analysis + machine status\n",
    "data = sensor[\n",
    "    [\"timestamp\", \"sensor_25\", \"sensor_11\", \"sensor_36\", \"sensor_34\", \"machine_status\"]\n",
    "]"
   ]
  },
  {
   "cell_type": "code",
   "execution_count": null,
   "id": "9183aecc-e47d-4e97-8855-9b67d9e0f4a3",
   "metadata": {},
   "outputs": [],
   "source": [
    "data_around_failures = data.iloc[16000:26000]\n",
    "data_around_failures.head()"
   ]
  },
  {
   "cell_type": "code",
   "execution_count": null,
   "id": "eabb8ffd-872e-41a2-945d-d166bc4fc8b3",
   "metadata": {},
   "outputs": [],
   "source": [
    "data_around_failures[\"timestamp\"] = pd.to_datetime(data_around_failures[\"timestamp\"])"
   ]
  },
  {
   "cell_type": "code",
   "execution_count": null,
   "id": "efd3c19d-b190-4510-8572-e14b7b5d2df8",
   "metadata": {},
   "outputs": [],
   "source": [
    "print(data_around_failures[data_around_failures.isna().any(axis=1)])\n",
    "\n",
    "# we only have one row with NA, let's simply drop that.\n",
    "\n",
    "data_around_failures.dropna(axis=0, inplace=True)\n",
    "\n",
    "print(data_around_failures[data_around_failures.isna().any(axis=1)])"
   ]
  },
  {
   "cell_type": "code",
   "execution_count": null,
   "id": "12ebe56c-bf2b-4e00-a1d9-b590a71e4ac4",
   "metadata": {},
   "outputs": [],
   "source": [
    "sensor_25_data = data_around_failures[[\"timestamp\", \"sensor_25\"]]\n",
    "sensor_25_data.head()"
   ]
  },
  {
   "cell_type": "code",
   "execution_count": null,
   "id": "a4e3341b-79ed-449e-884a-17a4834a5916",
   "metadata": {},
   "outputs": [],
   "source": [
    "import matplotlib.pyplot as plt\n",
    "\n",
    "sensor_25_data.set_index(\"timestamp\").plot()"
   ]
  },
  {
   "cell_type": "code",
   "execution_count": null,
   "id": "f0e0d686-308e-4683-b72b-bb01161f8827",
   "metadata": {},
   "outputs": [],
   "source": [
    "sensor_25_scaler = MinMaxScaler()\n",
    "\n",
    "# scaling our data, then saving our scaler object for future use.\n",
    "sensor_25_data[[\"sensor_25\"]] = sensor_25_scaler.fit_transform(\n",
    "    sensor_25_data[[\"sensor_25\"]]\n",
    ")\n",
    "\n",
    "dump(sensor_25_scaler, open(\"sensor_25_scaler.pkl\", \"wb\"))"
   ]
  },
  {
   "cell_type": "code",
   "execution_count": null,
   "id": "01e89a6c-9a26-4d56-991b-2e8a1aea8ca1",
   "metadata": {},
   "outputs": [],
   "source": [
    "print(sensor_25_data.dtypes)\n",
    "print(len(sensor_25_data))\n",
    "\n",
    "sensor_25_data.head()"
   ]
  },
  {
   "cell_type": "code",
   "execution_count": null,
   "id": "62fe719d-558d-41fa-94fd-8eb3d427f662",
   "metadata": {},
   "outputs": [],
   "source": [
    "# okay, we should be set to train our first model. let's give it a go!\n",
    "\n",
    "sequence_index = \"timestamp\"\n",
    "sensor_25_model = PAR(sequence_index=sequence_index, verbose=True, epochs=48)"
   ]
  },
  {
   "cell_type": "code",
   "execution_count": null,
   "id": "21d42505-6ebd-4e13-84f9-412a2161356a",
   "metadata": {},
   "outputs": [],
   "source": [
    "sensor_25_model.fit(sensor_25_data)"
   ]
  },
  {
   "cell_type": "code",
   "execution_count": null,
   "id": "3c2ae29d-8e29-4197-8645-277adc9ed8e9",
   "metadata": {},
   "outputs": [],
   "source": [
    "sensor_25_model.save(\"25_model.pkl\")"
   ]
  },
  {
   "cell_type": "code",
   "execution_count": null,
   "id": "0a94de73-9e73-48dd-837a-6417c33c29e7",
   "metadata": {},
   "outputs": [],
   "source": [
    "# sample = sensor_25_model.sample(num_sequences=1)"
   ]
  },
  {
   "cell_type": "code",
   "execution_count": null,
   "id": "f6588bd9-23b9-4c10-a4ca-ee19b8671d99",
   "metadata": {},
   "outputs": [],
   "source": [
    "# sample.set_index('timestamp').plot()"
   ]
  }
 ],
 "metadata": {
  "kernelspec": {
   "display_name": "Python 3 (ipykernel)",
   "language": "python",
   "name": "python3"
  },
  "language_info": {
   "codemirror_mode": {
    "name": "ipython",
    "version": 3
   },
   "file_extension": ".py",
   "mimetype": "text/x-python",
   "name": "python",
   "nbconvert_exporter": "python",
   "pygments_lexer": "ipython3",
   "version": "3.8.8"
  }
 },
 "nbformat": 4,
 "nbformat_minor": 5
}
