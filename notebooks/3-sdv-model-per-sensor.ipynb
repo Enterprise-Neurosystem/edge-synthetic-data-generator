{
 "cells": [
  {
   "cell_type": "code",
   "execution_count": null,
   "id": "44bc83f9-de33-44c4-8536-2383eebca85f",
   "metadata": {
    "tags": []
   },
   "outputs": [],
   "source": [
    "!pip install sdv"
   ]
  },
  {
   "cell_type": "code",
   "execution_count": 2,
   "id": "59bdc408-b8d1-4ea4-8842-19a70fdbf354",
   "metadata": {},
   "outputs": [],
   "source": [
    "from sdv.timeseries import PAR\n",
    "import pandas as pd\n",
    "from sklearn.preprocessing import MinMaxScaler\n",
    "from pickle import dump, load"
   ]
  },
  {
   "cell_type": "code",
   "execution_count": 3,
   "id": "c3bfc5bb-9062-4ef9-a621-d1138d2c613c",
   "metadata": {},
   "outputs": [],
   "source": [
    "# https://www.kaggle.com/code/xiaxiaxu/predictmachinefailureinadvance/data\n",
    "sensor = pd.read_csv('sensor.csv') \n",
    "\n",
    "# only keeping cols w high var in pca analysis + machine status\n",
    "data = sensor[['timestamp', 'sensor_25', 'sensor_11', 'sensor_36', 'sensor_34', 'machine_status']]"
   ]
  },
  {
   "cell_type": "code",
   "execution_count": 4,
   "id": "9183aecc-e47d-4e97-8855-9b67d9e0f4a3",
   "metadata": {},
   "outputs": [
    {
     "data": {
      "text/html": [
       "<div>\n",
       "<style scoped>\n",
       "    .dataframe tbody tr th:only-of-type {\n",
       "        vertical-align: middle;\n",
       "    }\n",
       "\n",
       "    .dataframe tbody tr th {\n",
       "        vertical-align: top;\n",
       "    }\n",
       "\n",
       "    .dataframe thead th {\n",
       "        text-align: right;\n",
       "    }\n",
       "</style>\n",
       "<table border=\"1\" class=\"dataframe\">\n",
       "  <thead>\n",
       "    <tr style=\"text-align: right;\">\n",
       "      <th></th>\n",
       "      <th>timestamp</th>\n",
       "      <th>sensor_25</th>\n",
       "      <th>sensor_11</th>\n",
       "      <th>sensor_36</th>\n",
       "      <th>sensor_34</th>\n",
       "      <th>machine_status</th>\n",
       "    </tr>\n",
       "  </thead>\n",
       "  <tbody>\n",
       "    <tr>\n",
       "      <th>16000</th>\n",
       "      <td>2018-04-12 02:40:00</td>\n",
       "      <td>649.0801</td>\n",
       "      <td>49.93274</td>\n",
       "      <td>299.4172</td>\n",
       "      <td>160.6844</td>\n",
       "      <td>NORMAL</td>\n",
       "    </tr>\n",
       "    <tr>\n",
       "      <th>16001</th>\n",
       "      <td>2018-04-12 02:41:00</td>\n",
       "      <td>651.8054</td>\n",
       "      <td>51.08754</td>\n",
       "      <td>296.3760</td>\n",
       "      <td>162.5435</td>\n",
       "      <td>NORMAL</td>\n",
       "    </tr>\n",
       "    <tr>\n",
       "      <th>16002</th>\n",
       "      <td>2018-04-12 02:42:00</td>\n",
       "      <td>650.1391</td>\n",
       "      <td>51.24662</td>\n",
       "      <td>305.7853</td>\n",
       "      <td>164.4021</td>\n",
       "      <td>NORMAL</td>\n",
       "    </tr>\n",
       "    <tr>\n",
       "      <th>16003</th>\n",
       "      <td>2018-04-12 02:43:00</td>\n",
       "      <td>649.2632</td>\n",
       "      <td>51.93151</td>\n",
       "      <td>294.0909</td>\n",
       "      <td>166.5538</td>\n",
       "      <td>NORMAL</td>\n",
       "    </tr>\n",
       "    <tr>\n",
       "      <th>16004</th>\n",
       "      <td>2018-04-12 02:44:00</td>\n",
       "      <td>643.1567</td>\n",
       "      <td>51.71158</td>\n",
       "      <td>298.7494</td>\n",
       "      <td>168.0882</td>\n",
       "      <td>NORMAL</td>\n",
       "    </tr>\n",
       "  </tbody>\n",
       "</table>\n",
       "</div>"
      ],
      "text/plain": [
       "                 timestamp  sensor_25  sensor_11  sensor_36  sensor_34  \\\n",
       "16000  2018-04-12 02:40:00   649.0801   49.93274   299.4172   160.6844   \n",
       "16001  2018-04-12 02:41:00   651.8054   51.08754   296.3760   162.5435   \n",
       "16002  2018-04-12 02:42:00   650.1391   51.24662   305.7853   164.4021   \n",
       "16003  2018-04-12 02:43:00   649.2632   51.93151   294.0909   166.5538   \n",
       "16004  2018-04-12 02:44:00   643.1567   51.71158   298.7494   168.0882   \n",
       "\n",
       "      machine_status  \n",
       "16000         NORMAL  \n",
       "16001         NORMAL  \n",
       "16002         NORMAL  \n",
       "16003         NORMAL  \n",
       "16004         NORMAL  "
      ]
     },
     "execution_count": 4,
     "metadata": {},
     "output_type": "execute_result"
    }
   ],
   "source": [
    "data_around_failures = data.iloc[16000:26000]\n",
    "data_around_failures.head() "
   ]
  },
  {
   "cell_type": "code",
   "execution_count": 5,
   "id": "eabb8ffd-872e-41a2-945d-d166bc4fc8b3",
   "metadata": {},
   "outputs": [
    {
     "name": "stderr",
     "output_type": "stream",
     "text": [
      "/tmp/ipykernel_3449/8706744.py:1: SettingWithCopyWarning: \n",
      "A value is trying to be set on a copy of a slice from a DataFrame.\n",
      "Try using .loc[row_indexer,col_indexer] = value instead\n",
      "\n",
      "See the caveats in the documentation: https://pandas.pydata.org/pandas-docs/stable/user_guide/indexing.html#returning-a-view-versus-a-copy\n",
      "  data_around_failures['timestamp']= pd.to_datetime(data_around_failures['timestamp'])\n"
     ]
    }
   ],
   "source": [
    "data_around_failures['timestamp']= pd.to_datetime(data_around_failures['timestamp'])\n"
   ]
  },
  {
   "cell_type": "code",
   "execution_count": 6,
   "id": "efd3c19d-b190-4510-8572-e14b7b5d2df8",
   "metadata": {},
   "outputs": [
    {
     "name": "stdout",
     "output_type": "stream",
     "text": [
      "                timestamp  sensor_25  sensor_11  sensor_36  sensor_34  \\\n",
      "25112 2018-04-18 10:32:00   778.3798        NaN   320.4606   168.2153   \n",
      "\n",
      "      machine_status  \n",
      "25112     RECOVERING  \n",
      "Empty DataFrame\n",
      "Columns: [timestamp, sensor_25, sensor_11, sensor_36, sensor_34, machine_status]\n",
      "Index: []\n"
     ]
    },
    {
     "name": "stderr",
     "output_type": "stream",
     "text": [
      "/tmp/ipykernel_3449/695179921.py:5: SettingWithCopyWarning: \n",
      "A value is trying to be set on a copy of a slice from a DataFrame\n",
      "\n",
      "See the caveats in the documentation: https://pandas.pydata.org/pandas-docs/stable/user_guide/indexing.html#returning-a-view-versus-a-copy\n",
      "  data_around_failures.dropna(axis=0, inplace=True)\n"
     ]
    }
   ],
   "source": [
    "print(data_around_failures[data_around_failures.isna().any(axis=1)])\n",
    "\n",
    "# we only have one row with NA, let's simply drop that.\n",
    "\n",
    "data_around_failures.dropna(axis=0, inplace=True)\n",
    "\n",
    "print(data_around_failures[data_around_failures.isna().any(axis=1)])"
   ]
  },
  {
   "cell_type": "code",
   "execution_count": 7,
   "id": "12ebe56c-bf2b-4e00-a1d9-b590a71e4ac4",
   "metadata": {},
   "outputs": [
    {
     "data": {
      "text/html": [
       "<div>\n",
       "<style scoped>\n",
       "    .dataframe tbody tr th:only-of-type {\n",
       "        vertical-align: middle;\n",
       "    }\n",
       "\n",
       "    .dataframe tbody tr th {\n",
       "        vertical-align: top;\n",
       "    }\n",
       "\n",
       "    .dataframe thead th {\n",
       "        text-align: right;\n",
       "    }\n",
       "</style>\n",
       "<table border=\"1\" class=\"dataframe\">\n",
       "  <thead>\n",
       "    <tr style=\"text-align: right;\">\n",
       "      <th></th>\n",
       "      <th>timestamp</th>\n",
       "      <th>sensor_25</th>\n",
       "    </tr>\n",
       "  </thead>\n",
       "  <tbody>\n",
       "    <tr>\n",
       "      <th>16000</th>\n",
       "      <td>2018-04-12 02:40:00</td>\n",
       "      <td>649.0801</td>\n",
       "    </tr>\n",
       "    <tr>\n",
       "      <th>16001</th>\n",
       "      <td>2018-04-12 02:41:00</td>\n",
       "      <td>651.8054</td>\n",
       "    </tr>\n",
       "    <tr>\n",
       "      <th>16002</th>\n",
       "      <td>2018-04-12 02:42:00</td>\n",
       "      <td>650.1391</td>\n",
       "    </tr>\n",
       "    <tr>\n",
       "      <th>16003</th>\n",
       "      <td>2018-04-12 02:43:00</td>\n",
       "      <td>649.2632</td>\n",
       "    </tr>\n",
       "    <tr>\n",
       "      <th>16004</th>\n",
       "      <td>2018-04-12 02:44:00</td>\n",
       "      <td>643.1567</td>\n",
       "    </tr>\n",
       "  </tbody>\n",
       "</table>\n",
       "</div>"
      ],
      "text/plain": [
       "                timestamp  sensor_25\n",
       "16000 2018-04-12 02:40:00   649.0801\n",
       "16001 2018-04-12 02:41:00   651.8054\n",
       "16002 2018-04-12 02:42:00   650.1391\n",
       "16003 2018-04-12 02:43:00   649.2632\n",
       "16004 2018-04-12 02:44:00   643.1567"
      ]
     },
     "execution_count": 7,
     "metadata": {},
     "output_type": "execute_result"
    }
   ],
   "source": [
    "sensor_25_data = data_around_failures[['timestamp', 'sensor_25']]\n",
    "sensor_25_data.head()"
   ]
  },
  {
   "cell_type": "code",
   "execution_count": 8,
   "id": "a4e3341b-79ed-449e-884a-17a4834a5916",
   "metadata": {},
   "outputs": [
    {
     "data": {
      "text/plain": [
       "<AxesSubplot:xlabel='timestamp'>"
      ]
     },
     "execution_count": 8,
     "metadata": {},
     "output_type": "execute_result"
    },
    {
     "data": {
      "image/png": "[encoded data removed]",
      "text/plain": [
       "<Figure size 432x288 with 1 Axes>"
      ]
     },
     "metadata": {
      "needs_background": "light"
     },
     "output_type": "display_data"
    }
   ],
   "source": [
    "import matplotlib.pyplot as plt\n",
    "\n",
    "sensor_25_data.set_index('timestamp').plot()"
   ]
  },
  {
   "cell_type": "code",
   "execution_count": 9,
   "id": "f0e0d686-308e-4683-b72b-bb01161f8827",
   "metadata": {},
   "outputs": [
    {
     "name": "stderr",
     "output_type": "stream",
     "text": [
      "/tmp/ipykernel_3449/3145465808.py:4: SettingWithCopyWarning: \n",
      "A value is trying to be set on a copy of a slice from a DataFrame.\n",
      "Try using .loc[row_indexer,col_indexer] = value instead\n",
      "\n",
      "See the caveats in the documentation: https://pandas.pydata.org/pandas-docs/stable/user_guide/indexing.html#returning-a-view-versus-a-copy\n",
      "  sensor_25_data[['sensor_25']] = sensor_25_scaler.fit_transform(sensor_25_data[['sensor_25']])\n",
      "/opt/app-root/lib64/python3.8/site-packages/pandas/core/indexing.py:1738: SettingWithCopyWarning: \n",
      "A value is trying to be set on a copy of a slice from a DataFrame.\n",
      "Try using .loc[row_indexer,col_indexer] = value instead\n",
      "\n",
      "See the caveats in the documentation: https://pandas.pydata.org/pandas-docs/stable/user_guide/indexing.html#returning-a-view-versus-a-copy\n",
      "  self._setitem_single_column(loc, value[:, i].tolist(), pi)\n"
     ]
    }
   ],
   "source": [
    "sensor_25_scaler = MinMaxScaler()\n",
    "\n",
    "# scaling our data, then saving our scaler object for future use.\n",
    "sensor_25_data[['sensor_25']] = sensor_25_scaler.fit_transform(sensor_25_data[['sensor_25']])\n",
    "\n",
    "dump(sensor_25_scaler, open('sensor_25_scaler.pkl', 'wb'))"
   ]
  },
  {
   "cell_type": "code",
   "execution_count": 10,
   "id": "01e89a6c-9a26-4d56-991b-2e8a1aea8ca1",
   "metadata": {},
   "outputs": [
    {
     "name": "stdout",
     "output_type": "stream",
     "text": [
      "timestamp    datetime64[ns]\n",
      "sensor_25           float64\n",
      "dtype: object\n",
      "9999\n"
     ]
    },
    {
     "data": {
      "text/html": [
       "<div>\n",
       "<style scoped>\n",
       "    .dataframe tbody tr th:only-of-type {\n",
       "        vertical-align: middle;\n",
       "    }\n",
       "\n",
       "    .dataframe tbody tr th {\n",
       "        vertical-align: top;\n",
       "    }\n",
       "\n",
       "    .dataframe thead th {\n",
       "        text-align: right;\n",
       "    }\n",
       "</style>\n",
       "<table border=\"1\" class=\"dataframe\">\n",
       "  <thead>\n",
       "    <tr style=\"text-align: right;\">\n",
       "      <th></th>\n",
       "      <th>timestamp</th>\n",
       "      <th>sensor_25</th>\n",
       "    </tr>\n",
       "  </thead>\n",
       "  <tbody>\n",
       "    <tr>\n",
       "      <th>16000</th>\n",
       "      <td>2018-04-12 02:40:00</td>\n",
       "      <td>0.317054</td>\n",
       "    </tr>\n",
       "    <tr>\n",
       "      <th>16001</th>\n",
       "      <td>2018-04-12 02:41:00</td>\n",
       "      <td>0.330166</td>\n",
       "    </tr>\n",
       "    <tr>\n",
       "      <th>16002</th>\n",
       "      <td>2018-04-12 02:42:00</td>\n",
       "      <td>0.322149</td>\n",
       "    </tr>\n",
       "    <tr>\n",
       "      <th>16003</th>\n",
       "      <td>2018-04-12 02:43:00</td>\n",
       "      <td>0.317935</td>\n",
       "    </tr>\n",
       "    <tr>\n",
       "      <th>16004</th>\n",
       "      <td>2018-04-12 02:44:00</td>\n",
       "      <td>0.288555</td>\n",
       "    </tr>\n",
       "  </tbody>\n",
       "</table>\n",
       "</div>"
      ],
      "text/plain": [
       "                timestamp  sensor_25\n",
       "16000 2018-04-12 02:40:00   0.317054\n",
       "16001 2018-04-12 02:41:00   0.330166\n",
       "16002 2018-04-12 02:42:00   0.322149\n",
       "16003 2018-04-12 02:43:00   0.317935\n",
       "16004 2018-04-12 02:44:00   0.288555"
      ]
     },
     "execution_count": 10,
     "metadata": {},
     "output_type": "execute_result"
    }
   ],
   "source": [
    "print(sensor_25_data.dtypes)\n",
    "print(len(sensor_25_data))\n",
    "\n",
    "sensor_25_data.head()"
   ]
  },
  {
   "cell_type": "code",
   "execution_count": 16,
   "id": "62fe719d-558d-41fa-94fd-8eb3d427f662",
   "metadata": {},
   "outputs": [],
   "source": [
    "# okay, we should be set to train our first model. let's give it a go!\n",
    "\n",
    "sequence_index = 'timestamp'\n",
    "sensor_25_model = PAR(sequence_index = sequence_index, verbose=True, epochs=48)\n"
   ]
  },
  {
   "cell_type": "code",
   "execution_count": 17,
   "id": "21d42505-6ebd-4e13-84f9-412a2161356a",
   "metadata": {},
   "outputs": [
    {
     "name": "stdout",
     "output_type": "stream",
     "text": [
      "PARModel(epochs=48, sample_size=1, cuda='cpu', verbose=True) instance created\n"
     ]
    },
    {
     "name": "stderr",
     "output_type": "stream",
     "text": [
      "Epoch 48 | Loss 1400.43408203125: 100%|██████████| 48/48 [05:21<00:00,  6.70s/it] \n"
     ]
    }
   ],
   "source": [
    "sensor_25_model.fit(sensor_25_data)"
   ]
  },
  {
   "cell_type": "code",
   "execution_count": 18,
   "id": "3c2ae29d-8e29-4197-8645-277adc9ed8e9",
   "metadata": {},
   "outputs": [],
   "source": [
    "sensor_25_model.save('25_model.pkl')"
   ]
  },
  {
   "cell_type": "code",
   "execution_count": 14,
   "id": "0a94de73-9e73-48dd-837a-6417c33c29e7",
   "metadata": {},
   "outputs": [],
   "source": [
    "# sample = sensor_25_model.sample(num_sequences=1)"
   ]
  },
  {
   "cell_type": "code",
   "execution_count": 15,
   "id": "f6588bd9-23b9-4c10-a4ca-ee19b8671d99",
   "metadata": {},
   "outputs": [],
   "source": [
    "# sample.set_index('timestamp').plot()"
   ]
  }
 ],
 "metadata": {
  "kernelspec": {
   "display_name": "Python 3 (ipykernel)",
   "language": "python",
   "name": "python3"
  },
  "language_info": {
   "codemirror_mode": {
    "name": "ipython",
    "version": 3
   },
   "file_extension": ".py",
   "mimetype": "text/x-python",
   "name": "python",
   "nbconvert_exporter": "python",
   "pygments_lexer": "ipython3",
   "version": "3.8.8"
  }
 },
 "nbformat": 4,
 "nbformat_minor": 5
}
