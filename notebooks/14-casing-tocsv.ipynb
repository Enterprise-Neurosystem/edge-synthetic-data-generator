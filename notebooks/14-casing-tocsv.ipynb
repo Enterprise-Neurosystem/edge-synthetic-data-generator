{
 "cells": [
  {
   "cell_type": "code",
   "execution_count": null,
   "id": "934838bb-e22d-4c45-b942-1c02356ed717",
   "metadata": {
    "collapsed": true,
    "jupyter": {
     "outputs_hidden": true
    },
    "tags": []
   },
   "outputs": [],
   "source": [
    "!pip install torch==1.11.0  # version recommended by source\n",
    "!pip install git+https://github.com/gretelai/gretel-synthetics.git"
   ]
  },
  {
   "cell_type": "code",
   "execution_count": null,
   "id": "8a6de713-05c5-4916-b9e8-487a0751b3fb",
   "metadata": {},
   "outputs": [],
   "source": [
    "import pandas as pd\n",
    "import numpy as np\n",
    "\n",
    "import matplotlib.pyplot as plt\n",
    "import matplotlib.dates as md\n",
    "from sklearn.preprocessing import MinMaxScaler\n",
    "from pickle import dump, load\n",
    "from skimage.util.shape import view_as_windows\n",
    "import time\n",
    "\n",
    "import torch\n",
    "\n",
    "from gretel_synthetics.timeseries_dgan.dgan import DGAN\n",
    "from gretel_synthetics.timeseries_dgan.config import DGANConfig, OutputType"
   ]
  },
  {
   "cell_type": "code",
   "execution_count": null,
   "id": "50d3fdd0-298e-4d0e-9b42-8e2f87635358",
   "metadata": {},
   "outputs": [],
   "source": [
    "# set up DGAN config.\n",
    "\n",
    "config = DGANConfig(\n",
    "    max_sequence_len=100,\n",
    "    sample_len=20,  # trying a larger sample_len\n",
    "    batch_size=min(1000, 51),\n",
    "    apply_feature_scaling=True,\n",
    "    apply_example_scaling=False,\n",
    "    use_attribute_discriminator=False,\n",
    "    generator_learning_rate=1e-4,\n",
    "    discriminator_learning_rate=1e-4,\n",
    "    epochs=10000,\n",
    ")\n",
    "\n",
    "model = DGAN(config)"
   ]
  },
  {
   "cell_type": "code",
   "execution_count": null,
   "id": "1c7b8842-6731-4c09-b7fd-4213868a1b08",
   "metadata": {},
   "outputs": [],
   "source": [
    "# loading model for future use\n",
    "model = model.load(\"../models/dgan_casing.pt\")"
   ]
  },
  {
   "cell_type": "code",
   "execution_count": null,
   "id": "393bdd61-3cd1-4f6d-9069-7b0fe7057268",
   "metadata": {},
   "outputs": [],
   "source": [
    "# Generate synthetic data - this ran near instantly\n",
    "_, synthetic_features = model.generate_numpy(1000)"
   ]
  },
  {
   "cell_type": "code",
   "execution_count": null,
   "id": "1a8e5966-57ac-4b9e-8d09-f3b8912ecca5",
   "metadata": {},
   "outputs": [],
   "source": [
    "def plot_100_slice(slice, ind):\n",
    "    plt.plot(slice, label=\"pressure\")\n",
    "    ax = plt.gca()\n",
    "    ax.title.set_text(\"Slice\" + str(ind))\n",
    "    plt.legend(prop={\"size\": 9})"
   ]
  },
  {
   "cell_type": "code",
   "execution_count": null,
   "id": "1cfd94b8-8864-4dc4-be20-378caf47a043",
   "metadata": {},
   "outputs": [],
   "source": [
    "# plot random synthetic windows\n",
    "\n",
    "figure = plt.figure(figsize=(10, 10))\n",
    "figure.suptitle(\"Synthetic 100 row Window plots\", fontsize=25, fontweight=\"roman\")\n",
    "\n",
    "for i in range(9):\n",
    "    figure.add_subplot(3, 3, i + 1)\n",
    "    index = np.random.choice(1000)\n",
    "    sl = synthetic_features[index]\n",
    "    plot_100_slice(sl, index)\n",
    "\n",
    "plt.show()"
   ]
  },
  {
   "cell_type": "code",
   "execution_count": null,
   "id": "4b655f54-9ad2-4d62-970e-2d0532bda814",
   "metadata": {},
   "outputs": [],
   "source": [
    "synthetic_features.shape"
   ]
  },
  {
   "cell_type": "code",
   "execution_count": null,
   "id": "07e450ff-990c-49ab-a301-6f491191ac19",
   "metadata": {},
   "outputs": [],
   "source": [
    "reshaped_data = np.empty((100000, 2))"
   ]
  },
  {
   "cell_type": "code",
   "execution_count": null,
   "id": "ce5f6997-ff05-411e-9a27-fbe51acc15e7",
   "metadata": {},
   "outputs": [],
   "source": [
    "init = 0\n",
    "# outer loop around samples\n",
    "for x in range(1000):\n",
    "    # loop of each sample\n",
    "    for y in range(100):\n",
    "        reshaped_data[init][0] = x + 1000\n",
    "        reshaped_data[init][1] = synthetic_features[x, y, 0]\n",
    "        init += 1"
   ]
  },
  {
   "cell_type": "code",
   "execution_count": null,
   "id": "36636100-1d48-4ba7-95af-8fe5da5c0b34",
   "metadata": {},
   "outputs": [],
   "source": [
    "reshaped_data"
   ]
  },
  {
   "cell_type": "code",
   "execution_count": null,
   "id": "0aae625a-1a68-4271-8e7a-7365da8a3875",
   "metadata": {},
   "outputs": [],
   "source": [
    "reshaped_df = pd.DataFrame(reshaped_data, columns=[\"id\", \"pressure\"])"
   ]
  },
  {
   "cell_type": "code",
   "execution_count": null,
   "id": "3fade881-ad0e-46af-897e-260a715b8751",
   "metadata": {},
   "outputs": [],
   "source": [
    "reshaped_df"
   ]
  },
  {
   "cell_type": "code",
   "execution_count": null,
   "id": "10333f16-666e-4a4e-8b79-002d9db3cf73",
   "metadata": {},
   "outputs": [],
   "source": [
    "reshaped_df.to_csv(\"../data/gasPump/synthetic_casing.csv\", index=None)"
   ]
  },
  {
   "cell_type": "code",
   "execution_count": null,
   "id": "c52af1e8-462c-448e-a620-73fd1843f252",
   "metadata": {},
   "outputs": [],
   "source": []
  }
 ],
 "metadata": {
  "kernelspec": {
   "display_name": "Python 3.10.5 64-bit",
   "language": "python",
   "name": "python3"
  },
  "language_info": {
   "codemirror_mode": {
    "name": "ipython",
    "version": 3
   },
   "file_extension": ".py",
   "mimetype": "text/x-python",
   "name": "python",
   "nbconvert_exporter": "python",
   "pygments_lexer": "ipython3",
   "version": "3.10.5"
  },
  "vscode": {
   "interpreter": {
    "hash": "e7370f93d1d0cde622a1f8e1c04877d8463912d04d973331ad4851f04de6915a"
   }
  }
 },
 "nbformat": 4,
 "nbformat_minor": 5
}
