{
 "cells": [
  {
   "cell_type": "code",
   "execution_count": null,
   "id": "3b00d59c-b403-463d-8e29-bdb926d82c47",
   "metadata": {},
   "outputs": [],
   "source": [
    "!pip install torch==1.11.0\n",
    "!pip install git+https://github.com/gretelai/gretel-synthetics.git"
   ]
  },
  {
   "cell_type": "code",
   "execution_count": null,
   "id": "657dbd76-919b-48dc-8f09-59a1117bc219",
   "metadata": {},
   "outputs": [],
   "source": [
    "import pandas as pd\n",
    "import numpy as np\n",
    "\n",
    "import matplotlib.pyplot as plt\n",
    "import matplotlib.dates as md\n",
    "import seaborn as sns\n",
    "from sklearn.preprocessing import MinMaxScaler\n",
    "from pickle import dump, load\n",
    "from skimage.util.shape import view_as_windows\n",
    "\n",
    "import torch\n",
    "\n",
    "from gretel_synthetics.timeseries_dgan.dgan import DGAN\n",
    "from gretel_synthetics.timeseries_dgan.config import DGANConfig, OutputType"
   ]
  },
  {
   "cell_type": "code",
   "execution_count": null,
   "id": "5c06c2e0-b254-49a2-95b6-c5528523222e",
   "metadata": {},
   "outputs": [],
   "source": [
    "slice0 = pd.read_csv(\"../data/kagglePump/full_slice0.csv\")\n",
    "slice1 = pd.read_csv(\"../data/kagglePump/full_slice1.csv\")\n",
    "slice2 = pd.read_csv(\"../data/kagglePump/full_slice2.csv\")\n",
    "slice3 = pd.read_csv(\"../data/kagglePump/full_slice3.csv\")\n",
    "slice4 = pd.read_csv(\"../data/kagglePump/full_slice4.csv\")\n",
    "slice5 = pd.read_csv(\"../data/kagglePump/full_slice5.csv\")\n",
    "slice6 = pd.read_csv(\"../data/kagglePump/full_slice6.csv\")\n",
    "\n",
    "print(\n",
    "    slice0.shape,\n",
    "    slice1.shape,\n",
    "    slice2.shape,\n",
    "    slice3.shape,\n",
    "    slice4.shape,\n",
    "    slice5.shape,\n",
    "    slice6.shape,\n",
    ")"
   ]
  },
  {
   "cell_type": "code",
   "execution_count": null,
   "id": "aa62094e-1e28-46e4-9c7a-93dd08a7cfed",
   "metadata": {},
   "outputs": [],
   "source": [
    "slices_list = [slice0, slice1, slice2, slice3, slice4, slice5, slice6]\n",
    "\n",
    "slices_list.pop(4)\n",
    "\n",
    "print(len(slices_list))"
   ]
  },
  {
   "cell_type": "code",
   "execution_count": null,
   "id": "24ad0c44-e694-4222-bc3b-10feb3cae906",
   "metadata": {},
   "outputs": [],
   "source": [
    "COLS_TO_DROP = [\"Unnamed: 0\", \"sensor_00\", \"sensor_15\", \"sensor_50\", \"sensor_51\"]\n",
    "cleanup_nums = {\"machine_status\": {\"NORMAL\": 0, \"BROKEN\": 1, \"RECOVERING\": 2}}\n",
    "\n",
    "for sl in slices_list:\n",
    "    sl[\"timestamp\"] = pd.to_datetime(sl[\"timestamp\"])  # cast to datatype\n",
    "    sl = sl.drop(COLS_TO_DROP, axis=1, inplace=True)  # drop cols\n",
    "\n",
    "for sl in slices_list:\n",
    "    sl = sl.replace(cleanup_nums)\n",
    "\n",
    "for sl in slices_list:\n",
    "    sl = sl.dropna(axis=0, inplace=True)  # drop nans"
   ]
  },
  {
   "cell_type": "code",
   "execution_count": null,
   "id": "3ed16cb5-efc0-4f25-9775-b35eef872e69",
   "metadata": {},
   "outputs": [],
   "source": [
    "# set up DGAN config.\n",
    "config = DGANConfig(\n",
    "    max_sequence_len=720,\n",
    "    sample_len=20,  # trying a larger sample_len\n",
    "    batch_size=300,\n",
    "    apply_feature_scaling=True,\n",
    "    apply_example_scaling=False,\n",
    "    use_attribute_discriminator=False,\n",
    "    generator_learning_rate=1e-4,\n",
    "    discriminator_learning_rate=1e-4,\n",
    "    epochs=10000,\n",
    ")\n",
    "\n",
    "model = DGAN(config)"
   ]
  },
  {
   "cell_type": "code",
   "execution_count": null,
   "id": "b07ffc66-a58f-40ab-9ff8-ad893c201c00",
   "metadata": {},
   "outputs": [],
   "source": [
    "# loading model 4 and 5\n",
    "model4 = model.load(\n",
    "    \"../models/dgan_model_4_48_sensors.pt\", map_location=torch.device(\"cpu\")\n",
    ")\n",
    "model5 = model.load(\n",
    "    \"../models/dgan_model_5_48_sensors.pt\", map_location=torch.device(\"cpu\")\n",
    ")"
   ]
  },
  {
   "cell_type": "code",
   "execution_count": null,
   "id": "a0bd7b2e-4db3-46ed-8836-8ee2780cb14a",
   "metadata": {},
   "outputs": [],
   "source": [
    "# Generate synthetic data - this ran near instantly\n",
    "_, synthetic_features4 = model4.generate_numpy(1000)\n",
    "_, synthetic_features5 = model5.generate_numpy(1000)"
   ]
  },
  {
   "cell_type": "code",
   "execution_count": null,
   "id": "f3515159-5942-4061-9cbc-173187e78f26",
   "metadata": {},
   "outputs": [],
   "source": [
    "# 1000 samples of 720 cols x 49 rows\n",
    "synthetic_features4.shape\n",
    "synthetic_features5.shape"
   ]
  },
  {
   "cell_type": "code",
   "execution_count": null,
   "id": "bc5e8855-19d0-4ae4-a15f-027102a4430a",
   "metadata": {},
   "outputs": [],
   "source": [
    "sensor_cols = slice0.columns\n",
    "sensor_cols = sensor_cols[1:]"
   ]
  },
  {
   "cell_type": "code",
   "execution_count": null,
   "id": "a55d4325-eff5-4bcd-a889-ad48e71a9ee5",
   "metadata": {},
   "outputs": [],
   "source": [
    "synthetic_df_4 = pd.DataFrame(\n",
    "    synthetic_features4.reshape(-1, synthetic_features4.shape[2]), columns=sensor_cols\n",
    ")\n",
    "synthetic_df_5 = pd.DataFrame(\n",
    "    synthetic_features5.reshape(-1, synthetic_features5.shape[2]), columns=sensor_cols\n",
    ")"
   ]
  },
  {
   "cell_type": "code",
   "execution_count": null,
   "id": "e768ae42-a81b-47ac-b1b5-748502a4af38",
   "metadata": {},
   "outputs": [],
   "source": [
    "# Concatenating list of dfs into one large one\n",
    "slices_list\n",
    "real_slices = pd.concat(slices_list)\n",
    "real_slices.drop([\"timestamp\"], axis=1, inplace=True)\n",
    "real_slices.head()"
   ]
  },
  {
   "cell_type": "markdown",
   "id": "11621ade-9fb1-4aec-add0-2b0315e5a9d2",
   "metadata": {},
   "source": [
    "Comparing the accuracy synthetic data 4 and synthetic data 5 to real data:\n",
    "I. Correlations\n",
    "II. Distributions\n",
    "III. PCA"
   ]
  },
  {
   "cell_type": "markdown",
   "id": "b3a8a572-e3eb-4d95-8979-394da3397c27",
   "metadata": {},
   "source": [
    "I. Correlations \n",
    "a) Correlation matrices for real, synthetic 4, and synthetic 5 data\n",
    "b) Correlation matrices for the differences between real and synthetic data\n",
    "c) Correlations between real and synthetic"
   ]
  },
  {
   "cell_type": "code",
   "execution_count": null,
   "id": "03627ef0-defa-4802-a685-932ec1f3a324",
   "metadata": {},
   "outputs": [],
   "source": [
    "# Correlation matrices: real,synthetic 4,synthetic 5\n",
    "fig, (ax1, ax2, ax3) = plt.subplots(1, 3, figsize=(20, 5))\n",
    "sns.heatmap(real_slices.corr(), cmap=\"Greens\", ax=ax1)\n",
    "sns.heatmap(synthetic_df_4.corr(), cmap=\"Blues\", ax=ax2)\n",
    "sns.heatmap(synthetic_df_5.corr(), cmap=\"BuPu\", ax=ax3)\n",
    "\n",
    "ax1.set_title(\"Real Data\")\n",
    "ax2.set_title(\"Synthetic Data 4\")\n",
    "ax3.set_title(\"Synthetic Data 5\")\n",
    "plt.show()"
   ]
  },
  {
   "cell_type": "code",
   "execution_count": null,
   "id": "005192d4-eb17-4d34-839b-4911ef91fdee",
   "metadata": {},
   "outputs": [],
   "source": [
    "# Let check for differences in correlation\n",
    "real_synthetic4_corr = (real_slices.corr() - synthetic_df_4.corr()).abs()\n",
    "real_synthetic5_corr = (real_slices.corr() - synthetic_df_4.corr()).abs()\n",
    "\n",
    "fig, (ax1, ax2) = plt.subplots(1, 2, figsize=(15, 5))\n",
    "sns.heatmap(real_synthetic4_corr, cmap=\"viridis\", ax=ax1)\n",
    "sns.heatmap(real_synthetic5_corr, cmap=\"magma\", ax=ax2)"
   ]
  },
  {
   "cell_type": "code",
   "execution_count": null,
   "id": "c3f0524b-725c-4b16-b266-1b2280f7a472",
   "metadata": {},
   "outputs": [],
   "source": [
    "# Autocorrelations\n",
    "real_slices.corrwith(synthetic_df_4)"
   ]
  },
  {
   "cell_type": "code",
   "execution_count": null,
   "id": "c84a63f1-be26-4a5c-9b30-c026ebee7ba4",
   "metadata": {},
   "outputs": [],
   "source": [
    "real_slices.corrwith(synthetic_df_5)"
   ]
  },
  {
   "cell_type": "markdown",
   "id": "48b72bc4-4c95-49bc-899b-70d50ce565d0",
   "metadata": {},
   "source": [
    "II. Distributions between of real and synthetic data\n",
    "a) Sensor 34\n",
    "b) Sensor 25 \n",
    "c) Sensor 11\n",
    "d) Sensor 36"
   ]
  },
  {
   "cell_type": "code",
   "execution_count": null,
   "id": "db47633b-f276-48b4-ade1-36a34637ebe3",
   "metadata": {},
   "outputs": [],
   "source": [
    "# Compare distributions of sensor_34 values\n",
    "plt.subplot(1, 2, 1)\n",
    "plt.hist(\n",
    "    [real_slices[\"sensor_34\"], synthetic_df_4[\"sensor_34\"]],\n",
    "    label=[\"real\", \"synthetic\"],\n",
    "    bins=25,\n",
    "    density=True,\n",
    ")\n",
    "plt.xlabel(\"Sensor 34 Values\")\n",
    "plt.ylabel(\"Density\")\n",
    "plt.title(\" Real vs. Synthetic 4\")\n",
    "\n",
    "plt.subplot(1, 2, 2)\n",
    "plt.hist(\n",
    "    [real_slices[\"sensor_34\"], synthetic_df_5[\"sensor_34\"]],\n",
    "    label=[\"real\", \"synthetic\"],\n",
    "    bins=25,\n",
    "    density=True,\n",
    ")\n",
    "plt.xlabel(\"Sensor 34 Values\")\n",
    "plt.ylabel(\"Density\")\n",
    "plt.title(\" Real vs. Synthetic 5\")\n",
    "plt.legend()\n",
    "\n",
    "plt.tight_layout()\n",
    "plt.show()"
   ]
  },
  {
   "cell_type": "code",
   "execution_count": null,
   "id": "40f03754-3c7d-46d1-bb30-afee517854b4",
   "metadata": {},
   "outputs": [],
   "source": [
    "# Compare distributions of sensor_25 values\n",
    "plt.subplot(1, 2, 1)\n",
    "plt.hist(\n",
    "    [real_slices[\"sensor_25\"], synthetic_df_4[\"sensor_25\"]],\n",
    "    label=[\"real\", \"synthetic\"],\n",
    "    bins=25,\n",
    "    density=True,\n",
    ")\n",
    "plt.xlabel(\"Sensor 25 Values\")\n",
    "plt.ylabel(\"Density\")\n",
    "plt.title(\" Real vs. Synthetic 4\")\n",
    "\n",
    "plt.subplot(1, 2, 2)\n",
    "plt.hist(\n",
    "    [real_slices[\"sensor_25\"], synthetic_df_5[\"sensor_25\"]],\n",
    "    label=[\"real\", \"synthetic\"],\n",
    "    bins=25,\n",
    "    density=True,\n",
    ")\n",
    "plt.xlabel(\"Sensor 25 Values\")\n",
    "plt.ylabel(\"Density\")\n",
    "plt.title(\" Real vs. Synthetic 5\")\n",
    "plt.legend()\n",
    "\n",
    "plt.tight_layout()\n",
    "plt.show()"
   ]
  },
  {
   "cell_type": "code",
   "execution_count": null,
   "id": "f5348f6f-31aa-40be-a575-f8b88b5561c7",
   "metadata": {},
   "outputs": [],
   "source": [
    "# Compare distributions of sensor_11 values\n",
    "plt.subplot(1, 2, 1)\n",
    "plt.hist(\n",
    "    [real_slices[\"sensor_11\"], synthetic_df_4[\"sensor_11\"]],\n",
    "    label=[\"real\", \"synthetic\"],\n",
    "    bins=25,\n",
    "    density=True,\n",
    ")\n",
    "plt.xlabel(\"Sensor 11 Values\")\n",
    "plt.ylabel(\"Density\")\n",
    "plt.title(\" Real vs. Synthetic 4\")\n",
    "\n",
    "plt.subplot(1, 2, 2)\n",
    "plt.hist(\n",
    "    [real_slices[\"sensor_11\"], synthetic_df_5[\"sensor_11\"]],\n",
    "    label=[\"real\", \"synthetic\"],\n",
    "    bins=25,\n",
    "    density=True,\n",
    ")\n",
    "plt.xlabel(\"Sensor 11 Values\")\n",
    "plt.ylabel(\"Density\")\n",
    "plt.title(\" Real vs. Synthetic 5\")\n",
    "plt.legend()\n",
    "\n",
    "plt.tight_layout()\n",
    "plt.show()"
   ]
  },
  {
   "cell_type": "code",
   "execution_count": null,
   "id": "edf3e80d-5117-4c43-b1ae-09027c256a42",
   "metadata": {},
   "outputs": [],
   "source": [
    "# Compare distributions of sensor_36 values\n",
    "plt.subplot(1, 2, 1)\n",
    "plt.hist(\n",
    "    [real_slices[\"sensor_36\"], synthetic_df_4[\"sensor_36\"]],\n",
    "    label=[\"real\", \"synthetic\"],\n",
    "    bins=25,\n",
    "    density=True,\n",
    ")\n",
    "plt.xlabel(\"Sensor 36 Values\")\n",
    "plt.ylabel(\"Density\")\n",
    "plt.title(\" Real vs. Synthetic 4\")\n",
    "\n",
    "plt.subplot(1, 2, 2)\n",
    "plt.hist(\n",
    "    [real_slices[\"sensor_36\"], synthetic_df_5[\"sensor_36\"]],\n",
    "    label=[\"real\", \"synthetic\"],\n",
    "    bins=25,\n",
    "    density=True,\n",
    ")\n",
    "plt.xlabel(\"Sensor 36 Values\")\n",
    "plt.ylabel(\"Density\")\n",
    "plt.title(\" Real vs. Synthetic 5\")\n",
    "plt.legend()\n",
    "\n",
    "plt.tight_layout()\n",
    "plt.show()"
   ]
  },
  {
   "cell_type": "markdown",
   "id": "93ff044e-c423-4900-9d80-c7f09b437fa2",
   "metadata": {},
   "source": [
    "III. PCA, based on this [article](https://medium.com/@clever.tech.memes/comparing-similarity-of-two-datasets-using-pca-a-technical-review-of-principal-component-analysis-94e528e4b191)"
   ]
  },
  {
   "cell_type": "code",
   "execution_count": null,
   "id": "6ac475d6-582b-40aa-a032-09d127c87f20",
   "metadata": {},
   "outputs": [],
   "source": [
    "# PCA\n",
    "from sklearn.decomposition import PCA\n",
    "from sklearn.preprocessing import MinMaxScaler\n",
    "\n",
    "scaler = MinMaxScaler()\n",
    "pca = PCA(n_components=2)\n",
    "\n",
    "real_slices_scaled = scaler.fit(real_slices[:-1]).transform(real_slices[:-1])\n",
    "synthetic_df_4_scaled = scaler.fit(synthetic_df_4[:-1]).transform(synthetic_df_4[:-1])\n",
    "synthetic_df_5_scaled = scaler.fit(synthetic_df_5[:-1]).transform(synthetic_df_5[:-1])"
   ]
  },
  {
   "cell_type": "code",
   "execution_count": null,
   "id": "cd813265-5b01-4eb3-bc90-1861bd17c03a",
   "metadata": {},
   "outputs": [],
   "source": [
    "real_slices_covar = np.cov(np.transpose(np.array(real_slices_scaled)))\n",
    "synthetic_df_4_covar = np.cov(np.transpose(np.array(synthetic_df_4_scaled)))\n",
    "synthetic_df_5_covar = np.cov(np.transpose(np.array(synthetic_df_5_scaled)))\n",
    "\n",
    "pca_real_slices = pca.fit(real_slices_covar).transform(real_slices_covar)\n",
    "pca_synthetic_df_4 = pca.fit(synthetic_df_4_covar).transform(synthetic_df_4_covar)\n",
    "pca_synthetic_df_5 = pca.fit(synthetic_df_5_covar).transform(synthetic_df_5_covar)"
   ]
  },
  {
   "cell_type": "code",
   "execution_count": null,
   "id": "da675cd9-29dd-4168-ab28-16179bda7547",
   "metadata": {},
   "outputs": [],
   "source": [
    "def components_to_corr(pca_array1, pca_array2):\n",
    "    df1, df2 = pd.DataFrame(pca_array1, columns=[\"comp1\", \"comp2\"]), pd.DataFrame(\n",
    "        pca_array2, columns=[\"comp1\", \"comp2\"]\n",
    "    )\n",
    "    df_vertically_appended1 = df1[\"comp1\"].append(df1[\"comp2\"]).reset_index(drop=True)\n",
    "    df_vertically_appended2 = df2[\"comp1\"].append(df2[\"comp2\"]).reset_index(drop=True)\n",
    "    return np.corrcoef(df_vertically_appended1, df_vertically_appended2)[0, 1]"
   ]
  },
  {
   "cell_type": "code",
   "execution_count": null,
   "id": "f47e3c8d-28a7-401f-92fd-19841a9c55af",
   "metadata": {},
   "outputs": [],
   "source": [
    "print(\n",
    "    \"The correlation between real data and synthetic data 4 is {}\".format(\n",
    "        components_to_corr(pca_real_slices, pca_synthetic_df_4)\n",
    "    )\n",
    ")\n",
    "print()\n",
    "print(\n",
    "    \"The correlation between real data and synthetic data 5 is {}\".format(\n",
    "        components_to_corr(pca_real_slices, pca_synthetic_df_5)\n",
    "    )\n",
    ")"
   ]
  },
  {
   "cell_type": "markdown",
   "id": "fb58fd15-3001-473a-95ba-f1d515205147",
   "metadata": {},
   "source": [
    "Synthetic data 5 seems to be more strongly correlated with the real data compared to synthetic data 4."
   ]
  }
 ],
 "metadata": {
  "kernelspec": {
   "display_name": "Python 3 (ipykernel)",
   "language": "python",
   "name": "python3"
  },
  "language_info": {
   "codemirror_mode": {
    "name": "ipython",
    "version": 3
   },
   "file_extension": ".py",
   "mimetype": "text/x-python",
   "name": "python",
   "nbconvert_exporter": "python",
   "pygments_lexer": "ipython3",
   "version": "3.8.8"
  }
 },
 "nbformat": 4,
 "nbformat_minor": 5
}
