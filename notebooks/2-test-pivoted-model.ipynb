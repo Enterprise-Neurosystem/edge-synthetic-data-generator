{
 "cells": [
  {
   "cell_type": "code",
   "execution_count": null,
   "id": "f22f949a-80bc-4f46-808c-2bac2daf377a",
   "metadata": {
    "tags": []
   },
   "outputs": [],
   "source": [
    "!pip install sdv~=1.0.1"
   ]
  },
  {
   "cell_type": "code",
   "execution_count": null,
   "id": "de0f904d-9fb3-4e47-a655-cd4750860849",
   "metadata": {},
   "outputs": [],
   "source": [
    "from sdv.timeseries import PAR\n",
    "import pandas as pd\n",
    "from sklearn.preprocessing import MinMaxScaler\n",
    "from sklearn.preprocessing import LabelEncoder\n",
    "from pickle import dump, load"
   ]
  },
  {
   "cell_type": "code",
   "execution_count": null,
   "id": "e5c8fa02-2805-447a-a34b-d063ecb29581",
   "metadata": {},
   "outputs": [],
   "source": [
    "loaded = PAR.load(\"melted_model.pkl\")"
   ]
  },
  {
   "cell_type": "code",
   "execution_count": null,
   "id": "e66f13df-b589-4403-a6f1-af5def33ca98",
   "metadata": {},
   "outputs": [],
   "source": [
    "sample = loaded.sample(num_sequences=1)"
   ]
  },
  {
   "cell_type": "markdown",
   "id": "99d7aa8d-9b9e-40ee-b905-f7c1b1f9544f",
   "metadata": {},
   "source": [
    "## this took 20 mins to create on a large notebook image."
   ]
  },
  {
   "cell_type": "code",
   "execution_count": null,
   "id": "1912ac31-803f-4f8c-86d4-0df42ea4f8ec",
   "metadata": {},
   "outputs": [],
   "source": [
    "sample.head(20)"
   ]
  },
  {
   "cell_type": "code",
   "execution_count": null,
   "id": "89477cf3-d44f-4fbe-9172-667c31f313d2",
   "metadata": {},
   "outputs": [],
   "source": [
    "sample.sort_values(by=\"timestamp\", inplace=True)\n",
    "sample.reset_index(inplace=True)\n",
    "sample = sample.drop(\"index\", 1)"
   ]
  },
  {
   "cell_type": "code",
   "execution_count": null,
   "id": "0852b99b-2259-475c-a838-1a859e14b037",
   "metadata": {},
   "outputs": [],
   "source": [
    "sample.head(20)"
   ]
  },
  {
   "cell_type": "code",
   "execution_count": null,
   "id": "60f74e97-5435-4c52-889d-2781e3d073d4",
   "metadata": {},
   "outputs": [],
   "source": [
    "sample.variable.unique()"
   ]
  },
  {
   "cell_type": "markdown",
   "id": "3f957d36-b852-4991-b22a-d76c52f99791",
   "metadata": {},
   "source": [
    "This is just going to a limitation of SDV with the current approach. starting new nb to explore training models per sensor to avoid this issue and perhaps yield better results."
   ]
  }
 ],
 "metadata": {
  "kernelspec": {
   "display_name": "Python 3 (ipykernel)",
   "language": "python",
   "name": "python3"
  },
  "language_info": {
   "codemirror_mode": {
    "name": "ipython",
    "version": 3
   },
   "file_extension": ".py",
   "mimetype": "text/x-python",
   "name": "python",
   "nbconvert_exporter": "python",
   "pygments_lexer": "ipython3",
   "version": "3.8.16"
  }
 },
 "nbformat": 4,
 "nbformat_minor": 5
}
