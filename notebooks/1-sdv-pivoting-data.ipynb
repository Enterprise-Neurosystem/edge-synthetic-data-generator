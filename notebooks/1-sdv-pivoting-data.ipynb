{
 "cells": [
  {
   "cell_type": "code",
   "execution_count": null,
   "id": "fcfa2369-aeb0-4013-8899-c68696fa88af",
   "metadata": {
    "tags": []
   },
   "outputs": [],
   "source": [
    "!pip install sdv"
   ]
  },
  {
   "cell_type": "code",
   "execution_count": 29,
   "id": "fb4ebd4c-61d6-44c8-b119-1c97afce783d",
   "metadata": {},
   "outputs": [],
   "source": [
    "from sdv.timeseries import PAR\n",
    "import pandas as pd\n",
    "from sklearn.preprocessing import MinMaxScaler\n",
    "from sklearn.preprocessing import LabelEncoder\n",
    "from pickle import dump, load"
   ]
  },
  {
   "cell_type": "code",
   "execution_count": 30,
   "id": "5985773d-a817-4582-9a83-d6becc48eaff",
   "metadata": {},
   "outputs": [],
   "source": [
    "# https://www.kaggle.com/code/xiaxiaxu/predictmachinefailureinadvance/data\n",
    "sensor = pd.read_csv('sensor.csv') "
   ]
  },
  {
   "cell_type": "code",
   "execution_count": 31,
   "id": "ffe0f3c8-758b-4df7-93e8-3d4e9500a04c",
   "metadata": {},
   "outputs": [],
   "source": [
    "# only keeping cols w high var in pca analysis + machine status\n",
    "data = sensor[['timestamp', 'sensor_25', 'sensor_11', 'sensor_36', 'sensor_34', 'machine_status']]"
   ]
  },
  {
   "cell_type": "code",
   "execution_count": 32,
   "id": "ee8550ce-ac03-40a8-8c7f-348f2bc1f59e",
   "metadata": {},
   "outputs": [
    {
     "name": "stdout",
     "output_type": "stream",
     "text": [
      "timestamp          string\n",
      "sensor_25         Float64\n",
      "sensor_11         Float64\n",
      "sensor_36         Float64\n",
      "sensor_34         Float64\n",
      "machine_status     string\n",
      "dtype: object \n",
      "\n"
     ]
    },
    {
     "data": {
      "text/plain": [
       "<StringArray>\n",
       "['NORMAL', 'BROKEN', 'RECOVERING']\n",
       "Length: 3, dtype: string"
      ]
     },
     "execution_count": 32,
     "metadata": {},
     "output_type": "execute_result"
    }
   ],
   "source": [
    "# okay, what can our machine status be?\n",
    "\n",
    "data = data.convert_dtypes()\n",
    "print(data.dtypes, '\\n')\n",
    "data['timestamp']= pd.to_datetime(data['timestamp'])\n",
    "\n",
    "data.machine_status.unique()"
   ]
  },
  {
   "cell_type": "code",
   "execution_count": 33,
   "id": "58e97a73-9f4c-4285-b681-e9386f58cae7",
   "metadata": {},
   "outputs": [
    {
     "data": {
      "text/html": [
       "<div>\n",
       "<style scoped>\n",
       "    .dataframe tbody tr th:only-of-type {\n",
       "        vertical-align: middle;\n",
       "    }\n",
       "\n",
       "    .dataframe tbody tr th {\n",
       "        vertical-align: top;\n",
       "    }\n",
       "\n",
       "    .dataframe thead th {\n",
       "        text-align: right;\n",
       "    }\n",
       "</style>\n",
       "<table border=\"1\" class=\"dataframe\">\n",
       "  <thead>\n",
       "    <tr style=\"text-align: right;\">\n",
       "      <th></th>\n",
       "      <th>timestamp</th>\n",
       "      <th>sensor_25</th>\n",
       "      <th>sensor_11</th>\n",
       "      <th>sensor_36</th>\n",
       "      <th>sensor_34</th>\n",
       "      <th>machine_status</th>\n",
       "    </tr>\n",
       "  </thead>\n",
       "  <tbody>\n",
       "    <tr>\n",
       "      <th>17155</th>\n",
       "      <td>2018-04-12 21:55:00</td>\n",
       "      <td>653.9383</td>\n",
       "      <td>3.625588</td>\n",
       "      <td>301.1411</td>\n",
       "      <td>261.7709</td>\n",
       "      <td>BROKEN</td>\n",
       "    </tr>\n",
       "    <tr>\n",
       "      <th>24510</th>\n",
       "      <td>2018-04-18 00:30:00</td>\n",
       "      <td>650.46</td>\n",
       "      <td>30.43471</td>\n",
       "      <td>434.2556</td>\n",
       "      <td>177.4708</td>\n",
       "      <td>BROKEN</td>\n",
       "    </tr>\n",
       "    <tr>\n",
       "      <th>69318</th>\n",
       "      <td>2018-05-19 03:18:00</td>\n",
       "      <td>719.8438</td>\n",
       "      <td>43.62322</td>\n",
       "      <td>285.3491</td>\n",
       "      <td>171.3203</td>\n",
       "      <td>BROKEN</td>\n",
       "    </tr>\n",
       "    <tr>\n",
       "      <th>77790</th>\n",
       "      <td>2018-05-25 00:30:00</td>\n",
       "      <td>746.036</td>\n",
       "      <td>44.79362</td>\n",
       "      <td>250.9113</td>\n",
       "      <td>171.749</td>\n",
       "      <td>BROKEN</td>\n",
       "    </tr>\n",
       "    <tr>\n",
       "      <th>128040</th>\n",
       "      <td>2018-06-28 22:00:00</td>\n",
       "      <td>143.1029</td>\n",
       "      <td>1.960537</td>\n",
       "      <td>367.8615</td>\n",
       "      <td>343.9342</td>\n",
       "      <td>BROKEN</td>\n",
       "    </tr>\n",
       "    <tr>\n",
       "      <th>141131</th>\n",
       "      <td>2018-07-08 00:11:00</td>\n",
       "      <td>759.8998</td>\n",
       "      <td>23.97027</td>\n",
       "      <td>616.8983</td>\n",
       "      <td>287.9145</td>\n",
       "      <td>BROKEN</td>\n",
       "    </tr>\n",
       "    <tr>\n",
       "      <th>166440</th>\n",
       "      <td>2018-07-25 14:00:00</td>\n",
       "      <td>740.6738</td>\n",
       "      <td>50.04619</td>\n",
       "      <td>812.8298</td>\n",
       "      <td>363.032</td>\n",
       "      <td>BROKEN</td>\n",
       "    </tr>\n",
       "  </tbody>\n",
       "</table>\n",
       "</div>"
      ],
      "text/plain": [
       "                 timestamp  sensor_25  sensor_11  sensor_36  sensor_34  \\\n",
       "17155  2018-04-12 21:55:00   653.9383   3.625588   301.1411   261.7709   \n",
       "24510  2018-04-18 00:30:00     650.46   30.43471   434.2556   177.4708   \n",
       "69318  2018-05-19 03:18:00   719.8438   43.62322   285.3491   171.3203   \n",
       "77790  2018-05-25 00:30:00    746.036   44.79362   250.9113    171.749   \n",
       "128040 2018-06-28 22:00:00   143.1029   1.960537   367.8615   343.9342   \n",
       "141131 2018-07-08 00:11:00   759.8998   23.97027   616.8983   287.9145   \n",
       "166440 2018-07-25 14:00:00   740.6738   50.04619   812.8298    363.032   \n",
       "\n",
       "       machine_status  \n",
       "17155          BROKEN  \n",
       "24510          BROKEN  \n",
       "69318          BROKEN  \n",
       "77790          BROKEN  \n",
       "128040         BROKEN  \n",
       "141131         BROKEN  \n",
       "166440         BROKEN  "
      ]
     },
     "execution_count": 33,
     "metadata": {},
     "output_type": "execute_result"
    }
   ],
   "source": [
    "data.loc[data['machine_status'] == 'BROKEN']"
   ]
  },
  {
   "cell_type": "markdown",
   "id": "34741c2b-107e-4a32-ad69-d024029c9786",
   "metadata": {},
   "source": [
    "Alright, we've got 7 broken instances. The first two are within ~7,000 rows, lets select the 10,000 rows around them.\n",
    "\n",
    "Then we'll scale the data with minmaxscaler (should be able to apply that directly to our dataframe) then pivot our dataset."
   ]
  },
  {
   "cell_type": "code",
   "execution_count": 34,
   "id": "72598feb-7644-4a02-a390-6a8645b5f321",
   "metadata": {},
   "outputs": [
    {
     "data": {
      "text/plain": [
       "10000"
      ]
     },
     "execution_count": 34,
     "metadata": {},
     "output_type": "execute_result"
    }
   ],
   "source": [
    "data_around_failures = data.iloc[16000:26000]\n",
    "len(data_around_failures)"
   ]
  },
  {
   "cell_type": "code",
   "execution_count": 35,
   "id": "5fa4ead9-6435-4513-bb6c-41d64427c0ef",
   "metadata": {},
   "outputs": [
    {
     "data": {
      "text/html": [
       "<div>\n",
       "<style scoped>\n",
       "    .dataframe tbody tr th:only-of-type {\n",
       "        vertical-align: middle;\n",
       "    }\n",
       "\n",
       "    .dataframe tbody tr th {\n",
       "        vertical-align: top;\n",
       "    }\n",
       "\n",
       "    .dataframe thead th {\n",
       "        text-align: right;\n",
       "    }\n",
       "</style>\n",
       "<table border=\"1\" class=\"dataframe\">\n",
       "  <thead>\n",
       "    <tr style=\"text-align: right;\">\n",
       "      <th></th>\n",
       "      <th>timestamp</th>\n",
       "      <th>sensor_25</th>\n",
       "      <th>sensor_11</th>\n",
       "      <th>sensor_36</th>\n",
       "      <th>sensor_34</th>\n",
       "      <th>machine_status</th>\n",
       "    </tr>\n",
       "  </thead>\n",
       "  <tbody>\n",
       "    <tr>\n",
       "      <th>16000</th>\n",
       "      <td>2018-04-12 02:40:00</td>\n",
       "      <td>649.0801</td>\n",
       "      <td>49.93274</td>\n",
       "      <td>299.4172</td>\n",
       "      <td>160.6844</td>\n",
       "      <td>NORMAL</td>\n",
       "    </tr>\n",
       "    <tr>\n",
       "      <th>16001</th>\n",
       "      <td>2018-04-12 02:41:00</td>\n",
       "      <td>651.8054</td>\n",
       "      <td>51.08754</td>\n",
       "      <td>296.376</td>\n",
       "      <td>162.5435</td>\n",
       "      <td>NORMAL</td>\n",
       "    </tr>\n",
       "    <tr>\n",
       "      <th>16002</th>\n",
       "      <td>2018-04-12 02:42:00</td>\n",
       "      <td>650.1391</td>\n",
       "      <td>51.24662</td>\n",
       "      <td>305.7853</td>\n",
       "      <td>164.4021</td>\n",
       "      <td>NORMAL</td>\n",
       "    </tr>\n",
       "    <tr>\n",
       "      <th>16003</th>\n",
       "      <td>2018-04-12 02:43:00</td>\n",
       "      <td>649.2632</td>\n",
       "      <td>51.93151</td>\n",
       "      <td>294.0909</td>\n",
       "      <td>166.5538</td>\n",
       "      <td>NORMAL</td>\n",
       "    </tr>\n",
       "    <tr>\n",
       "      <th>16004</th>\n",
       "      <td>2018-04-12 02:44:00</td>\n",
       "      <td>643.1567</td>\n",
       "      <td>51.71158</td>\n",
       "      <td>298.7494</td>\n",
       "      <td>168.0882</td>\n",
       "      <td>NORMAL</td>\n",
       "    </tr>\n",
       "  </tbody>\n",
       "</table>\n",
       "</div>"
      ],
      "text/plain": [
       "                timestamp  sensor_25  sensor_11  sensor_36  sensor_34  \\\n",
       "16000 2018-04-12 02:40:00   649.0801   49.93274   299.4172   160.6844   \n",
       "16001 2018-04-12 02:41:00   651.8054   51.08754    296.376   162.5435   \n",
       "16002 2018-04-12 02:42:00   650.1391   51.24662   305.7853   164.4021   \n",
       "16003 2018-04-12 02:43:00   649.2632   51.93151   294.0909   166.5538   \n",
       "16004 2018-04-12 02:44:00   643.1567   51.71158   298.7494   168.0882   \n",
       "\n",
       "      machine_status  \n",
       "16000         NORMAL  \n",
       "16001         NORMAL  \n",
       "16002         NORMAL  \n",
       "16003         NORMAL  \n",
       "16004         NORMAL  "
      ]
     },
     "execution_count": 35,
     "metadata": {},
     "output_type": "execute_result"
    }
   ],
   "source": [
    "data_around_failures.head()"
   ]
  },
  {
   "cell_type": "code",
   "execution_count": null,
   "id": "90a70096-4221-4de0-82b9-96f11870469a",
   "metadata": {},
   "outputs": [],
   "source": [
    "print(data_around_failures[data_around_failures.isna().any(axis=1)])\n",
    "\n",
    "# we only have one row with NA, let's simply drop that.\n",
    "\n",
    "data_around_failures.dropna(axis=0, inplace=True)\n",
    "\n",
    "print(data_around_failures[data_around_failures.isna().any(axis=1)])"
   ]
  },
  {
   "cell_type": "code",
   "execution_count": 37,
   "id": "7f67e50f-4221-4c2f-aa29-f15071846adc",
   "metadata": {},
   "outputs": [
    {
     "data": {
      "text/html": [
       "<div>\n",
       "<style scoped>\n",
       "    .dataframe tbody tr th:only-of-type {\n",
       "        vertical-align: middle;\n",
       "    }\n",
       "\n",
       "    .dataframe tbody tr th {\n",
       "        vertical-align: top;\n",
       "    }\n",
       "\n",
       "    .dataframe thead th {\n",
       "        text-align: right;\n",
       "    }\n",
       "</style>\n",
       "<table border=\"1\" class=\"dataframe\">\n",
       "  <thead>\n",
       "    <tr style=\"text-align: right;\">\n",
       "      <th></th>\n",
       "      <th>timestamp</th>\n",
       "      <th>sensor_25</th>\n",
       "      <th>sensor_11</th>\n",
       "      <th>sensor_36</th>\n",
       "      <th>sensor_34</th>\n",
       "      <th>machine_status</th>\n",
       "    </tr>\n",
       "  </thead>\n",
       "  <tbody>\n",
       "    <tr>\n",
       "      <th>16000</th>\n",
       "      <td>2018-04-12 02:40:00</td>\n",
       "      <td>649.0801</td>\n",
       "      <td>49.93274</td>\n",
       "      <td>299.4172</td>\n",
       "      <td>160.6844</td>\n",
       "      <td>0</td>\n",
       "    </tr>\n",
       "    <tr>\n",
       "      <th>16001</th>\n",
       "      <td>2018-04-12 02:41:00</td>\n",
       "      <td>651.8054</td>\n",
       "      <td>51.08754</td>\n",
       "      <td>296.376</td>\n",
       "      <td>162.5435</td>\n",
       "      <td>0</td>\n",
       "    </tr>\n",
       "    <tr>\n",
       "      <th>16002</th>\n",
       "      <td>2018-04-12 02:42:00</td>\n",
       "      <td>650.1391</td>\n",
       "      <td>51.24662</td>\n",
       "      <td>305.7853</td>\n",
       "      <td>164.4021</td>\n",
       "      <td>0</td>\n",
       "    </tr>\n",
       "    <tr>\n",
       "      <th>16003</th>\n",
       "      <td>2018-04-12 02:43:00</td>\n",
       "      <td>649.2632</td>\n",
       "      <td>51.93151</td>\n",
       "      <td>294.0909</td>\n",
       "      <td>166.5538</td>\n",
       "      <td>0</td>\n",
       "    </tr>\n",
       "    <tr>\n",
       "      <th>16004</th>\n",
       "      <td>2018-04-12 02:44:00</td>\n",
       "      <td>643.1567</td>\n",
       "      <td>51.71158</td>\n",
       "      <td>298.7494</td>\n",
       "      <td>168.0882</td>\n",
       "      <td>0</td>\n",
       "    </tr>\n",
       "  </tbody>\n",
       "</table>\n",
       "</div>"
      ],
      "text/plain": [
       "                timestamp  sensor_25  sensor_11  sensor_36  sensor_34  \\\n",
       "16000 2018-04-12 02:40:00   649.0801   49.93274   299.4172   160.6844   \n",
       "16001 2018-04-12 02:41:00   651.8054   51.08754    296.376   162.5435   \n",
       "16002 2018-04-12 02:42:00   650.1391   51.24662   305.7853   164.4021   \n",
       "16003 2018-04-12 02:43:00   649.2632   51.93151   294.0909   166.5538   \n",
       "16004 2018-04-12 02:44:00   643.1567   51.71158   298.7494   168.0882   \n",
       "\n",
       "       machine_status  \n",
       "16000               0  \n",
       "16001               0  \n",
       "16002               0  \n",
       "16003               0  \n",
       "16004               0  "
      ]
     },
     "execution_count": 37,
     "metadata": {},
     "output_type": "execute_result"
    }
   ],
   "source": [
    "# encoding the machine status variable.\n",
    "# doing it manually, its pretty simple \n",
    "\n",
    "cleanup_nums = {\"machine_status\": {\"NORMAL\": 0, \"BROKEN\": 1, \"RECOVERING\":2}}\n",
    "data_around_failures = data_around_failures.replace(cleanup_nums)\n",
    "data_around_failures.head()\n"
   ]
  },
  {
   "cell_type": "code",
   "execution_count": 38,
   "id": "bc22c8d1-0fce-4001-bf05-7f03e66613d7",
   "metadata": {},
   "outputs": [],
   "source": [
    "scaler = MinMaxScaler()\n",
    "sensor_cols = ['sensor_25', 'sensor_11', 'sensor_36', 'sensor_34']\n",
    "\n",
    "# scaling our data, then saving our scaler object for future use.\n",
    "data_around_failures[sensor_cols] = scaler.fit_transform(data_around_failures[sensor_cols])\n",
    "\n",
    "dump(scaler, open('scaler.pkl', 'wb'))"
   ]
  },
  {
   "cell_type": "code",
   "execution_count": 39,
   "id": "2483cc6a-fa32-4ea7-ab54-023ec445b6f4",
   "metadata": {},
   "outputs": [
    {
     "name": "stdout",
     "output_type": "stream",
     "text": [
      "(9999, 6)\n"
     ]
    },
    {
     "data": {
      "text/html": [
       "<div>\n",
       "<style scoped>\n",
       "    .dataframe tbody tr th:only-of-type {\n",
       "        vertical-align: middle;\n",
       "    }\n",
       "\n",
       "    .dataframe tbody tr th {\n",
       "        vertical-align: top;\n",
       "    }\n",
       "\n",
       "    .dataframe thead th {\n",
       "        text-align: right;\n",
       "    }\n",
       "</style>\n",
       "<table border=\"1\" class=\"dataframe\">\n",
       "  <thead>\n",
       "    <tr style=\"text-align: right;\">\n",
       "      <th></th>\n",
       "      <th>timestamp</th>\n",
       "      <th>sensor_25</th>\n",
       "      <th>sensor_11</th>\n",
       "      <th>sensor_36</th>\n",
       "      <th>sensor_34</th>\n",
       "      <th>machine_status</th>\n",
       "    </tr>\n",
       "  </thead>\n",
       "  <tbody>\n",
       "    <tr>\n",
       "      <th>16000</th>\n",
       "      <td>2018-04-12 02:40:00</td>\n",
       "      <td>0.317054</td>\n",
       "      <td>0.876782</td>\n",
       "      <td>0.142022</td>\n",
       "      <td>0.288687</td>\n",
       "      <td>0</td>\n",
       "    </tr>\n",
       "    <tr>\n",
       "      <th>16001</th>\n",
       "      <td>2018-04-12 02:41:00</td>\n",
       "      <td>0.330166</td>\n",
       "      <td>0.897059</td>\n",
       "      <td>0.138068</td>\n",
       "      <td>0.298528</td>\n",
       "      <td>0</td>\n",
       "    </tr>\n",
       "    <tr>\n",
       "      <th>16002</th>\n",
       "      <td>2018-04-12 02:42:00</td>\n",
       "      <td>0.322149</td>\n",
       "      <td>0.899853</td>\n",
       "      <td>0.150302</td>\n",
       "      <td>0.308366</td>\n",
       "      <td>0</td>\n",
       "    </tr>\n",
       "    <tr>\n",
       "      <th>16003</th>\n",
       "      <td>2018-04-12 02:43:00</td>\n",
       "      <td>0.317935</td>\n",
       "      <td>0.911879</td>\n",
       "      <td>0.135097</td>\n",
       "      <td>0.319756</td>\n",
       "      <td>0</td>\n",
       "    </tr>\n",
       "    <tr>\n",
       "      <th>16004</th>\n",
       "      <td>2018-04-12 02:44:00</td>\n",
       "      <td>0.288555</td>\n",
       "      <td>0.908017</td>\n",
       "      <td>0.141154</td>\n",
       "      <td>0.327878</td>\n",
       "      <td>0</td>\n",
       "    </tr>\n",
       "  </tbody>\n",
       "</table>\n",
       "</div>"
      ],
      "text/plain": [
       "                timestamp  sensor_25  sensor_11  sensor_36  sensor_34  \\\n",
       "16000 2018-04-12 02:40:00   0.317054   0.876782   0.142022   0.288687   \n",
       "16001 2018-04-12 02:41:00   0.330166   0.897059   0.138068   0.298528   \n",
       "16002 2018-04-12 02:42:00   0.322149   0.899853   0.150302   0.308366   \n",
       "16003 2018-04-12 02:43:00   0.317935   0.911879   0.135097   0.319756   \n",
       "16004 2018-04-12 02:44:00   0.288555   0.908017   0.141154   0.327878   \n",
       "\n",
       "       machine_status  \n",
       "16000               0  \n",
       "16001               0  \n",
       "16002               0  \n",
       "16003               0  \n",
       "16004               0  "
      ]
     },
     "execution_count": 39,
     "metadata": {},
     "output_type": "execute_result"
    }
   ],
   "source": [
    "print(data_around_failures.shape)\n",
    "\n",
    "data_around_failures.head()\n",
    "\n",
    "# now our data is scaled to be within 0-1."
   ]
  },
  {
   "cell_type": "code",
   "execution_count": 40,
   "id": "ef21a4da-db88-4725-a3a5-0bebf792cec7",
   "metadata": {},
   "outputs": [],
   "source": [
    "# now let's try 'melting' our data\n",
    "\n",
    "melted = data_around_failures.melt('timestamp')\n",
    "melted.sort_values(by='timestamp',inplace=True)\n",
    "melted.reset_index(inplace=True)\n",
    "melted = melted.drop('index', 1)"
   ]
  },
  {
   "cell_type": "code",
   "execution_count": 41,
   "id": "2ad60b63-8aff-4ba4-8d01-5bb62f9e97c8",
   "metadata": {},
   "outputs": [
    {
     "name": "stdout",
     "output_type": "stream",
     "text": [
      "(49995, 3)\n"
     ]
    },
    {
     "data": {
      "text/html": [
       "<div>\n",
       "<style scoped>\n",
       "    .dataframe tbody tr th:only-of-type {\n",
       "        vertical-align: middle;\n",
       "    }\n",
       "\n",
       "    .dataframe tbody tr th {\n",
       "        vertical-align: top;\n",
       "    }\n",
       "\n",
       "    .dataframe thead th {\n",
       "        text-align: right;\n",
       "    }\n",
       "</style>\n",
       "<table border=\"1\" class=\"dataframe\">\n",
       "  <thead>\n",
       "    <tr style=\"text-align: right;\">\n",
       "      <th></th>\n",
       "      <th>timestamp</th>\n",
       "      <th>variable</th>\n",
       "      <th>value</th>\n",
       "    </tr>\n",
       "  </thead>\n",
       "  <tbody>\n",
       "    <tr>\n",
       "      <th>0</th>\n",
       "      <td>2018-04-12 02:40:00</td>\n",
       "      <td>sensor_25</td>\n",
       "      <td>0.317054</td>\n",
       "    </tr>\n",
       "    <tr>\n",
       "      <th>1</th>\n",
       "      <td>2018-04-12 02:40:00</td>\n",
       "      <td>sensor_34</td>\n",
       "      <td>0.288687</td>\n",
       "    </tr>\n",
       "    <tr>\n",
       "      <th>2</th>\n",
       "      <td>2018-04-12 02:40:00</td>\n",
       "      <td>machine_status</td>\n",
       "      <td>0.000000</td>\n",
       "    </tr>\n",
       "    <tr>\n",
       "      <th>3</th>\n",
       "      <td>2018-04-12 02:40:00</td>\n",
       "      <td>sensor_11</td>\n",
       "      <td>0.876782</td>\n",
       "    </tr>\n",
       "    <tr>\n",
       "      <th>4</th>\n",
       "      <td>2018-04-12 02:40:00</td>\n",
       "      <td>sensor_36</td>\n",
       "      <td>0.142022</td>\n",
       "    </tr>\n",
       "    <tr>\n",
       "      <th>5</th>\n",
       "      <td>2018-04-12 02:41:00</td>\n",
       "      <td>machine_status</td>\n",
       "      <td>0.000000</td>\n",
       "    </tr>\n",
       "    <tr>\n",
       "      <th>6</th>\n",
       "      <td>2018-04-12 02:41:00</td>\n",
       "      <td>sensor_36</td>\n",
       "      <td>0.138068</td>\n",
       "    </tr>\n",
       "    <tr>\n",
       "      <th>7</th>\n",
       "      <td>2018-04-12 02:41:00</td>\n",
       "      <td>sensor_34</td>\n",
       "      <td>0.298528</td>\n",
       "    </tr>\n",
       "    <tr>\n",
       "      <th>8</th>\n",
       "      <td>2018-04-12 02:41:00</td>\n",
       "      <td>sensor_25</td>\n",
       "      <td>0.330166</td>\n",
       "    </tr>\n",
       "    <tr>\n",
       "      <th>9</th>\n",
       "      <td>2018-04-12 02:41:00</td>\n",
       "      <td>sensor_11</td>\n",
       "      <td>0.897059</td>\n",
       "    </tr>\n",
       "    <tr>\n",
       "      <th>10</th>\n",
       "      <td>2018-04-12 02:42:00</td>\n",
       "      <td>sensor_11</td>\n",
       "      <td>0.899853</td>\n",
       "    </tr>\n",
       "    <tr>\n",
       "      <th>11</th>\n",
       "      <td>2018-04-12 02:42:00</td>\n",
       "      <td>sensor_25</td>\n",
       "      <td>0.322149</td>\n",
       "    </tr>\n",
       "  </tbody>\n",
       "</table>\n",
       "</div>"
      ],
      "text/plain": [
       "             timestamp        variable     value\n",
       "0  2018-04-12 02:40:00       sensor_25  0.317054\n",
       "1  2018-04-12 02:40:00       sensor_34  0.288687\n",
       "2  2018-04-12 02:40:00  machine_status  0.000000\n",
       "3  2018-04-12 02:40:00       sensor_11  0.876782\n",
       "4  2018-04-12 02:40:00       sensor_36  0.142022\n",
       "5  2018-04-12 02:41:00  machine_status  0.000000\n",
       "6  2018-04-12 02:41:00       sensor_36  0.138068\n",
       "7  2018-04-12 02:41:00       sensor_34  0.298528\n",
       "8  2018-04-12 02:41:00       sensor_25  0.330166\n",
       "9  2018-04-12 02:41:00       sensor_11  0.897059\n",
       "10 2018-04-12 02:42:00       sensor_11  0.899853\n",
       "11 2018-04-12 02:42:00       sensor_25  0.322149"
      ]
     },
     "execution_count": 41,
     "metadata": {},
     "output_type": "execute_result"
    }
   ],
   "source": [
    "print(melted.shape)\n",
    "melted.head(12)"
   ]
  },
  {
   "cell_type": "code",
   "execution_count": null,
   "id": "2bf868d5-fb85-4a9c-9564-5f1bad528dcb",
   "metadata": {},
   "outputs": [],
   "source": [
    "# sanity check, pivoting our melted data back to see how that works.\n",
    "\n",
    "pivoted = melted.pivot(index='timestamp', columns='variable', values='value')\n",
    "\n",
    "print(pivoted.shape)\n",
    "pivoted.head(10)\n",
    "\n",
    "# ok looks fine to me, we're missing an index column "
   ]
  },
  {
   "cell_type": "code",
   "execution_count": 43,
   "id": "5fa11ae3-c68e-403f-af4e-fc32a91830c0",
   "metadata": {},
   "outputs": [
    {
     "data": {
      "text/html": [
       "<div>\n",
       "<style scoped>\n",
       "    .dataframe tbody tr th:only-of-type {\n",
       "        vertical-align: middle;\n",
       "    }\n",
       "\n",
       "    .dataframe tbody tr th {\n",
       "        vertical-align: top;\n",
       "    }\n",
       "\n",
       "    .dataframe thead th {\n",
       "        text-align: right;\n",
       "    }\n",
       "</style>\n",
       "<table border=\"1\" class=\"dataframe\">\n",
       "  <thead>\n",
       "    <tr style=\"text-align: right;\">\n",
       "      <th></th>\n",
       "      <th>timestamp</th>\n",
       "      <th>variable</th>\n",
       "      <th>value</th>\n",
       "    </tr>\n",
       "  </thead>\n",
       "  <tbody>\n",
       "    <tr>\n",
       "      <th>0</th>\n",
       "      <td>2018-04-12 02:40:00</td>\n",
       "      <td>1</td>\n",
       "      <td>0.317054</td>\n",
       "    </tr>\n",
       "    <tr>\n",
       "      <th>1</th>\n",
       "      <td>2018-04-12 02:40:00</td>\n",
       "      <td>2</td>\n",
       "      <td>0.288687</td>\n",
       "    </tr>\n",
       "    <tr>\n",
       "      <th>2</th>\n",
       "      <td>2018-04-12 02:40:00</td>\n",
       "      <td>0</td>\n",
       "      <td>0.000000</td>\n",
       "    </tr>\n",
       "    <tr>\n",
       "      <th>3</th>\n",
       "      <td>2018-04-12 02:40:00</td>\n",
       "      <td>3</td>\n",
       "      <td>0.876782</td>\n",
       "    </tr>\n",
       "    <tr>\n",
       "      <th>4</th>\n",
       "      <td>2018-04-12 02:40:00</td>\n",
       "      <td>4</td>\n",
       "      <td>0.142022</td>\n",
       "    </tr>\n",
       "  </tbody>\n",
       "</table>\n",
       "</div>"
      ],
      "text/plain": [
       "            timestamp variable     value\n",
       "0 2018-04-12 02:40:00        1  0.317054\n",
       "1 2018-04-12 02:40:00        2  0.288687\n",
       "2 2018-04-12 02:40:00        0  0.000000\n",
       "3 2018-04-12 02:40:00        3  0.876782\n",
       "4 2018-04-12 02:40:00        4  0.142022"
      ]
     },
     "execution_count": 43,
     "metadata": {},
     "output_type": "execute_result"
    }
   ],
   "source": [
    "# encoding the 'variable' variable (not my best name)\n",
    "# doing it manually, its pretty simple \n",
    "\n",
    "# encoding them as strings not as ints - think that ints have messed things up \n",
    "\n",
    "cleanup_nums_var = {\"variable\": {\"machine_status\": '0',\n",
    "                                 \"sensor_25\": '1',\n",
    "                                 \"sensor_34\": '2',\n",
    "                                 \"sensor_11\": '3',\n",
    "                                 \"sensor_36\": '4'}}\n",
    "melted = melted.replace(cleanup_nums_var)\n",
    "melted.head()"
   ]
  },
  {
   "cell_type": "code",
   "execution_count": 44,
   "id": "026be894-cbbf-4b77-a1c8-4b14423a3558",
   "metadata": {},
   "outputs": [
    {
     "data": {
      "text/plain": [
       "0        1\n",
       "1        2\n",
       "2        0\n",
       "3        3\n",
       "4        4\n",
       "        ..\n",
       "49990    4\n",
       "49991    3\n",
       "49992    1\n",
       "49993    2\n",
       "49994    0\n",
       "Name: variable, Length: 49995, dtype: object"
      ]
     },
     "execution_count": 44,
     "metadata": {},
     "output_type": "execute_result"
    }
   ],
   "source": [
    "melted['variable'] = melted.variable.astype('str')\n",
    "\n",
    "melted['variable']"
   ]
  },
  {
   "cell_type": "code",
   "execution_count": 45,
   "id": "3b3075ca-c15d-402d-8f6e-7ec180c59e21",
   "metadata": {},
   "outputs": [
    {
     "name": "stdout",
     "output_type": "stream",
     "text": [
      "timestamp    datetime64[ns]\n",
      "variable             object\n",
      "value               float64\n",
      "dtype: object \n",
      "\n"
     ]
    }
   ],
   "source": [
    "# okay, we have selected data around 2 anomalies, we have scaled our numerical values\n",
    "# and we have melted our data to be 'longer' rather than 'wider'\n",
    "# also am leaving in the machine_status variable, perhaps will help with training : ) \n",
    "\n",
    "sequence_index = 'timestamp'\n",
    "entity_columns = ['variable']\n",
    "\n",
    "model = PAR(sequence_index = sequence_index, entity_columns=entity_columns, verbose=True, epochs=64)\n",
    "\n",
    "\n",
    "print(melted.dtypes, '\\n')"
   ]
  },
  {
   "cell_type": "code",
   "execution_count": 46,
   "id": "f27527d7-f4ea-4b7b-926f-9e144f292fa3",
   "metadata": {},
   "outputs": [
    {
     "name": "stdout",
     "output_type": "stream",
     "text": [
      "PARModel(epochs=64, sample_size=1, cuda='cpu', verbose=True) instance created\n"
     ]
    },
    {
     "name": "stderr",
     "output_type": "stream",
     "text": [
      "Epoch 64 | Loss 78.10054016113281: 100%|██████████| 64/64 [21:58<00:00, 20.60s/it] \n"
     ]
    }
   ],
   "source": [
    "model.fit(melted)"
   ]
  },
  {
   "cell_type": "markdown",
   "id": "f4050f51-74a0-4aea-964d-a16ac466c87c",
   "metadata": {},
   "source": [
    "ok this took ~24 mins on a large notebook image.\n",
    "\n",
    "trained for 64 epochs as 128 seemed to greatly overfit, however im not sure what their loss metric is."
   ]
  },
  {
   "cell_type": "code",
   "execution_count": 47,
   "id": "bbfd1369-4b29-4a1a-b6f8-77c3032a2c0d",
   "metadata": {},
   "outputs": [],
   "source": [
    "model.save('melted_model.pkl')"
   ]
  },
  {
   "cell_type": "code",
   "execution_count": 48,
   "id": "28d6c8a1-6171-4f7b-9efa-ae7c5c29aed7",
   "metadata": {},
   "outputs": [
    {
     "data": {
      "text/plain": [
       "array(['1', '2', '0', '3', '4'], dtype=object)"
      ]
     },
     "execution_count": 48,
     "metadata": {},
     "output_type": "execute_result"
    }
   ],
   "source": [
    "melted.variable.unique()"
   ]
  }
 ],
 "metadata": {
  "kernelspec": {
   "display_name": "Python 3 (ipykernel)",
   "language": "python",
   "name": "python3"
  },
  "language_info": {
   "codemirror_mode": {
    "name": "ipython",
    "version": 3
   },
   "file_extension": ".py",
   "mimetype": "text/x-python",
   "name": "python",
   "nbconvert_exporter": "python",
   "pygments_lexer": "ipython3",
   "version": "3.8.8"
  }
 },
 "nbformat": 4,
 "nbformat_minor": 5
}
