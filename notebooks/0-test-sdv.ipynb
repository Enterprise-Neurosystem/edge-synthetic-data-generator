{
 "cells": [
  {
   "cell_type": "code",
   "execution_count": 1,
   "id": "21789aac-201b-4fce-955a-2e8768644c9f",
   "metadata": {
    "tags": []
   },
   "outputs": [
    {
     "name": "stdout",
     "output_type": "stream",
     "text": [
      "Requirement already satisfied: sdv in /Users/cory/Documents/git/edge-synthetic-data-generator/venv/lib/python3.8/site-packages (0.18.0)\n",
      "Requirement already satisfied: pandas<2,>=1.1.3 in /Users/cory/Documents/git/edge-synthetic-data-generator/venv/lib/python3.8/site-packages (from sdv) (1.2.4)\n",
      "Requirement already satisfied: cloudpickle<3.0,>=2.1.0 in /Users/cory/Documents/git/edge-synthetic-data-generator/venv/lib/python3.8/site-packages (from sdv) (2.2.1)\n",
      "Requirement already satisfied: Faker<15,>=10 in /Users/cory/Documents/git/edge-synthetic-data-generator/venv/lib/python3.8/site-packages (from sdv) (14.2.1)\n",
      "Requirement already satisfied: tqdm<5,>=4.15 in /Users/cory/Documents/git/edge-synthetic-data-generator/venv/lib/python3.8/site-packages (from sdv) (4.65.0)\n",
      "Requirement already satisfied: ctgan<0.8,>=0.7.0 in /Users/cory/Documents/git/edge-synthetic-data-generator/venv/lib/python3.8/site-packages (from sdv) (0.7.1)\n",
      "Requirement already satisfied: graphviz<1,>=0.13.2 in /Users/cory/Documents/git/edge-synthetic-data-generator/venv/lib/python3.8/site-packages (from sdv) (0.20.1)\n",
      "Requirement already satisfied: numpy<2,>=1.20.0 in /Users/cory/Documents/git/edge-synthetic-data-generator/venv/lib/python3.8/site-packages (from sdv) (1.24.3)\n",
      "Requirement already satisfied: rdt<2,>=1.3.0 in /Users/cory/Documents/git/edge-synthetic-data-generator/venv/lib/python3.8/site-packages (from sdv) (1.4.1)\n",
      "Requirement already satisfied: sdmetrics<0.10,>=0.9.0 in /Users/cory/Documents/git/edge-synthetic-data-generator/venv/lib/python3.8/site-packages (from sdv) (0.9.3)\n",
      "Requirement already satisfied: deepecho<0.5,>=0.4.0 in /Users/cory/Documents/git/edge-synthetic-data-generator/venv/lib/python3.8/site-packages (from sdv) (0.4.0)\n",
      "Requirement already satisfied: copulas<0.9,>=0.8.0 in /Users/cory/Documents/git/edge-synthetic-data-generator/venv/lib/python3.8/site-packages (from sdv) (0.8.0)\n",
      "Requirement already satisfied: scipy<2,>=1.5.4 in /Users/cory/Documents/git/edge-synthetic-data-generator/venv/lib/python3.8/site-packages (from copulas<0.9,>=0.8.0->sdv) (1.10.1)\n",
      "Requirement already satisfied: matplotlib<4,>=3.4.0 in /Users/cory/Documents/git/edge-synthetic-data-generator/venv/lib/python3.8/site-packages (from copulas<0.9,>=0.8.0->sdv) (3.4.1)\n",
      "Requirement already satisfied: torch<2,>=1.8.0 in /Users/cory/Documents/git/edge-synthetic-data-generator/venv/lib/python3.8/site-packages (from ctgan<0.8,>=0.7.0->sdv) (1.11.0)\n",
      "Requirement already satisfied: packaging<22,>=20 in /Users/cory/Documents/git/edge-synthetic-data-generator/venv/lib/python3.8/site-packages (from ctgan<0.8,>=0.7.0->sdv) (21.3)\n",
      "Requirement already satisfied: python-dateutil>=2.4 in /Users/cory/Documents/git/edge-synthetic-data-generator/venv/lib/python3.8/site-packages (from Faker<15,>=10->sdv) (2.8.2)\n",
      "Requirement already satisfied: pytz>=2017.3 in /Users/cory/Documents/git/edge-synthetic-data-generator/venv/lib/python3.8/site-packages (from pandas<2,>=1.1.3->sdv) (2023.3)\n",
      "Requirement already satisfied: scikit-learn<2,>=0.24 in /Users/cory/Documents/git/edge-synthetic-data-generator/venv/lib/python3.8/site-packages (from rdt<2,>=1.3.0->sdv) (0.24.1)\n",
      "Requirement already satisfied: psutil<6,>=5.7 in /Users/cory/Documents/git/edge-synthetic-data-generator/venv/lib/python3.8/site-packages (from rdt<2,>=1.3.0->sdv) (5.9.5)\n",
      "Requirement already satisfied: plotly<6,>=5.10.0 in /Users/cory/Documents/git/edge-synthetic-data-generator/venv/lib/python3.8/site-packages (from sdmetrics<0.10,>=0.9.0->sdv) (5.14.1)\n",
      "Requirement already satisfied: cycler>=0.10 in /Users/cory/Documents/git/edge-synthetic-data-generator/venv/lib/python3.8/site-packages (from matplotlib<4,>=3.4.0->copulas<0.9,>=0.8.0->sdv) (0.11.0)\n",
      "Requirement already satisfied: kiwisolver>=1.0.1 in /Users/cory/Documents/git/edge-synthetic-data-generator/venv/lib/python3.8/site-packages (from matplotlib<4,>=3.4.0->copulas<0.9,>=0.8.0->sdv) (1.4.4)\n",
      "Requirement already satisfied: pyparsing>=2.2.1 in /Users/cory/Documents/git/edge-synthetic-data-generator/venv/lib/python3.8/site-packages (from matplotlib<4,>=3.4.0->copulas<0.9,>=0.8.0->sdv) (3.0.9)\n",
      "Requirement already satisfied: pillow>=6.2.0 in /Users/cory/Documents/git/edge-synthetic-data-generator/venv/lib/python3.8/site-packages (from matplotlib<4,>=3.4.0->copulas<0.9,>=0.8.0->sdv) (9.5.0)\n",
      "Requirement already satisfied: tenacity>=6.2.0 in /Users/cory/Documents/git/edge-synthetic-data-generator/venv/lib/python3.8/site-packages (from plotly<6,>=5.10.0->sdmetrics<0.10,>=0.9.0->sdv) (8.2.2)\n",
      "Requirement already satisfied: six>=1.5 in /Users/cory/Documents/git/edge-synthetic-data-generator/venv/lib/python3.8/site-packages (from python-dateutil>=2.4->Faker<15,>=10->sdv) (1.16.0)\n",
      "Requirement already satisfied: threadpoolctl>=2.0.0 in /Users/cory/Documents/git/edge-synthetic-data-generator/venv/lib/python3.8/site-packages (from scikit-learn<2,>=0.24->rdt<2,>=1.3.0->sdv) (3.1.0)\n",
      "Requirement already satisfied: joblib>=0.11 in /Users/cory/Documents/git/edge-synthetic-data-generator/venv/lib/python3.8/site-packages (from scikit-learn<2,>=0.24->rdt<2,>=1.3.0->sdv) (1.2.0)\n",
      "Requirement already satisfied: typing-extensions in /Users/cory/Documents/git/edge-synthetic-data-generator/venv/lib/python3.8/site-packages (from torch<2,>=1.8.0->ctgan<0.8,>=0.7.0->sdv) (4.5.0)\n",
      "\u001b[33mWARNING: You are using pip version 22.0.4; however, version 23.1.2 is available.\n",
      "You should consider upgrading via the '/Users/cory/Documents/git/edge-synthetic-data-generator/venv/bin/python3.8 -m pip install --upgrade pip' command.\u001b[0m\u001b[33m\n",
      "\u001b[0m"
     ]
    }
   ],
   "source": [
    "!pip install sdv==0.18.0"
   ]
  },
  {
   "cell_type": "code",
   "execution_count": 2,
   "id": "64498187-57e8-4f62-b597-d4d94950859e",
   "metadata": {},
   "outputs": [],
   "source": [
    "from sdv.timeseries import PAR\n",
    "from sdv.demo import load_timeseries_demo\n",
    "import pandas as pd"
   ]
  },
  {
   "cell_type": "code",
   "execution_count": null,
   "id": "551c0bc8-b486-4ea9-98b3-a89d22467216",
   "metadata": {},
   "outputs": [],
   "source": [
    "demo_data = load_timeseries_demo()\n",
    "len(demo_data)\n",
    "entity_columns = [\"Symbol\"]\n",
    "context_columns = [\"MarketCap\", \"Sector\", \"Industry\"]\n",
    "sequence_index = \"Date\""
   ]
  },
  {
   "cell_type": "code",
   "execution_count": null,
   "id": "974416da-417f-46bc-9eb5-54088a473555",
   "metadata": {},
   "outputs": [],
   "source": [
    "model = PAR(\n",
    "    entity_columns=entity_columns,\n",
    "    context_columns=context_columns,\n",
    "    sequence_index=sequence_index,\n",
    "    verbose=True,\n",
    ")"
   ]
  },
  {
   "cell_type": "code",
   "execution_count": null,
   "id": "077591ad-27dd-4ff3-b5c7-9840fc7b68fa",
   "metadata": {},
   "outputs": [],
   "source": [
    "# model.fit(demo_data)"
   ]
  },
  {
   "cell_type": "markdown",
   "id": "cc1fea02-9461-41f3-8a1a-babe6b901f5c",
   "metadata": {},
   "source": [
    "https://sdv.dev/SDV/user_guides/timeseries/par.html\n",
    "\n",
    "looks perfect for our uses - depending on the shape/attributes of the kaggle dataset!\n",
    "\n",
    "will take a stab at fitting a model on our data when I have it!"
   ]
  },
  {
   "cell_type": "code",
   "execution_count": null,
   "id": "e35a9d17-5806-4e14-87b9-0d9423a59cfb",
   "metadata": {},
   "outputs": [],
   "source": [
    "# https://www.kaggle.com/code/xiaxiaxu/predictmachinefailureinadvance/data\n",
    "sensor = pd.read_csv(\"sensor.csv\")"
   ]
  },
  {
   "cell_type": "code",
   "execution_count": null,
   "id": "45836b72-6df7-401c-aa83-42f3e275fdf4",
   "metadata": {},
   "outputs": [],
   "source": [
    "sensor.head()"
   ]
  },
  {
   "cell_type": "code",
   "execution_count": null,
   "id": "7554e52c-f45a-4c03-a254-261873e10cfe",
   "metadata": {},
   "outputs": [],
   "source": [
    "# only keeping cols w high var in pca analysis.\n",
    "data = sensor[[\"timestamp\", \"sensor_25\", \"sensor_11\", \"sensor_36\", \"sensor_34\"]]"
   ]
  },
  {
   "cell_type": "code",
   "execution_count": null,
   "id": "62fe921a-81dc-489f-88bb-04f16b42307e",
   "metadata": {},
   "outputs": [],
   "source": [
    "print(data.dtypes)"
   ]
  },
  {
   "cell_type": "code",
   "execution_count": null,
   "id": "644f7e0d-c7a1-4718-b286-be2098526af5",
   "metadata": {},
   "outputs": [],
   "source": [
    "data[\"timestamp\"] = pd.to_datetime(data[\"timestamp\"])\n",
    "print(data.dtypes)"
   ]
  },
  {
   "cell_type": "code",
   "execution_count": null,
   "id": "393aef0c-2970-4466-987f-88f0b7cf20cd",
   "metadata": {},
   "outputs": [],
   "source": [
    "data.head()"
   ]
  },
  {
   "cell_type": "code",
   "execution_count": null,
   "id": "07cc51bb-53cc-4cba-908d-7872a42f0fdb",
   "metadata": {},
   "outputs": [],
   "source": [
    "one_k_rows = data.head(10000)"
   ]
  },
  {
   "cell_type": "code",
   "execution_count": null,
   "id": "19acdaae-bd22-4091-82d8-111de2276e43",
   "metadata": {},
   "outputs": [],
   "source": [
    "sequence_index = \"timestamp\"\n",
    "model = PAR(sequence_index=sequence_index, verbose=True)"
   ]
  },
  {
   "cell_type": "code",
   "execution_count": null,
   "id": "c4ad5043-8ec3-4754-86a4-2953faca0036",
   "metadata": {},
   "outputs": [],
   "source": [
    "model.fit(one_k_rows)"
   ]
  },
  {
   "cell_type": "code",
   "execution_count": null,
   "id": "7d2e9ebc-28d4-4929-b858-5323698ed916",
   "metadata": {},
   "outputs": [],
   "source": [
    "sample = model.sample(1)"
   ]
  },
  {
   "cell_type": "code",
   "execution_count": null,
   "id": "b0c76dc6-3083-4ae8-9ae8-ec78bc91da1f",
   "metadata": {},
   "outputs": [],
   "source": [
    "import matplotlib.pyplot as plt\n",
    "\n",
    "\n",
    "one_k_rows.set_index(\"timestamp\").plot()"
   ]
  },
  {
   "cell_type": "code",
   "execution_count": null,
   "id": "8b1e346b-bcb9-4ec3-9798-704740c88ff2",
   "metadata": {},
   "outputs": [],
   "source": [
    "sample.set_index(\"timestamp\").plot()"
   ]
  },
  {
   "cell_type": "markdown",
   "id": "cac5f009-f07d-4f9e-8dad-4bd566e99dab",
   "metadata": {},
   "source": [
    "# INITIAL TAKEAWAYS:\n",
    "\n",
    "- Fitting a model on cpu takes a lot of time - even for just 1,000 rows out of 200,000 rows of data.\n",
    "  - ideally would like to try on GPU to see how much that helps as it's an option with this library.\n",
    "\n",
    "\n",
    "- for that model, it appears on first glance that the variance in our sample is not really too similar to our true data. would need to do more testing to determine that."
   ]
  }
 ],
 "metadata": {
  "kernelspec": {
   "display_name": "Python 3.10.5 64-bit",
   "language": "python",
   "name": "python3"
  },
  "language_info": {
   "codemirror_mode": {
    "name": "ipython",
    "version": 3
   },
   "file_extension": ".py",
   "mimetype": "text/x-python",
   "name": "python",
   "nbconvert_exporter": "python",
   "pygments_lexer": "ipython3",
   "version": "3.8.16"
  },
  "vscode": {
   "interpreter": {
    "hash": "e7370f93d1d0cde622a1f8e1c04877d8463912d04d973331ad4851f04de6915a"
   }
  }
 },
 "nbformat": 4,
 "nbformat_minor": 5
}
