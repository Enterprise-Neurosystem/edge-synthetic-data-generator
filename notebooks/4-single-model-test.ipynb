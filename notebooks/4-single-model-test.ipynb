{
 "cells": [
  {
   "cell_type": "code",
   "execution_count": null,
   "id": "b755b599-2098-4075-8485-a994f1897a08",
   "metadata": {
    "tags": []
   },
   "outputs": [],
   "source": [
    "!pip install sdv~=1.0.1"
   ]
  },
  {
   "cell_type": "code",
   "execution_count": null,
   "id": "e2459d80-438e-41ed-9195-47e727e59a38",
   "metadata": {},
   "outputs": [],
   "source": [
    "from sdv.timeseries import PAR\n",
    "import pandas as pd\n",
    "from sklearn.preprocessing import MinMaxScaler\n",
    "from pickle import dump, load"
   ]
  },
  {
   "cell_type": "code",
   "execution_count": null,
   "id": "e5f3d631-b7b5-4827-9153-a4e5c1a0d079",
   "metadata": {},
   "outputs": [],
   "source": [
    "loaded = PAR.load(\"25_model.pkl\")"
   ]
  },
  {
   "cell_type": "code",
   "execution_count": null,
   "id": "85715930-7a42-49d7-aa1c-647b03e96a89",
   "metadata": {},
   "outputs": [],
   "source": [
    "sample = loaded.sample(num_sequences=1)"
   ]
  },
  {
   "cell_type": "code",
   "execution_count": null,
   "id": "bcbbfce9-b824-4476-9557-1cbadbcd1247",
   "metadata": {},
   "outputs": [],
   "source": [
    "# This is prohibitvely long?? WHY!"
   ]
  },
  {
   "cell_type": "markdown",
   "id": "ac850afc-c57f-47a5-b675-a91d9817407c",
   "metadata": {},
   "source": [
    "this is because the PAR model seems to take the same amount of time to produce any sequence of data of the same length, regardless of model size or parameters being generated."
   ]
  },
  {
   "cell_type": "code",
   "execution_count": null,
   "id": "bb1c5e17-fdb5-45d8-866d-ca0acb7acbef",
   "metadata": {},
   "outputs": [],
   "source": [
    "import matplotlib.pyplot as plt\n",
    "\n",
    "\n",
    "sample.set_index(\"timestamp\").plot()"
   ]
  }
 ],
 "metadata": {
  "kernelspec": {
   "display_name": "Python 3 (ipykernel)",
   "language": "python",
   "name": "python3"
  },
  "language_info": {
   "codemirror_mode": {
    "name": "ipython",
    "version": 3
   },
   "file_extension": ".py",
   "mimetype": "text/x-python",
   "name": "python",
   "nbconvert_exporter": "python",
   "pygments_lexer": "ipython3",
   "version": "3.8.8"
  }
 },
 "nbformat": 4,
 "nbformat_minor": 5
}
