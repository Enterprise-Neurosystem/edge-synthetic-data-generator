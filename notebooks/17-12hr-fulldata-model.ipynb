{
 "cells": [
  {
   "cell_type": "code",
   "execution_count": null,
   "id": "1ddba06c-14ff-4336-8756-51f7cde9ee38",
   "metadata": {
    "tags": []
   },
   "outputs": [],
   "source": [
    "!pip install torch==1.11.0  # version recommended by source\n",
    "!pip install git+https://github.com/gretelai/gretel-synthetics.git"
   ]
  },
  {
   "cell_type": "code",
   "execution_count": null,
   "id": "e96ea99c-05d7-4698-82c4-a8ee78e98aae",
   "metadata": {},
   "outputs": [],
   "source": [
    "import pandas as pd\n",
    "import numpy as np\n",
    "\n",
    "import matplotlib.pyplot as plt\n",
    "import matplotlib.dates as md\n",
    "from sklearn.preprocessing import MinMaxScaler\n",
    "from pickle import dump, load\n",
    "from skimage.util.shape import view_as_windows\n",
    "import time\n",
    "import seaborn as sns\n",
    "\n",
    "\n",
    "import torch\n",
    "\n",
    "from gretel_synthetics.timeseries_dgan.dgan import DGAN\n",
    "from gretel_synthetics.timeseries_dgan.config import DGANConfig, OutputType"
   ]
  },
  {
   "cell_type": "code",
   "execution_count": null,
   "id": "dd85be8a-708b-470d-895c-89ebb5270c17",
   "metadata": {},
   "outputs": [],
   "source": [
    "slice0 = pd.read_csv(\"../data/kagglePump/full_slice0.csv\")\n",
    "slice1 = pd.read_csv(\"../data/kagglePump/full_slice1.csv\")\n",
    "slice2 = pd.read_csv(\"../data/kagglePump/full_slice2.csv\")\n",
    "slice3 = pd.read_csv(\"../data/kagglePump/full_slice3.csv\")\n",
    "slice4 = pd.read_csv(\"../data/kagglePump/full_slice4.csv\")\n",
    "slice5 = pd.read_csv(\"../data/kagglePump/full_slice5.csv\")\n",
    "slice6 = pd.read_csv(\"../data/kagglePump/full_slice6.csv\")\n",
    "\n",
    "\n",
    "print(\n",
    "    slice0.shape,\n",
    "    slice1.shape,\n",
    "    slice2.shape,\n",
    "    slice3.shape,\n",
    "    slice4.shape,\n",
    "    slice5.shape,\n",
    "    slice6.shape,\n",
    ")"
   ]
  },
  {
   "cell_type": "code",
   "execution_count": null,
   "id": "a31b26d1-8992-4b4a-a5a1-08411f48700c",
   "metadata": {},
   "outputs": [],
   "source": [
    "slices_list = [slice0, slice1, slice2, slice3, slice4, slice5, slice6]"
   ]
  },
  {
   "cell_type": "code",
   "execution_count": null,
   "id": "d7ca3360-22fd-4dbf-8df1-3ee4a8ea6c1a",
   "metadata": {},
   "outputs": [],
   "source": [
    "# removing the slice4 as its too different from the others.\n",
    "# as found in plots in notebook 10.\n",
    "\n",
    "slices_list.pop(4)\n",
    "\n",
    "print(len(slices_list))"
   ]
  },
  {
   "cell_type": "code",
   "execution_count": null,
   "id": "8d4f4794-ef69-49da-a66b-fab97c800e35",
   "metadata": {},
   "outputs": [],
   "source": [
    "COLS_TO_DROP = [\"Unnamed: 0\", \"sensor_00\", \"sensor_15\", \"sensor_50\", \"sensor_51\"]\n",
    "cleanup_nums = {\"machine_status\": {\"NORMAL\": 0, \"BROKEN\": 1, \"RECOVERING\": 2}}\n",
    "\n",
    "for sl in slices_list:\n",
    "    sl[\"timestamp\"] = pd.to_datetime(sl[\"timestamp\"])  # cast to datatype\n",
    "    sl = sl.drop(COLS_TO_DROP, axis=1, inplace=True)  # drop cols\n",
    "\n",
    "for sl in slices_list:\n",
    "    sl = sl.replace(cleanup_nums)\n",
    "\n",
    "for sl in slices_list:\n",
    "    sl = sl.dropna(axis=0, inplace=True)  # drop nans"
   ]
  },
  {
   "cell_type": "code",
   "execution_count": null,
   "id": "ccbda790-bd42-46b0-b122-962e2a092bbb",
   "metadata": {},
   "outputs": [],
   "source": [
    "print(\n",
    "    slice0.shape,\n",
    "    slice1.shape,\n",
    "    slice2.shape,\n",
    "    slice3.shape,\n",
    "    slice4.shape,\n",
    "    slice5.shape,\n",
    "    slice6.shape,\n",
    ")"
   ]
  },
  {
   "cell_type": "code",
   "execution_count": null,
   "id": "b890ad03-2b49-4cd2-95a0-1a3303ffa2e0",
   "metadata": {},
   "outputs": [],
   "source": [
    "# these plots are absurd in size but lets do it anyways\n",
    "def plot_slice(one_slice):\n",
    "    # subplot matrix\n",
    "    fig, axes = plt.subplots(10, 5, figsize=(20, 20))\n",
    "    fig.tight_layout()\n",
    "\n",
    "    for col, ax in zip(one_slice.columns[1:-1], axes.flat):\n",
    "        one_slice[col].plot.line(ax=ax)\n",
    "        ax.set_title(col)\n",
    "    # disable leftover axes\n",
    "    for ax in axes.flat[one_slice.columns[1:-1].size :]:\n",
    "        ax.set_axis_off()"
   ]
  },
  {
   "cell_type": "code",
   "execution_count": null,
   "id": "f318dad8-56a6-4969-a978-d8f90c9fc085",
   "metadata": {},
   "outputs": [],
   "source": [
    "# plot_slice(slice0)"
   ]
  },
  {
   "cell_type": "code",
   "execution_count": null,
   "id": "793d0736-3b19-44d7-b28f-39e655c37c33",
   "metadata": {},
   "outputs": [],
   "source": [
    "# plot_slice(slice1)"
   ]
  },
  {
   "cell_type": "code",
   "execution_count": null,
   "id": "ba22a1dd-f9ca-40ff-b348-6c5814530b67",
   "metadata": {},
   "outputs": [],
   "source": [
    "for i in range(len(slices_list)):\n",
    "    slices_list[i] = slices_list[i].drop(columns=[\"timestamp\"]).to_numpy()\n",
    "    slices_list[i] = np.array(slices_list[i][1:])\n",
    "    print(slices_list[i].shape)"
   ]
  },
  {
   "cell_type": "code",
   "execution_count": null,
   "id": "250331e0-6de2-4e9c-9f87-307ef16ccdcd",
   "metadata": {},
   "outputs": [],
   "source": [
    "# from list of nps to np of nps\n",
    "slices_list = np.asarray(slices_list)\n",
    "slices_list.shape"
   ]
  },
  {
   "cell_type": "code",
   "execution_count": null,
   "id": "1b0b122b-c30f-4ef5-aca1-4b6a27d90250",
   "metadata": {},
   "outputs": [],
   "source": [
    "# we have shape 6,2160, 49 with machine status.\n",
    "# we want something closer to 300,720,4.\n",
    "# 300 being num training samples, 720 being datapoints per sample (12 hrs), 4 sensor cols.\n",
    "window_shape = (720, 49)\n",
    "windowed_data = view_as_windows(slices_list[0], window_shape, step=36)\n",
    "windowed_data = np.squeeze(windowed_data)\n",
    "windowed_data.shape"
   ]
  },
  {
   "cell_type": "code",
   "execution_count": null,
   "id": "115a6bc8-e020-4951-a3b5-1dcd4b54ab82",
   "metadata": {},
   "outputs": [],
   "source": [
    "for i in range(1, 6):\n",
    "    temp_window = view_as_windows(slices_list[i], window_shape, step=36)\n",
    "    temp_window = np.squeeze(temp_window)\n",
    "    windowed_data = np.append(windowed_data, temp_window, axis=0)"
   ]
  },
  {
   "cell_type": "code",
   "execution_count": null,
   "id": "aeab22d2-a4a1-4532-bca7-71cbccde78c4",
   "metadata": {},
   "outputs": [],
   "source": [
    "# set up DGAN config.\n",
    "\n",
    "config = DGANConfig(\n",
    "    max_sequence_len=windowed_data.shape[1],\n",
    "    sample_len=20,  # trying a larger sample_len\n",
    "    batch_size=min(1000, windowed_data.shape[0]),\n",
    "    apply_feature_scaling=True,\n",
    "    apply_example_scaling=False,\n",
    "    use_attribute_discriminator=False,\n",
    "    generator_learning_rate=1e-4,\n",
    "    discriminator_learning_rate=1e-4,\n",
    "    epochs=10000,\n",
    ")\n",
    "\n",
    "model = DGAN(config)"
   ]
  },
  {
   "cell_type": "code",
   "execution_count": null,
   "id": "c3b20f4c-5d49-43f7-91ea-6d304f8ff78e",
   "metadata": {},
   "outputs": [],
   "source": [
    "# Recommended to train with a GPU\n",
    "torch.cuda.is_available()"
   ]
  },
  {
   "cell_type": "code",
   "execution_count": null,
   "id": "36070965-7ed5-4063-9675-4bcc108a274b",
   "metadata": {
    "tags": []
   },
   "outputs": [],
   "source": [
    "start = time.time()\n",
    "model.train_numpy(\n",
    "    windowed_data,\n",
    "    feature_types=[OutputType.CONTINUOUS] * (windowed_data.shape[2] - 1)\n",
    "    + [OutputType.DISCRETE],\n",
    ")\n",
    "stop = time.time()"
   ]
  },
  {
   "cell_type": "code",
   "execution_count": null,
   "id": "48c1de7c-781d-4dce-98ff-f8df5b56696b",
   "metadata": {},
   "outputs": [],
   "source": [
    "print(f\"Training time: {stop - start}s\")"
   ]
  },
  {
   "cell_type": "code",
   "execution_count": null,
   "id": "6466b245-f0e5-45b4-bcf3-ea19874fec0a",
   "metadata": {},
   "outputs": [],
   "source": [
    "# saving model for future use\n",
    "model.save(\"../models/dgan_model_5_48_sensors.pt\")"
   ]
  },
  {
   "cell_type": "code",
   "execution_count": null,
   "id": "fb408deb-2de0-478f-830e-086ce639ba12",
   "metadata": {},
   "outputs": [],
   "source": [
    "# Generate synthetic data - this ran near instantly\n",
    "_, synthetic_features = model.generate_numpy(1)"
   ]
  },
  {
   "cell_type": "code",
   "execution_count": null,
   "id": "22010fcf-42be-40e8-bb63-da0f70b41aa8",
   "metadata": {},
   "outputs": [],
   "source": [
    "synthetic_features[0].shape"
   ]
  },
  {
   "cell_type": "code",
   "execution_count": null,
   "id": "0bc74c53-22c6-42fc-a3fa-84d7dd20629e",
   "metadata": {},
   "outputs": [],
   "source": [
    "sensor_cols = slice0.columns\n",
    "sensor_cols = sensor_cols[1:]"
   ]
  },
  {
   "cell_type": "code",
   "execution_count": null,
   "id": "2db64372-98ae-4423-a6d3-9847c52dcb4c",
   "metadata": {},
   "outputs": [],
   "source": [
    "synthetic_df = pd.DataFrame(\n",
    "    synthetic_features.reshape(-1, synthetic_features.shape[2]), columns=sensor_cols\n",
    ")\n",
    "synthetic_df.shape"
   ]
  },
  {
   "cell_type": "code",
   "execution_count": null,
   "id": "a651faf9-4259-4d8e-a51f-9d452b7fa514",
   "metadata": {},
   "outputs": [],
   "source": [
    "fig, (ax1, ax2) = plt.subplots(1, 2, figsize=(13, 5))\n",
    "sns.heatmap(slice2.corr(), cmap=\"Greens\", ax=ax1)\n",
    "sns.heatmap(synthetic_df.corr(), cmap=\"Blues\", ax=ax2)\n",
    "plt.show()"
   ]
  },
  {
   "cell_type": "markdown",
   "id": "20a1213e-8767-4921-a34d-4dc1b14b2db0",
   "metadata": {},
   "source": [
    "will do more testing in a dedicated nb for testing model efficacy."
   ]
  }
 ],
 "metadata": {
  "kernelspec": {
   "display_name": "Python 3 (ipykernel)",
   "language": "python",
   "name": "python3"
  },
  "language_info": {
   "codemirror_mode": {
    "name": "ipython",
    "version": 3
   },
   "file_extension": ".py",
   "mimetype": "text/x-python",
   "name": "python",
   "nbconvert_exporter": "python",
   "pygments_lexer": "ipython3",
   "version": "3.8.8"
  }
 },
 "nbformat": 4,
 "nbformat_minor": 5
}
