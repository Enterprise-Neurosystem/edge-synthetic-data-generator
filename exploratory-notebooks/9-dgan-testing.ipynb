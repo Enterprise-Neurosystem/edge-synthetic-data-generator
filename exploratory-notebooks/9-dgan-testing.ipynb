{
 "cells": [
  {
   "cell_type": "code",
   "execution_count": null,
   "id": "71f7d12a-555b-4d92-a980-afd01a90e76c",
   "metadata": {},
   "outputs": [],
   "source": [
    "!pip install torch==1.11.0  # version recommended by source"
   ]
  },
  {
   "cell_type": "code",
   "execution_count": null,
   "id": "8fe5e396-2ec6-4403-853f-ee94eac6b548",
   "metadata": {
    "tags": []
   },
   "outputs": [],
   "source": [
    "!pip install git+https://github.com/gretelai/gretel-synthetics.git"
   ]
  },
  {
   "cell_type": "code",
   "execution_count": 5,
   "id": "bd9b7a30-8f07-46bc-b774-e6a064048bc8",
   "metadata": {},
   "outputs": [],
   "source": [
    "import pandas as pd\n",
    "import numpy as np\n",
    "\n",
    "import matplotlib.pyplot as plt\n",
    "import matplotlib.dates as md\n",
    "from sklearn.preprocessing import MinMaxScaler\n",
    "from pickle import dump, load\n",
    "from skimage.util.shape import view_as_windows\n",
    "\n",
    "import torch\n",
    "\n",
    "from gretel_synthetics.timeseries_dgan.dgan import DGAN\n",
    "from gretel_synthetics.timeseries_dgan.config import DGANConfig, OutputType"
   ]
  },
  {
   "cell_type": "code",
   "execution_count": 14,
   "id": "dff9f633-cb2d-45d9-8d53-84bdad47affe",
   "metadata": {},
   "outputs": [],
   "source": [
    "sensor_cols = ['sensor_25', 'sensor_11', 'sensor_36', 'sensor_34']\n"
   ]
  },
  {
   "cell_type": "code",
   "execution_count": 9,
   "id": "2e98f49d-5e46-4438-9fd1-d5d14a02d2ea",
   "metadata": {},
   "outputs": [],
   "source": [
    "model = config = DGANConfig(\n",
    "    max_sequence_len=240,\n",
    "    sample_len=20, # trying a larger sample_len\n",
    "    batch_size=min(1000, 985),\n",
    "    apply_feature_scaling=True, \n",
    "    apply_example_scaling=False,\n",
    "    use_attribute_discriminator=False,\n",
    "    generator_learning_rate=1e-4,\n",
    "    discriminator_learning_rate=1e-4,\n",
    "    epochs=10000)\n",
    "\n",
    "model = DGAN(config)\n",
    "\n",
    "model = model.load(\"../models/dgan_model_1.pt\", map_location=torch.device('cpu'))"
   ]
  },
  {
   "cell_type": "code",
   "execution_count": 11,
   "id": "92a3e0b3-39ca-4c57-84ca-7d95edafccfb",
   "metadata": {},
   "outputs": [],
   "source": [
    "# Generate synthetic data - this ran near instantly\n",
    "_, synthetic_features = model.generate_numpy(1000)"
   ]
  },
  {
   "cell_type": "markdown",
   "id": "c963c5b9-6fab-4d5b-a5e0-e4084a456a6f",
   "metadata": {
    "tags": []
   },
   "source": [
    "Ok awesome, this is how we load in a previously trained DGAN model. \n",
    "\n",
    "need to specify map_location as it was trained on GPU and we're loading it in a non-gpu notebook image. "
   ]
  }
 ],
 "metadata": {
  "kernelspec": {
   "display_name": "Python 3 (ipykernel)",
   "language": "python",
   "name": "python3"
  },
  "language_info": {
   "codemirror_mode": {
    "name": "ipython",
    "version": 3
   },
   "file_extension": ".py",
   "mimetype": "text/x-python",
   "name": "python",
   "nbconvert_exporter": "python",
   "pygments_lexer": "ipython3",
   "version": "3.8.8"
  }
 },
 "nbformat": 4,
 "nbformat_minor": 5
}
