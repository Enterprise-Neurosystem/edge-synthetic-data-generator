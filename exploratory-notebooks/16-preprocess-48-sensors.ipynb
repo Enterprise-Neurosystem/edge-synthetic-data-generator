{
 "cells": [
  {
   "cell_type": "markdown",
   "id": "932d975c-be69-4d9e-82be-7e1f286a6dd9",
   "metadata": {},
   "source": [
    "Slice Kaggle data found in sensor.csv into partitions that start 36 hours before each failure.  All columns are saved.\n",
    "These partitions are used to simulate real time data that is generated for model prediction.\n",
    "Code provided by Eli Guidera and modified for our needs in a notebook."
   ]
  },
  {
   "cell_type": "code",
   "execution_count": 1,
   "id": "dee30279-ee32-4d15-9fb1-d8f670e5601f",
   "metadata": {},
   "outputs": [],
   "source": [
    "import pandas as pd\n",
    "import numpy as np"
   ]
  },
  {
   "cell_type": "code",
   "execution_count": 2,
   "id": "d06f3df1-e697-4ca1-ad14-5c715afd0603",
   "metadata": {},
   "outputs": [],
   "source": [
    "# Read data, set 'timestamp' values as index\n",
    "# my path is a bit annoying, the data in another repo for me\n",
    "# https://www.kaggle.com/datasets/nphantawee/pump-sensor-data\n",
    "sensor_path = '~/sensor-failure-predication/synthetic-data-generator/sensor.csv'\n",
    "\n",
    "df = pd.read_csv(sensor_path, index_col='timestamp', parse_dates=True)\n"
   ]
  },
  {
   "cell_type": "code",
   "execution_count": 3,
   "id": "23036d02-a449-43cc-bea7-3ab8f3f3b1bb",
   "metadata": {},
   "outputs": [],
   "source": [
    "# Column 'machine_status' has word values.\n",
    "# Convert string values in target to numerics.\n",
    "# Notice that 'BROKEN' is mapped to 1\n",
    "status_values = [(df['machine_status'] == 'NORMAL'),\n",
    "                 (df['machine_status'] == 'BROKEN'),\n",
    "                 (df['machine_status'] == 'RECOVERING')]\n",
    "\n",
    "numeric_status_values = [0, 1, 0.5]\n",
    "df['machine_status'] = np.select(status_values,\n",
    "                                 numeric_status_values,\n",
    "                                 default=0)"
   ]
  },
  {
   "cell_type": "code",
   "execution_count": 4,
   "id": "aec56a18-af23-4075-ae05-6f35dc60b10c",
   "metadata": {},
   "outputs": [],
   "source": [
    "# Get failure times\n",
    "failure_times = df[df['machine_status'] == 1].index"
   ]
  },
  {
   "cell_type": "code",
   "execution_count": 5,
   "id": "a103cac0-a6be-40ee-ab89-ef14ec3c3814",
   "metadata": {},
   "outputs": [],
   "source": [
    "# Write the data slices to csv files\n",
    "for i, failure_time in enumerate(failure_times):\n",
    "    df.loc[(failure_time - pd.Timedelta(seconds=60*60*12*3)) : failure_time, :].\\\n",
    "        to_csv('../data/kagglePump/full_slice'+str(i)+'.csv')"
   ]
  },
  {
   "cell_type": "code",
   "execution_count": null,
   "id": "ed63cff3-3d93-4c44-a88e-1b4edffcdef3",
   "metadata": {},
   "outputs": [],
   "source": []
  }
 ],
 "metadata": {
  "kernelspec": {
   "display_name": "Python 3 (ipykernel)",
   "language": "python",
   "name": "python3"
  },
  "language_info": {
   "codemirror_mode": {
    "name": "ipython",
    "version": 3
   },
   "file_extension": ".py",
   "mimetype": "text/x-python",
   "name": "python",
   "nbconvert_exporter": "python",
   "pygments_lexer": "ipython3",
   "version": "3.8.8"
  }
 },
 "nbformat": 4,
 "nbformat_minor": 5
}
