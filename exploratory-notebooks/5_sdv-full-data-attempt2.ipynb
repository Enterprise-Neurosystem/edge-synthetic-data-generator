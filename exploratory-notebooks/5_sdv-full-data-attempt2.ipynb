{
 "cells": [
  {
   "cell_type": "code",
   "execution_count": null,
   "id": "0ef4d62f-2a2a-4417-b220-f00b3a4c1085",
   "metadata": {
    "tags": []
   },
   "outputs": [],
   "source": [
    "!pip install sdv"
   ]
  },
  {
   "cell_type": "code",
   "execution_count": 2,
   "id": "46690744-3e7e-44cf-a1b1-8b04df14a5d9",
   "metadata": {},
   "outputs": [],
   "source": [
    "from sdv.timeseries import PAR\n",
    "import pandas as pd\n",
    "from sklearn.preprocessing import MinMaxScaler\n",
    "from sklearn.preprocessing import LabelEncoder\n",
    "from pickle import dump, load"
   ]
  },
  {
   "cell_type": "code",
   "execution_count": 3,
   "id": "b6917eef-1537-419e-8a52-b023eb98e3e9",
   "metadata": {},
   "outputs": [],
   "source": [
    "# https://www.kaggle.com/code/xiaxiaxu/predictmachinefailureinadvance/data\n",
    "sensor = pd.read_csv('sensor.csv') \n",
    "\n",
    "# only keeping cols w high var in pca analysis + machine status\n",
    "data = sensor[['timestamp', 'sensor_25', 'sensor_11', 'sensor_36', 'sensor_34', 'machine_status']]"
   ]
  },
  {
   "cell_type": "code",
   "execution_count": 4,
   "id": "77ae7feb-a257-4295-bcbe-1db795aa9af5",
   "metadata": {},
   "outputs": [
    {
     "name": "stdout",
     "output_type": "stream",
     "text": [
      "timestamp          object\n",
      "sensor_25         float64\n",
      "sensor_11         float64\n",
      "sensor_36         float64\n",
      "sensor_34         float64\n",
      "machine_status     object\n",
      "dtype: object \n",
      "\n"
     ]
    },
    {
     "name": "stderr",
     "output_type": "stream",
     "text": [
      "/tmp/ipykernel_9612/1293169788.py:5: SettingWithCopyWarning: \n",
      "A value is trying to be set on a copy of a slice from a DataFrame.\n",
      "Try using .loc[row_indexer,col_indexer] = value instead\n",
      "\n",
      "See the caveats in the documentation: https://pandas.pydata.org/pandas-docs/stable/user_guide/indexing.html#returning-a-view-versus-a-copy\n",
      "  data['timestamp']= pd.to_datetime(data['timestamp'])\n"
     ]
    },
    {
     "data": {
      "text/plain": [
       "array(['NORMAL', 'BROKEN', 'RECOVERING'], dtype=object)"
      ]
     },
     "execution_count": 4,
     "metadata": {},
     "output_type": "execute_result"
    }
   ],
   "source": [
    "# okay, what can our machine status be?\n",
    "\n",
    "# data = data.convert_dtypes()\n",
    "print(data.dtypes, '\\n')\n",
    "data['timestamp']= pd.to_datetime(data['timestamp'])\n",
    "\n",
    "data.machine_status.unique()"
   ]
  },
  {
   "cell_type": "code",
   "execution_count": 5,
   "id": "e7555565-a3a4-46dc-9f0b-3ccc87d5d3f7",
   "metadata": {},
   "outputs": [
    {
     "data": {
      "text/html": [
       "<div>\n",
       "<style scoped>\n",
       "    .dataframe tbody tr th:only-of-type {\n",
       "        vertical-align: middle;\n",
       "    }\n",
       "\n",
       "    .dataframe tbody tr th {\n",
       "        vertical-align: top;\n",
       "    }\n",
       "\n",
       "    .dataframe thead th {\n",
       "        text-align: right;\n",
       "    }\n",
       "</style>\n",
       "<table border=\"1\" class=\"dataframe\">\n",
       "  <thead>\n",
       "    <tr style=\"text-align: right;\">\n",
       "      <th></th>\n",
       "      <th>timestamp</th>\n",
       "      <th>sensor_25</th>\n",
       "      <th>sensor_11</th>\n",
       "      <th>sensor_36</th>\n",
       "      <th>sensor_34</th>\n",
       "      <th>machine_status</th>\n",
       "    </tr>\n",
       "  </thead>\n",
       "  <tbody>\n",
       "    <tr>\n",
       "      <th>17155</th>\n",
       "      <td>2018-04-12 21:55:00</td>\n",
       "      <td>653.9383</td>\n",
       "      <td>3.625588</td>\n",
       "      <td>301.1411</td>\n",
       "      <td>261.7709</td>\n",
       "      <td>BROKEN</td>\n",
       "    </tr>\n",
       "    <tr>\n",
       "      <th>24510</th>\n",
       "      <td>2018-04-18 00:30:00</td>\n",
       "      <td>650.4600</td>\n",
       "      <td>30.434710</td>\n",
       "      <td>434.2556</td>\n",
       "      <td>177.4708</td>\n",
       "      <td>BROKEN</td>\n",
       "    </tr>\n",
       "    <tr>\n",
       "      <th>69318</th>\n",
       "      <td>2018-05-19 03:18:00</td>\n",
       "      <td>719.8438</td>\n",
       "      <td>43.623220</td>\n",
       "      <td>285.3491</td>\n",
       "      <td>171.3203</td>\n",
       "      <td>BROKEN</td>\n",
       "    </tr>\n",
       "    <tr>\n",
       "      <th>77790</th>\n",
       "      <td>2018-05-25 00:30:00</td>\n",
       "      <td>746.0360</td>\n",
       "      <td>44.793620</td>\n",
       "      <td>250.9113</td>\n",
       "      <td>171.7490</td>\n",
       "      <td>BROKEN</td>\n",
       "    </tr>\n",
       "    <tr>\n",
       "      <th>128040</th>\n",
       "      <td>2018-06-28 22:00:00</td>\n",
       "      <td>143.1029</td>\n",
       "      <td>1.960537</td>\n",
       "      <td>367.8615</td>\n",
       "      <td>343.9342</td>\n",
       "      <td>BROKEN</td>\n",
       "    </tr>\n",
       "    <tr>\n",
       "      <th>141131</th>\n",
       "      <td>2018-07-08 00:11:00</td>\n",
       "      <td>759.8998</td>\n",
       "      <td>23.970270</td>\n",
       "      <td>616.8983</td>\n",
       "      <td>287.9145</td>\n",
       "      <td>BROKEN</td>\n",
       "    </tr>\n",
       "    <tr>\n",
       "      <th>166440</th>\n",
       "      <td>2018-07-25 14:00:00</td>\n",
       "      <td>740.6738</td>\n",
       "      <td>50.046190</td>\n",
       "      <td>812.8298</td>\n",
       "      <td>363.0320</td>\n",
       "      <td>BROKEN</td>\n",
       "    </tr>\n",
       "  </tbody>\n",
       "</table>\n",
       "</div>"
      ],
      "text/plain": [
       "                 timestamp  sensor_25  sensor_11  sensor_36  sensor_34  \\\n",
       "17155  2018-04-12 21:55:00   653.9383   3.625588   301.1411   261.7709   \n",
       "24510  2018-04-18 00:30:00   650.4600  30.434710   434.2556   177.4708   \n",
       "69318  2018-05-19 03:18:00   719.8438  43.623220   285.3491   171.3203   \n",
       "77790  2018-05-25 00:30:00   746.0360  44.793620   250.9113   171.7490   \n",
       "128040 2018-06-28 22:00:00   143.1029   1.960537   367.8615   343.9342   \n",
       "141131 2018-07-08 00:11:00   759.8998  23.970270   616.8983   287.9145   \n",
       "166440 2018-07-25 14:00:00   740.6738  50.046190   812.8298   363.0320   \n",
       "\n",
       "       machine_status  \n",
       "17155          BROKEN  \n",
       "24510          BROKEN  \n",
       "69318          BROKEN  \n",
       "77790          BROKEN  \n",
       "128040         BROKEN  \n",
       "141131         BROKEN  \n",
       "166440         BROKEN  "
      ]
     },
     "execution_count": 5,
     "metadata": {},
     "output_type": "execute_result"
    }
   ],
   "source": [
    "data.loc[data['machine_status'] == 'BROKEN']"
   ]
  },
  {
   "cell_type": "code",
   "execution_count": 6,
   "id": "0330377b-278d-48be-86ca-9d179a96e967",
   "metadata": {},
   "outputs": [
    {
     "data": {
      "text/plain": [
       "10000"
      ]
     },
     "execution_count": 6,
     "metadata": {},
     "output_type": "execute_result"
    }
   ],
   "source": [
    "data_around_failures = data.iloc[16000:26000]\n",
    "len(data_around_failures)"
   ]
  },
  {
   "cell_type": "code",
   "execution_count": 7,
   "id": "cbe2a4ea-d87c-4fb0-8804-e6214dc85076",
   "metadata": {},
   "outputs": [
    {
     "name": "stdout",
     "output_type": "stream",
     "text": [
      "                timestamp  sensor_25  sensor_11  sensor_36  sensor_34  \\\n",
      "25112 2018-04-18 10:32:00   778.3798        NaN   320.4606   168.2153   \n",
      "\n",
      "      machine_status  \n",
      "25112     RECOVERING  \n",
      "Empty DataFrame\n",
      "Columns: [timestamp, sensor_25, sensor_11, sensor_36, sensor_34, machine_status]\n",
      "Index: []\n"
     ]
    },
    {
     "name": "stderr",
     "output_type": "stream",
     "text": [
      "/tmp/ipykernel_9612/695179921.py:5: SettingWithCopyWarning: \n",
      "A value is trying to be set on a copy of a slice from a DataFrame\n",
      "\n",
      "See the caveats in the documentation: https://pandas.pydata.org/pandas-docs/stable/user_guide/indexing.html#returning-a-view-versus-a-copy\n",
      "  data_around_failures.dropna(axis=0, inplace=True)\n"
     ]
    }
   ],
   "source": [
    "print(data_around_failures[data_around_failures.isna().any(axis=1)])\n",
    "\n",
    "# we only have one row with NA, let's simply drop that.\n",
    "\n",
    "data_around_failures.dropna(axis=0, inplace=True)\n",
    "\n",
    "print(data_around_failures[data_around_failures.isna().any(axis=1)])"
   ]
  },
  {
   "cell_type": "code",
   "execution_count": 14,
   "id": "801a4086-6dd9-4426-9539-f40e66dabaa2",
   "metadata": {},
   "outputs": [
    {
     "name": "stderr",
     "output_type": "stream",
     "text": [
      "/tmp/ipykernel_9612/227989069.py:5: SettingWithCopyWarning: \n",
      "A value is trying to be set on a copy of a slice from a DataFrame.\n",
      "Try using .loc[row_indexer,col_indexer] = value instead\n",
      "\n",
      "See the caveats in the documentation: https://pandas.pydata.org/pandas-docs/stable/user_guide/indexing.html#returning-a-view-versus-a-copy\n",
      "  data_around_failures[sensor_cols] = scaler.fit_transform(data_around_failures[sensor_cols])\n",
      "/opt/app-root/lib64/python3.8/site-packages/pandas/core/indexing.py:1738: SettingWithCopyWarning: \n",
      "A value is trying to be set on a copy of a slice from a DataFrame.\n",
      "Try using .loc[row_indexer,col_indexer] = value instead\n",
      "\n",
      "See the caveats in the documentation: https://pandas.pydata.org/pandas-docs/stable/user_guide/indexing.html#returning-a-view-versus-a-copy\n",
      "  self._setitem_single_column(loc, value[:, i].tolist(), pi)\n"
     ]
    }
   ],
   "source": [
    "scaler = MinMaxScaler((-1,1))\n",
    "sensor_cols = ['sensor_25', 'sensor_11', 'sensor_36', 'sensor_34']\n",
    "\n",
    "# scaling our data, then saving our scaler object for future use.\n",
    "data_around_failures[sensor_cols] = scaler.fit_transform(data_around_failures[sensor_cols])\n",
    "\n",
    "dump(scaler, open('scaler_2.pkl', 'wb'))"
   ]
  },
  {
   "cell_type": "code",
   "execution_count": 9,
   "id": "23d79108-04d1-4632-a5c2-cbfeda459fbb",
   "metadata": {},
   "outputs": [
    {
     "data": {
      "text/html": [
       "<div>\n",
       "<style scoped>\n",
       "    .dataframe tbody tr th:only-of-type {\n",
       "        vertical-align: middle;\n",
       "    }\n",
       "\n",
       "    .dataframe tbody tr th {\n",
       "        vertical-align: top;\n",
       "    }\n",
       "\n",
       "    .dataframe thead th {\n",
       "        text-align: right;\n",
       "    }\n",
       "</style>\n",
       "<table border=\"1\" class=\"dataframe\">\n",
       "  <thead>\n",
       "    <tr style=\"text-align: right;\">\n",
       "      <th></th>\n",
       "      <th>timestamp</th>\n",
       "      <th>sensor_25</th>\n",
       "      <th>sensor_11</th>\n",
       "      <th>sensor_36</th>\n",
       "      <th>sensor_34</th>\n",
       "      <th>machine_status</th>\n",
       "    </tr>\n",
       "  </thead>\n",
       "  <tbody>\n",
       "    <tr>\n",
       "      <th>16000</th>\n",
       "      <td>2018-04-12 02:40:00</td>\n",
       "      <td>-0.365892</td>\n",
       "      <td>0.753564</td>\n",
       "      <td>-0.715956</td>\n",
       "      <td>-0.422625</td>\n",
       "      <td>NORMAL</td>\n",
       "    </tr>\n",
       "    <tr>\n",
       "      <th>16001</th>\n",
       "      <td>2018-04-12 02:41:00</td>\n",
       "      <td>-0.339668</td>\n",
       "      <td>0.794118</td>\n",
       "      <td>-0.723864</td>\n",
       "      <td>-0.402944</td>\n",
       "      <td>NORMAL</td>\n",
       "    </tr>\n",
       "    <tr>\n",
       "      <th>16002</th>\n",
       "      <td>2018-04-12 02:42:00</td>\n",
       "      <td>-0.355702</td>\n",
       "      <td>0.799705</td>\n",
       "      <td>-0.699396</td>\n",
       "      <td>-0.383268</td>\n",
       "      <td>NORMAL</td>\n",
       "    </tr>\n",
       "    <tr>\n",
       "      <th>16003</th>\n",
       "      <td>2018-04-12 02:43:00</td>\n",
       "      <td>-0.364130</td>\n",
       "      <td>0.823757</td>\n",
       "      <td>-0.729806</td>\n",
       "      <td>-0.360489</td>\n",
       "      <td>NORMAL</td>\n",
       "    </tr>\n",
       "    <tr>\n",
       "      <th>16004</th>\n",
       "      <td>2018-04-12 02:44:00</td>\n",
       "      <td>-0.422890</td>\n",
       "      <td>0.816034</td>\n",
       "      <td>-0.717692</td>\n",
       "      <td>-0.344245</td>\n",
       "      <td>NORMAL</td>\n",
       "    </tr>\n",
       "  </tbody>\n",
       "</table>\n",
       "</div>"
      ],
      "text/plain": [
       "                timestamp  sensor_25  sensor_11  sensor_36  sensor_34  \\\n",
       "16000 2018-04-12 02:40:00  -0.365892   0.753564  -0.715956  -0.422625   \n",
       "16001 2018-04-12 02:41:00  -0.339668   0.794118  -0.723864  -0.402944   \n",
       "16002 2018-04-12 02:42:00  -0.355702   0.799705  -0.699396  -0.383268   \n",
       "16003 2018-04-12 02:43:00  -0.364130   0.823757  -0.729806  -0.360489   \n",
       "16004 2018-04-12 02:44:00  -0.422890   0.816034  -0.717692  -0.344245   \n",
       "\n",
       "      machine_status  \n",
       "16000         NORMAL  \n",
       "16001         NORMAL  \n",
       "16002         NORMAL  \n",
       "16003         NORMAL  \n",
       "16004         NORMAL  "
      ]
     },
     "execution_count": 9,
     "metadata": {},
     "output_type": "execute_result"
    }
   ],
   "source": [
    "data_around_failures.head()"
   ]
  },
  {
   "cell_type": "code",
   "execution_count": 10,
   "id": "643acc02-1f44-4f85-b22c-1d456723ee59",
   "metadata": {},
   "outputs": [
    {
     "name": "stdout",
     "output_type": "stream",
     "text": [
      "NORMAL        7565\n",
      "RECOVERING    2432\n",
      "BROKEN           2\n",
      "Name: machine_status, dtype: int64\n"
     ]
    }
   ],
   "source": [
    "# finding number of times machine status is diff vars\n",
    "\n",
    "n = data_around_failures.machine_status.value_counts()\n",
    "print(n)"
   ]
  },
  {
   "cell_type": "code",
   "execution_count": 11,
   "id": "e8f01a9d-9f29-492f-b32f-3347e9b2f933",
   "metadata": {},
   "outputs": [
    {
     "data": {
      "text/html": [
       "<div>\n",
       "<style scoped>\n",
       "    .dataframe tbody tr th:only-of-type {\n",
       "        vertical-align: middle;\n",
       "    }\n",
       "\n",
       "    .dataframe tbody tr th {\n",
       "        vertical-align: top;\n",
       "    }\n",
       "\n",
       "    .dataframe thead th {\n",
       "        text-align: right;\n",
       "    }\n",
       "</style>\n",
       "<table border=\"1\" class=\"dataframe\">\n",
       "  <thead>\n",
       "    <tr style=\"text-align: right;\">\n",
       "      <th></th>\n",
       "      <th>timestamp</th>\n",
       "      <th>sensor_25</th>\n",
       "      <th>sensor_11</th>\n",
       "      <th>sensor_36</th>\n",
       "      <th>sensor_34</th>\n",
       "      <th>machine_status</th>\n",
       "    </tr>\n",
       "  </thead>\n",
       "  <tbody>\n",
       "    <tr>\n",
       "      <th>16000</th>\n",
       "      <td>2018-04-12 02:40:00</td>\n",
       "      <td>-0.365892</td>\n",
       "      <td>0.753564</td>\n",
       "      <td>-0.715956</td>\n",
       "      <td>-0.422625</td>\n",
       "      <td>NORMAL</td>\n",
       "    </tr>\n",
       "    <tr>\n",
       "      <th>16002</th>\n",
       "      <td>2018-04-12 02:42:00</td>\n",
       "      <td>-0.355702</td>\n",
       "      <td>0.799705</td>\n",
       "      <td>-0.699396</td>\n",
       "      <td>-0.383268</td>\n",
       "      <td>NORMAL</td>\n",
       "    </tr>\n",
       "    <tr>\n",
       "      <th>16004</th>\n",
       "      <td>2018-04-12 02:44:00</td>\n",
       "      <td>-0.422890</td>\n",
       "      <td>0.816034</td>\n",
       "      <td>-0.717692</td>\n",
       "      <td>-0.344245</td>\n",
       "      <td>NORMAL</td>\n",
       "    </tr>\n",
       "    <tr>\n",
       "      <th>16006</th>\n",
       "      <td>2018-04-12 02:46:00</td>\n",
       "      <td>-0.395750</td>\n",
       "      <td>0.768888</td>\n",
       "      <td>-0.711339</td>\n",
       "      <td>-0.354285</td>\n",
       "      <td>NORMAL</td>\n",
       "    </tr>\n",
       "    <tr>\n",
       "      <th>16008</th>\n",
       "      <td>2018-04-12 02:48:00</td>\n",
       "      <td>-0.252140</td>\n",
       "      <td>0.760246</td>\n",
       "      <td>-0.709943</td>\n",
       "      <td>-0.336067</td>\n",
       "      <td>NORMAL</td>\n",
       "    </tr>\n",
       "    <tr>\n",
       "      <th>...</th>\n",
       "      <td>...</td>\n",
       "      <td>...</td>\n",
       "      <td>...</td>\n",
       "      <td>...</td>\n",
       "      <td>...</td>\n",
       "      <td>...</td>\n",
       "    </tr>\n",
       "    <tr>\n",
       "      <th>25990</th>\n",
       "      <td>2018-04-19 01:10:00</td>\n",
       "      <td>-0.389142</td>\n",
       "      <td>-1.000000</td>\n",
       "      <td>-0.729133</td>\n",
       "      <td>-0.154069</td>\n",
       "      <td>RECOVERING</td>\n",
       "    </tr>\n",
       "    <tr>\n",
       "      <th>25992</th>\n",
       "      <td>2018-04-19 01:12:00</td>\n",
       "      <td>-0.348781</td>\n",
       "      <td>-1.000000</td>\n",
       "      <td>-0.717811</td>\n",
       "      <td>-0.170048</td>\n",
       "      <td>RECOVERING</td>\n",
       "    </tr>\n",
       "    <tr>\n",
       "      <th>25994</th>\n",
       "      <td>2018-04-19 01:14:00</td>\n",
       "      <td>-0.351101</td>\n",
       "      <td>-1.000000</td>\n",
       "      <td>-0.718568</td>\n",
       "      <td>-0.149997</td>\n",
       "      <td>RECOVERING</td>\n",
       "    </tr>\n",
       "    <tr>\n",
       "      <th>25996</th>\n",
       "      <td>2018-04-19 01:16:00</td>\n",
       "      <td>-0.370254</td>\n",
       "      <td>-1.000000</td>\n",
       "      <td>-0.717221</td>\n",
       "      <td>-0.130279</td>\n",
       "      <td>RECOVERING</td>\n",
       "    </tr>\n",
       "    <tr>\n",
       "      <th>25998</th>\n",
       "      <td>2018-04-19 01:18:00</td>\n",
       "      <td>-0.391393</td>\n",
       "      <td>-1.000000</td>\n",
       "      <td>-0.712306</td>\n",
       "      <td>-0.166501</td>\n",
       "      <td>RECOVERING</td>\n",
       "    </tr>\n",
       "  </tbody>\n",
       "</table>\n",
       "<p>4999 rows × 6 columns</p>\n",
       "</div>"
      ],
      "text/plain": [
       "                timestamp  sensor_25  sensor_11  sensor_36  sensor_34  \\\n",
       "16000 2018-04-12 02:40:00  -0.365892   0.753564  -0.715956  -0.422625   \n",
       "16002 2018-04-12 02:42:00  -0.355702   0.799705  -0.699396  -0.383268   \n",
       "16004 2018-04-12 02:44:00  -0.422890   0.816034  -0.717692  -0.344245   \n",
       "16006 2018-04-12 02:46:00  -0.395750   0.768888  -0.711339  -0.354285   \n",
       "16008 2018-04-12 02:48:00  -0.252140   0.760246  -0.709943  -0.336067   \n",
       "...                   ...        ...        ...        ...        ...   \n",
       "25990 2018-04-19 01:10:00  -0.389142  -1.000000  -0.729133  -0.154069   \n",
       "25992 2018-04-19 01:12:00  -0.348781  -1.000000  -0.717811  -0.170048   \n",
       "25994 2018-04-19 01:14:00  -0.351101  -1.000000  -0.718568  -0.149997   \n",
       "25996 2018-04-19 01:16:00  -0.370254  -1.000000  -0.717221  -0.130279   \n",
       "25998 2018-04-19 01:18:00  -0.391393  -1.000000  -0.712306  -0.166501   \n",
       "\n",
       "      machine_status  \n",
       "16000         NORMAL  \n",
       "16002         NORMAL  \n",
       "16004         NORMAL  \n",
       "16006         NORMAL  \n",
       "16008         NORMAL  \n",
       "...              ...  \n",
       "25990     RECOVERING  \n",
       "25992     RECOVERING  \n",
       "25994     RECOVERING  \n",
       "25996     RECOVERING  \n",
       "25998     RECOVERING  \n",
       "\n",
       "[4999 rows x 6 columns]"
      ]
     },
     "execution_count": 11,
     "metadata": {},
     "output_type": "execute_result"
    }
   ],
   "source": [
    "# going to try to keep every 2 mins rather than every min\n",
    "\n",
    "thin_data = data_around_failures[data_around_failures.index % 2 == 0]\n",
    "thin_data"
   ]
  },
  {
   "cell_type": "code",
   "execution_count": 12,
   "id": "4aa25b9e-a3b8-42db-974e-78fd0390a87c",
   "metadata": {},
   "outputs": [
    {
     "name": "stdout",
     "output_type": "stream",
     "text": [
      "timestamp         datetime64[ns]\n",
      "sensor_25                float64\n",
      "sensor_11                float64\n",
      "sensor_36                float64\n",
      "sensor_34                float64\n",
      "machine_status            object\n",
      "dtype: object \n",
      "\n"
     ]
    }
   ],
   "source": [
    "# thin_data = thin_data.convert_dtypes()\n",
    "\n",
    "print(thin_data.dtypes, '\\n')"
   ]
  },
  {
   "cell_type": "code",
   "execution_count": 15,
   "id": "45bcf15c-6fd7-4b65-8715-4bd6d96bcce4",
   "metadata": {},
   "outputs": [],
   "source": [
    "sequence_index = 'timestamp'\n",
    "# context_columns = ['machine_status']\n",
    "context_columns = None"
   ]
  },
  {
   "cell_type": "code",
   "execution_count": 16,
   "id": "a746225c-787c-4da4-95d4-b9f31e0d424f",
   "metadata": {},
   "outputs": [
    {
     "name": "stdout",
     "output_type": "stream",
     "text": [
      "PARModel(epochs=256, sample_size=1, cuda='cpu', verbose=True) instance created\n"
     ]
    },
    {
     "name": "stderr",
     "output_type": "stream",
     "text": [
      "Epoch 256 | Loss -4498.92529296875: 100%|██████████| 256/256 [16:48<00:00,  3.94s/it]  \n"
     ]
    }
   ],
   "source": [
    "model = PAR(sequence_index = sequence_index, context_columns=context_columns, verbose=True, epochs=256)\n",
    "model.fit(thin_data)"
   ]
  },
  {
   "cell_type": "code",
   "execution_count": 17,
   "id": "bbc485a9-3137-49d0-9d92-2c4f5234ac8c",
   "metadata": {},
   "outputs": [],
   "source": [
    "model.save('model_att_2.pkl')"
   ]
  },
  {
   "cell_type": "code",
   "execution_count": 18,
   "id": "0597b683-17fb-4b1e-9661-ea61c6632ae3",
   "metadata": {},
   "outputs": [
    {
     "name": "stderr",
     "output_type": "stream",
     "text": [
      "100%|██████████| 1/1 [05:37<00:00, 337.39s/it]\n"
     ]
    }
   ],
   "source": [
    "sample = model.sample(1)"
   ]
  },
  {
   "cell_type": "code",
   "execution_count": 19,
   "id": "22e6cefe-c2d9-4e32-a5a5-26cfc752e177",
   "metadata": {},
   "outputs": [
    {
     "data": {
      "text/plain": [
       "<AxesSubplot:xlabel='timestamp'>"
      ]
     },
     "execution_count": 19,
     "metadata": {},
     "output_type": "execute_result"
    },
    {
     "data": {
      "image/png": "[encoded data removed]",
      "text/plain": [
       "<Figure size 432x288 with 1 Axes>"
      ]
     },
     "metadata": {
      "needs_background": "light"
     },
     "output_type": "display_data"
    }
   ],
   "source": [
    "import matplotlib.pyplot as plt\n",
    "\n",
    "\n",
    "thin_data.set_index('timestamp').plot()"
   ]
  },
  {
   "cell_type": "code",
   "execution_count": 20,
   "id": "137a1334-5312-48e7-ae56-f8e4e16468dc",
   "metadata": {},
   "outputs": [
    {
     "data": {
      "text/plain": [
       "<AxesSubplot:xlabel='timestamp'>"
      ]
     },
     "execution_count": 20,
     "metadata": {},
     "output_type": "execute_result"
    },
    {
     "data": {
      "image/png": "[encoded data removed]",
      "text/plain": [
       "<Figure size 432x288 with 1 Axes>"
      ]
     },
     "metadata": {
      "needs_background": "light"
     },
     "output_type": "display_data"
    }
   ],
   "source": [
    "sample.set_index('timestamp').plot()"
   ]
  },
  {
   "cell_type": "markdown",
   "id": "830d7552-10ab-4a3f-a463-55b9127acf80",
   "metadata": {},
   "source": [
    "gave up on the PAR model from SDV after this + consulting with the SDV [slack](https://app.slack.com/client/T017A503B3M/C01GSDFSQ93) - they recommended trying out their CTGAN model which I do in notebook 6."
   ]
  }
 ],
 "metadata": {
  "kernelspec": {
   "display_name": "Python 3 (ipykernel)",
   "language": "python",
   "name": "python3"
  },
  "language_info": {
   "codemirror_mode": {
    "name": "ipython",
    "version": 3
   },
   "file_extension": ".py",
   "mimetype": "text/x-python",
   "name": "python",
   "nbconvert_exporter": "python",
   "pygments_lexer": "ipython3",
   "version": "3.8.8"
  }
 },
 "nbformat": 4,
 "nbformat_minor": 5
}
